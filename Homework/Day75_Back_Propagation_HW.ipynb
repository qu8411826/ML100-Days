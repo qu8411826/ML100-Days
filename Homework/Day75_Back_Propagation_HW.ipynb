{
  "nbformat": 4,
  "nbformat_minor": 0,
  "metadata": {
    "colab": {
      "name": "Day75-Back_Propagation_HW.ipynb",
      "version": "0.3.2",
      "provenance": [],
      "include_colab_link": true
    },
    "kernelspec": {
      "display_name": "Python 3",
      "language": "python",
      "name": "python3"
    }
  },
  "cells": [
    {
      "cell_type": "markdown",
      "metadata": {
        "id": "view-in-github",
        "colab_type": "text"
      },
      "source": [
        "<a href=\"https://colab.research.google.com/github/qu8411826/ML100-Days/blob/master/Homework/Day75_Back_Propagation_HW.ipynb\" target=\"_parent\"><img src=\"https://colab.research.google.com/assets/colab-badge.svg\" alt=\"Open In Colab\"/></a>"
      ]
    },
    {
      "metadata": {
        "colab_type": "text",
        "id": "RKWQIzOrYh1Y"
      },
      "cell_type": "markdown",
      "source": [
        "# 作業: \n",
        "3  層神經網路\n",
        "\n",
        "通過增加更多的中間層，以對更多關係的組合進行建模\n",
        "\n",
        "syn1 權值矩陣將隱層的組合輸出映射到最終結果，\n",
        "\n",
        "而在更新 syn1 的同時，還需要更新 syn0 權值矩陣，\n",
        "\n",
        "以從輸入資料中更好地產生這些組合"
      ]
    },
    {
      "metadata": {
        "colab_type": "text",
        "id": "2qlmtNgHYh1b"
      },
      "cell_type": "markdown",
      "source": [
        "# BP 演算法訓練的神經網路\n",
        "\n",
        "\n",
        "目標: 嘗試著用輸入去預測輸出\n",
        " \n",
        "考慮以上情形：\n",
        "給定三列輸入，試著去預測對應的一列輸出。\n",
        "\n",
        "我們可以通過簡單測量輸入與輸出值的資料來解決這一問題。\n",
        "\n",
        "最左邊的一列輸入值和輸出值是完美匹配/完全相關的。\n",
        "\n",
        "反向傳播演算法便是通過這種方式來衡量資料間統計關係進而得到模型的。\n"
      ]
    },
    {
      "metadata": {
        "colab_type": "text",
        "id": "DiYzRPqsYh1c"
      },
      "cell_type": "markdown",
      "source": [
        "# 更新3 Layers 所需參數定義\n",
        "\n",
        "X 輸入資料集，形式為矩陣，每 1 行代表 1 個訓練樣本。\n",
        "\n",
        "y 輸出資料集，形式為矩陣，每 1 行代表 1 個訓練樣本。\n",
        "\n",
        "l0 網路第 1 層，即網路輸入層。\n",
        "\n",
        "l1 網路第 2 層，常稱作隱藏層。\n",
        "\n",
        "l2 假定為網路最後一層，隨著訓練進行，其輸出應該逐漸接近正確結果\n",
        "\n",
        "syn0 第一層權值\n",
        "\n",
        "syn1 第二層權值\n",
        "\n",
        "l2_error 該值說明了神經網路預測時“丟失”的數目。\n",
        "\n",
        "l2_delta 該值為經確信度加權後的神經網路的誤差，除了確信誤差很小時，它近似等於預測誤差。\n",
        "\n",
        "l1_error 該值為 l2_delta 經 syn1 加權後的結果，從而能夠計算得到中間層/隱層的誤差。\n",
        "\n",
        "l1_delta 該值為經確信度加權後的神經網路 l1 層的誤差，除了確信誤差很小時，它近似等於 l1_error 。"
      ]
    },
    {
      "metadata": {
        "colab_type": "code",
        "id": "588t-eEHYh1d",
        "colab": {}
      },
      "cell_type": "code",
      "source": [
        "import numpy as np\n",
        " \n",
        "# Sigmoid 函數可以將任何值都映射到一個位於 0 到  1 範圍內的值。通過它，我們可以將實數轉化為概率值\n",
        "def nonlin(x,deriv=False):\n",
        "    if(deriv==True):\n",
        "        return x*(1-x)\n",
        "    return 1/(1+np.exp(-x))\n",
        "\n",
        "X = np.array([  [0,0,1],\n",
        "                [0,1,1],\n",
        "                [1,0,1],\n",
        "                [1,1,1] ])  \n",
        "        \n",
        "# define y for output dataset            \n",
        "y = np.array([[0,0,1,1]]).T"
      ],
      "execution_count": 0,
      "outputs": []
    },
    {
      "metadata": {
        "colab_type": "code",
        "id": "qw8SMfiZYh1l",
        "colab": {}
      },
      "cell_type": "code",
      "source": [
        "\n",
        "# seed random numbers to make calculation\n",
        "# deterministic (just a good practice)\n",
        "np.random.seed(1)\n",
        "#亂數設定產生種子得到的權重初始化集仍是隨機分佈的，\n",
        "#但每次開始訓練時，得到的權重初始集分佈都是完全一致的。\n",
        " \n",
        "# initialize weights randomly with mean 0\n",
        "syn0 = 2*np.random.random((3,2)) - 1\n",
        "# define syn1\n",
        "syn1 = 2*np.random.random((2,1)) - 1\n",
        "\n",
        "iter = 0\n",
        "#該神經網路權重矩陣的初始化操作。\n",
        "#用 “syn0” 來代指 (即“輸入層-第一層隱層”間權重矩陣）\n",
        "#用 “syn1” 來代指 (即“輸入層-第二層隱層”間權重矩陣）\n"
      ],
      "execution_count": 0,
      "outputs": []
    },
    {
      "metadata": {
        "colab_type": "text",
        "id": "1ubmvWa8Yh1o"
      },
      "cell_type": "markdown",
      "source": [
        "神經網路訓練\n",
        "for 迴圈反覆運算式地多次執行訓練代碼，使得我們的網路能更好地擬合訓練集"
      ]
    },
    {
      "metadata": {
        "colab_type": "code",
        "id": "q6jQQqG0Yh1p",
        "colab": {
          "base_uri": "https://localhost:8080/",
          "height": 228
        },
        "outputId": "d047c426-e7e8-4035-d272-ad7dcae3ae59"
      },
      "cell_type": "code",
      "source": [
        "for iter in range(10000):\n",
        "    # forward propagation\n",
        "    l0 = X\n",
        "    l1 = nonlin(np.dot(l0,syn0))\n",
        "    l2 = nonlin(np.dot(l1,syn1))\n",
        "    # how much did we miss?\n",
        "    l2_error = y - l2\n",
        "    l2_delta = l2_error * nonlin(l2, True)\n",
        "    syn1 += np.dot(l1.T, l2_delta)\n",
        "\n",
        "    l1_error = np.dot(l2_error, syn1.T)\n",
        "    l1_delta = l1_error * nonlin(l1,True)\n",
        "    syn0 += np.dot(l0.T, l1_delta)\n",
        "\n",
        "    \n",
        "print(\"Output After Training:\")\n",
        "print(l1)\n",
        "print(\"\\n\\n\")\n",
        "print(l2)"
      ],
      "execution_count": 34,
      "outputs": [
        {
          "output_type": "stream",
          "text": [
            "Output After Training:\n",
            "[[1.44596748e-05 8.25875378e-06]\n",
            " [8.69704173e-06 4.99137422e-06]\n",
            " [9.98314519e-01 9.99033070e-01]\n",
            " [9.97200834e-01 9.98401119e-01]]\n",
            "\n",
            "\n",
            "\n",
            "[[0.50001701]\n",
            " [0.50001026]\n",
            " [0.99844463]\n",
            " [0.99843649]]\n"
          ],
          "name": "stdout"
        }
      ]
    },
    {
      "metadata": {
        "id": "DFvEU-cVLxYW",
        "colab_type": "code",
        "colab": {}
      },
      "cell_type": "code",
      "source": [
        ""
      ],
      "execution_count": 0,
      "outputs": []
    }
  ]
}