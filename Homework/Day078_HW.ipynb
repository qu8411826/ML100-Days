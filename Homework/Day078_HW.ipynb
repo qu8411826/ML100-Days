{
  "nbformat": 4,
  "nbformat_minor": 0,
  "metadata": {
    "colab": {
      "name": "Day078_HW.ipynb",
      "version": "0.3.2",
      "provenance": [],
      "include_colab_link": true
    },
    "kernelspec": {
      "name": "python3",
      "display_name": "Python 3"
    },
    "accelerator": "GPU"
  },
  "cells": [
    {
      "cell_type": "markdown",
      "metadata": {
        "id": "view-in-github",
        "colab_type": "text"
      },
      "source": [
        "<a href=\"https://colab.research.google.com/github/qu8411826/ML100-Days/blob/master/Homework/Day078_HW.ipynb\" target=\"_parent\"><img src=\"https://colab.research.google.com/assets/colab-badge.svg\" alt=\"Open In Colab\"/></a>"
      ]
    },
    {
      "metadata": {
        "id": "a-xBMK4eqTDL",
        "colab_type": "text"
      },
      "cell_type": "markdown",
      "source": [
        "## Work\n",
        "1. 請嘗試將 preproc_x 替換成以每筆資料的 min/max 進行標準化至 -1 ~ 1 間，再進行訓練\n",
        "2. 請嘗試將 mlp 疊更深 (e.g 5~10 層)，進行訓練後觀察 learning curve 的走勢\n",
        "3. (optional) 請改用 GPU 進行訓練 (如果你有 GPU 的話)，比較使用 CPU 與 GPU 的訓練速度"
      ]
    },
    {
      "metadata": {
        "id": "6XWWiTciqTDM",
        "colab_type": "code",
        "colab": {
          "base_uri": "https://localhost:8080/",
          "height": 298
        },
        "outputId": "e14b68aa-4ed8-433c-af58-7b5ceb5e1ff5"
      },
      "cell_type": "code",
      "source": [
        "## 確認硬體資源\n",
        "\"\"\"\n",
        "Your code here\n",
        "\"\"\"\n",
        "!nvidia-smi"
      ],
      "execution_count": 1,
      "outputs": [
        {
          "output_type": "stream",
          "text": [
            "Sat Mar 30 08:16:34 2019       \n",
            "+-----------------------------------------------------------------------------+\n",
            "| NVIDIA-SMI 418.56       Driver Version: 410.79       CUDA Version: 10.0     |\n",
            "|-------------------------------+----------------------+----------------------+\n",
            "| GPU  Name        Persistence-M| Bus-Id        Disp.A | Volatile Uncorr. ECC |\n",
            "| Fan  Temp  Perf  Pwr:Usage/Cap|         Memory-Usage | GPU-Util  Compute M. |\n",
            "|===============================+======================+======================|\n",
            "|   0  Tesla K80           Off  | 00000000:00:04.0 Off |                    0 |\n",
            "| N/A   38C    P0    76W / 149W |    736MiB / 11441MiB |     45%      Default |\n",
            "+-------------------------------+----------------------+----------------------+\n",
            "                                                                               \n",
            "+-----------------------------------------------------------------------------+\n",
            "| Processes:                                                       GPU Memory |\n",
            "|  GPU       PID   Type   Process name                             Usage      |\n",
            "|=============================================================================|\n",
            "+-----------------------------------------------------------------------------+\n"
          ],
          "name": "stdout"
        }
      ]
    },
    {
      "metadata": {
        "id": "1WqTg85jqTDP",
        "colab_type": "code",
        "colab": {
          "base_uri": "https://localhost:8080/",
          "height": 52
        },
        "outputId": "d881a196-0ca9-4a1a-b056-5a1b27d717ea"
      },
      "cell_type": "code",
      "source": [
        "import os\n",
        "import keras\n",
        "\n",
        "# Try to enable GPU (optional)\n",
        "import tensorflow as tf\n",
        "tf.test.gpu_device_name()"
      ],
      "execution_count": 2,
      "outputs": [
        {
          "output_type": "stream",
          "text": [
            "Using TensorFlow backend.\n"
          ],
          "name": "stderr"
        },
        {
          "output_type": "execute_result",
          "data": {
            "text/plain": [
              "'/device:GPU:0'"
            ]
          },
          "metadata": {
            "tags": []
          },
          "execution_count": 2
        }
      ]
    },
    {
      "metadata": {
        "id": "QHDEVk-FqTDT",
        "colab_type": "code",
        "colab": {}
      },
      "cell_type": "code",
      "source": [
        "train, test = keras.datasets.cifar10.load_data()"
      ],
      "execution_count": 0,
      "outputs": []
    },
    {
      "metadata": {
        "id": "xyuhi6CQqTDV",
        "colab_type": "code",
        "colab": {}
      },
      "cell_type": "code",
      "source": [
        "## 資料前處理\n",
        "\"\"\"\n",
        "Your code here\n",
        "請嘗試將 preproc_x 替換成以每筆資料的 min/max 進行標準化至 -1 ~ 1 間，再進行訓練\n",
        "\"\"\"\n",
        "from sklearn.preprocessing import Normalizer\n",
        "\n",
        "def preproc_x(x_train, x_test):\n",
        "  x_train = x_train.reshape((len(x_train), -1))\n",
        "  x_test = x_test.reshape((len(x_test), -1))\n",
        "  norm_mod = Normalizer()\n",
        "  norm_mod.fit(x_train)\n",
        "  x_train = norm_mod.transform(x_train)\n",
        "  x_test = norm_mod.transform(x_test)\n",
        "  return (x_train, x_test)\n",
        "\n",
        "def preproc_y(y, num_classes=10):\n",
        "    if y.shape[-1] == 1:\n",
        "        y = keras.utils.to_categorical(y, num_classes)\n",
        "    return y    "
      ],
      "execution_count": 0,
      "outputs": []
    },
    {
      "metadata": {
        "id": "dQJGIoqlsHYS",
        "colab_type": "code",
        "colab": {
          "base_uri": "https://localhost:8080/",
          "height": 34
        },
        "outputId": "84cf9b54-9f8d-4048-c9a3-d347527b5ea6"
      },
      "cell_type": "code",
      "source": [
        "x_train.shape, x_test.shape"
      ],
      "execution_count": 16,
      "outputs": [
        {
          "output_type": "execute_result",
          "data": {
            "text/plain": [
              "((50000, 32, 32, 3), (10000, 32, 32, 3))"
            ]
          },
          "metadata": {
            "tags": []
          },
          "execution_count": 16
        }
      ]
    },
    {
      "metadata": {
        "id": "E-fqsPNwqTDX",
        "colab_type": "code",
        "colab": {}
      },
      "cell_type": "code",
      "source": [
        "x_train, y_train = train\n",
        "x_test, y_test = test\n",
        "\n",
        "# Preproc the inputs\n",
        "(x_train,x_test) = preproc_x(x_train, x_test)\n",
        "\n",
        "# Preprc the outputs\n",
        "y_train = preproc_y(y_train)\n",
        "y_test = preproc_y(y_test)"
      ],
      "execution_count": 0,
      "outputs": []
    },
    {
      "metadata": {
        "id": "jpNHXic-qTDb",
        "colab_type": "code",
        "colab": {}
      },
      "cell_type": "code",
      "source": [
        "\"\"\"\n",
        "Your code here\n",
        "\"\"\"\n",
        "def build_mlp(input_shape, output_units=10, num_neurons=[512, 256, 128]):\n",
        "    input_layer = keras.layers.Input(input_shape)\n",
        "    \n",
        "    for i, n_units in enumerate(num_neurons):\n",
        "        if i == 0:\n",
        "            x = keras.layers.Dense(units=n_units, activation=\"relu\", name=\"hidden_layer\"+str(i+1))(input_layer)\n",
        "        else:\n",
        "            x = keras.layers.Dense(units=n_units, activation=\"relu\", name=\"hidden_layer\"+str(i+1))(x)\n",
        "    \n",
        "    out = keras.layers.Dense(units=output_units, activation=\"softmax\", name=\"output\")(x)\n",
        "    \n",
        "    model = keras.models.Model(inputs=[input_layer], outputs=[out])\n",
        "    return model"
      ],
      "execution_count": 0,
      "outputs": []
    },
    {
      "metadata": {
        "id": "CxFRzNt1uM_X",
        "colab_type": "code",
        "colab": {
          "base_uri": "https://localhost:8080/",
          "height": 316
        },
        "outputId": "07192e60-2cb5-46bf-cf9b-37bff5b92fc8"
      },
      "cell_type": "code",
      "source": [
        "model = build_mlp(input_shape=x_train.shape[1:])\n",
        "model.summary()"
      ],
      "execution_count": 24,
      "outputs": [
        {
          "output_type": "stream",
          "text": [
            "_________________________________________________________________\n",
            "Layer (type)                 Output Shape              Param #   \n",
            "=================================================================\n",
            "input_2 (InputLayer)         (None, 3072)              0         \n",
            "_________________________________________________________________\n",
            "hidden_layer1 (Dense)        (None, 512)               1573376   \n",
            "_________________________________________________________________\n",
            "hidden_layer2 (Dense)        (None, 256)               131328    \n",
            "_________________________________________________________________\n",
            "hidden_layer3 (Dense)        (None, 128)               32896     \n",
            "_________________________________________________________________\n",
            "output (Dense)               (None, 10)                1290      \n",
            "=================================================================\n",
            "Total params: 1,738,890\n",
            "Trainable params: 1,738,890\n",
            "Non-trainable params: 0\n",
            "_________________________________________________________________\n"
          ],
          "name": "stdout"
        }
      ]
    },
    {
      "metadata": {
        "id": "P0UIzx1cqTDe",
        "colab_type": "code",
        "colab": {}
      },
      "cell_type": "code",
      "source": [
        "## 超參數設定\n",
        "LEARNING_RATE = 0.001\n",
        "EPOCHS = 100\n",
        "BATCH_SIZE = 256"
      ],
      "execution_count": 0,
      "outputs": []
    },
    {
      "metadata": {
        "id": "gdm07LhpqTDg",
        "colab_type": "code",
        "colab": {}
      },
      "cell_type": "code",
      "source": [
        "optimizer = keras.optimizers.Adam(lr=LEARNING_RATE)\n",
        "model.compile(loss=\"categorical_crossentropy\", metrics=[\"accuracy\"], optimizer=optimizer)"
      ],
      "execution_count": 0,
      "outputs": []
    },
    {
      "metadata": {
        "id": "ICmLMjqpqTDj",
        "colab_type": "code",
        "colab": {
          "base_uri": "https://localhost:8080/",
          "height": 3645
        },
        "outputId": "3c58584d-f7e4-4356-debd-6079e5c34466"
      },
      "cell_type": "code",
      "source": [
        "model.fit(x_train, y_train, \n",
        "          epochs=EPOCHS, \n",
        "          batch_size=BATCH_SIZE, \n",
        "          validation_data=(x_test, y_test), \n",
        "          shuffle=True)"
      ],
      "execution_count": 27,
      "outputs": [
        {
          "output_type": "stream",
          "text": [
            "WARNING:tensorflow:From /usr/local/lib/python3.6/dist-packages/tensorflow/python/ops/math_ops.py:3066: to_int32 (from tensorflow.python.ops.math_ops) is deprecated and will be removed in a future version.\n",
            "Instructions for updating:\n",
            "Use tf.cast instead.\n",
            "Train on 50000 samples, validate on 10000 samples\n",
            "Epoch 1/100\n",
            "50000/50000 [==============================] - 3s 63us/step - loss: 1.9505 - acc: 0.2855 - val_loss: 1.8045 - val_acc: 0.3502\n",
            "Epoch 2/100\n",
            "50000/50000 [==============================] - 3s 52us/step - loss: 1.7349 - acc: 0.3756 - val_loss: 1.6648 - val_acc: 0.4067\n",
            "Epoch 3/100\n",
            "50000/50000 [==============================] - 3s 50us/step - loss: 1.6446 - acc: 0.4104 - val_loss: 1.6059 - val_acc: 0.4224\n",
            "Epoch 4/100\n",
            "50000/50000 [==============================] - 3s 50us/step - loss: 1.5812 - acc: 0.4339 - val_loss: 1.6179 - val_acc: 0.4151\n",
            "Epoch 5/100\n",
            "50000/50000 [==============================] - 3s 51us/step - loss: 1.5293 - acc: 0.4542 - val_loss: 1.5262 - val_acc: 0.4573\n",
            "Epoch 6/100\n",
            "50000/50000 [==============================] - 3s 50us/step - loss: 1.4788 - acc: 0.4715 - val_loss: 1.4858 - val_acc: 0.4639\n",
            "Epoch 7/100\n",
            "50000/50000 [==============================] - 3s 53us/step - loss: 1.4485 - acc: 0.4825 - val_loss: 1.5047 - val_acc: 0.4620\n",
            "Epoch 8/100\n",
            "50000/50000 [==============================] - 3s 51us/step - loss: 1.4198 - acc: 0.4942 - val_loss: 1.4460 - val_acc: 0.4814\n",
            "Epoch 9/100\n",
            "50000/50000 [==============================] - 3s 52us/step - loss: 1.3985 - acc: 0.5004 - val_loss: 1.4391 - val_acc: 0.4862\n",
            "Epoch 10/100\n",
            "50000/50000 [==============================] - 3s 51us/step - loss: 1.3699 - acc: 0.5125 - val_loss: 1.4144 - val_acc: 0.4958\n",
            "Epoch 11/100\n",
            "50000/50000 [==============================] - 3s 52us/step - loss: 1.3338 - acc: 0.5241 - val_loss: 1.4025 - val_acc: 0.5074\n",
            "Epoch 12/100\n",
            "50000/50000 [==============================] - 2s 50us/step - loss: 1.3154 - acc: 0.5298 - val_loss: 1.3864 - val_acc: 0.5061\n",
            "Epoch 13/100\n",
            "50000/50000 [==============================] - 3s 52us/step - loss: 1.2866 - acc: 0.5417 - val_loss: 1.4356 - val_acc: 0.4897\n",
            "Epoch 14/100\n",
            "50000/50000 [==============================] - 3s 51us/step - loss: 1.2791 - acc: 0.5422 - val_loss: 1.3768 - val_acc: 0.5125\n",
            "Epoch 15/100\n",
            "50000/50000 [==============================] - 3s 52us/step - loss: 1.2523 - acc: 0.5528 - val_loss: 1.3958 - val_acc: 0.5067\n",
            "Epoch 16/100\n",
            "50000/50000 [==============================] - 3s 51us/step - loss: 1.2325 - acc: 0.5600 - val_loss: 1.3610 - val_acc: 0.5172\n",
            "Epoch 17/100\n",
            "50000/50000 [==============================] - 3s 52us/step - loss: 1.2090 - acc: 0.5684 - val_loss: 1.3562 - val_acc: 0.5200\n",
            "Epoch 18/100\n",
            "50000/50000 [==============================] - 3s 51us/step - loss: 1.1983 - acc: 0.5732 - val_loss: 1.3539 - val_acc: 0.5150\n",
            "Epoch 19/100\n",
            "50000/50000 [==============================] - 3s 54us/step - loss: 1.1721 - acc: 0.5814 - val_loss: 1.3555 - val_acc: 0.5228\n",
            "Epoch 20/100\n",
            "50000/50000 [==============================] - 3s 53us/step - loss: 1.1599 - acc: 0.5833 - val_loss: 1.3467 - val_acc: 0.5240\n",
            "Epoch 21/100\n",
            "50000/50000 [==============================] - 3s 54us/step - loss: 1.1355 - acc: 0.5942 - val_loss: 1.3415 - val_acc: 0.5252\n",
            "Epoch 22/100\n",
            "50000/50000 [==============================] - 3s 53us/step - loss: 1.1195 - acc: 0.6004 - val_loss: 1.3596 - val_acc: 0.5181\n",
            "Epoch 23/100\n",
            "50000/50000 [==============================] - 3s 52us/step - loss: 1.1047 - acc: 0.6078 - val_loss: 1.3360 - val_acc: 0.5350\n",
            "Epoch 24/100\n",
            "50000/50000 [==============================] - 3s 51us/step - loss: 1.0841 - acc: 0.6103 - val_loss: 1.3311 - val_acc: 0.5267\n",
            "Epoch 25/100\n",
            "50000/50000 [==============================] - 3s 52us/step - loss: 1.0716 - acc: 0.6183 - val_loss: 1.3425 - val_acc: 0.5291\n",
            "Epoch 26/100\n",
            "50000/50000 [==============================] - 3s 51us/step - loss: 1.0478 - acc: 0.6284 - val_loss: 1.3345 - val_acc: 0.5333\n",
            "Epoch 27/100\n",
            "50000/50000 [==============================] - 3s 52us/step - loss: 1.0398 - acc: 0.6297 - val_loss: 1.3257 - val_acc: 0.5419\n",
            "Epoch 28/100\n",
            "50000/50000 [==============================] - 3s 53us/step - loss: 1.0212 - acc: 0.6357 - val_loss: 1.3594 - val_acc: 0.5332\n",
            "Epoch 29/100\n",
            "50000/50000 [==============================] - 3s 51us/step - loss: 1.0104 - acc: 0.6400 - val_loss: 1.3545 - val_acc: 0.5334\n",
            "Epoch 30/100\n",
            "50000/50000 [==============================] - 3s 53us/step - loss: 0.9836 - acc: 0.6493 - val_loss: 1.3315 - val_acc: 0.5397\n",
            "Epoch 31/100\n",
            "50000/50000 [==============================] - 3s 50us/step - loss: 0.9703 - acc: 0.6537 - val_loss: 1.3510 - val_acc: 0.5363\n",
            "Epoch 32/100\n",
            "50000/50000 [==============================] - 3s 51us/step - loss: 0.9549 - acc: 0.6594 - val_loss: 1.3919 - val_acc: 0.5276\n",
            "Epoch 33/100\n",
            "50000/50000 [==============================] - 3s 55us/step - loss: 0.9389 - acc: 0.6654 - val_loss: 1.3724 - val_acc: 0.5371\n",
            "Epoch 34/100\n",
            "50000/50000 [==============================] - 3s 58us/step - loss: 0.9284 - acc: 0.6679 - val_loss: 1.3437 - val_acc: 0.5411\n",
            "Epoch 35/100\n",
            "50000/50000 [==============================] - 3s 51us/step - loss: 0.9024 - acc: 0.6774 - val_loss: 1.4613 - val_acc: 0.5221\n",
            "Epoch 36/100\n",
            "50000/50000 [==============================] - 3s 53us/step - loss: 0.9007 - acc: 0.6796 - val_loss: 1.3547 - val_acc: 0.5416\n",
            "Epoch 37/100\n",
            "50000/50000 [==============================] - 3s 51us/step - loss: 0.8751 - acc: 0.6892 - val_loss: 1.3953 - val_acc: 0.5277\n",
            "Epoch 38/100\n",
            "50000/50000 [==============================] - 3s 53us/step - loss: 0.8613 - acc: 0.6928 - val_loss: 1.4611 - val_acc: 0.5156\n",
            "Epoch 39/100\n",
            "50000/50000 [==============================] - 3s 51us/step - loss: 0.8444 - acc: 0.7003 - val_loss: 1.4440 - val_acc: 0.5386\n",
            "Epoch 40/100\n",
            "50000/50000 [==============================] - 3s 53us/step - loss: 0.8193 - acc: 0.7118 - val_loss: 1.4321 - val_acc: 0.5346\n",
            "Epoch 41/100\n",
            "50000/50000 [==============================] - 3s 53us/step - loss: 0.8165 - acc: 0.7093 - val_loss: 1.4933 - val_acc: 0.5190\n",
            "Epoch 42/100\n",
            "50000/50000 [==============================] - 3s 51us/step - loss: 0.8038 - acc: 0.7155 - val_loss: 1.4569 - val_acc: 0.5366\n",
            "Epoch 43/100\n",
            "50000/50000 [==============================] - 3s 53us/step - loss: 0.7764 - acc: 0.7276 - val_loss: 1.4305 - val_acc: 0.5366\n",
            "Epoch 44/100\n",
            "50000/50000 [==============================] - 3s 52us/step - loss: 0.7657 - acc: 0.7293 - val_loss: 1.4651 - val_acc: 0.5316\n",
            "Epoch 45/100\n",
            "50000/50000 [==============================] - 3s 53us/step - loss: 0.7467 - acc: 0.7340 - val_loss: 1.5695 - val_acc: 0.5176\n",
            "Epoch 46/100\n",
            "50000/50000 [==============================] - 3s 51us/step - loss: 0.7376 - acc: 0.7403 - val_loss: 1.5083 - val_acc: 0.5391\n",
            "Epoch 47/100\n",
            "50000/50000 [==============================] - 3s 53us/step - loss: 0.7184 - acc: 0.7441 - val_loss: 1.5511 - val_acc: 0.5259\n",
            "Epoch 48/100\n",
            "50000/50000 [==============================] - 3s 53us/step - loss: 0.7022 - acc: 0.7513 - val_loss: 1.5296 - val_acc: 0.5332\n",
            "Epoch 49/100\n",
            "50000/50000 [==============================] - 3s 53us/step - loss: 0.6842 - acc: 0.7589 - val_loss: 1.5428 - val_acc: 0.5333\n",
            "Epoch 50/100\n",
            "50000/50000 [==============================] - 3s 57us/step - loss: 0.6786 - acc: 0.7603 - val_loss: 1.5577 - val_acc: 0.5350\n",
            "Epoch 51/100\n",
            "50000/50000 [==============================] - 3s 53us/step - loss: 0.6597 - acc: 0.7675 - val_loss: 1.6592 - val_acc: 0.5216\n",
            "Epoch 52/100\n",
            "50000/50000 [==============================] - 3s 53us/step - loss: 0.6500 - acc: 0.7711 - val_loss: 1.6080 - val_acc: 0.5323\n",
            "Epoch 53/100\n",
            "50000/50000 [==============================] - 3s 51us/step - loss: 0.6411 - acc: 0.7733 - val_loss: 1.6097 - val_acc: 0.5394\n",
            "Epoch 54/100\n",
            "50000/50000 [==============================] - 3s 53us/step - loss: 0.6192 - acc: 0.7807 - val_loss: 1.6130 - val_acc: 0.5338\n",
            "Epoch 55/100\n",
            "50000/50000 [==============================] - 3s 51us/step - loss: 0.6033 - acc: 0.7868 - val_loss: 1.6784 - val_acc: 0.5355\n",
            "Epoch 56/100\n",
            "50000/50000 [==============================] - 3s 52us/step - loss: 0.5881 - acc: 0.7916 - val_loss: 1.6899 - val_acc: 0.5301\n",
            "Epoch 57/100\n",
            "50000/50000 [==============================] - 3s 53us/step - loss: 0.5840 - acc: 0.7968 - val_loss: 1.6943 - val_acc: 0.5340\n",
            "Epoch 58/100\n",
            "50000/50000 [==============================] - 3s 52us/step - loss: 0.5632 - acc: 0.8023 - val_loss: 1.7156 - val_acc: 0.5388\n",
            "Epoch 59/100\n",
            "50000/50000 [==============================] - 3s 54us/step - loss: 0.5500 - acc: 0.8059 - val_loss: 1.7475 - val_acc: 0.5303\n",
            "Epoch 60/100\n",
            "50000/50000 [==============================] - 3s 51us/step - loss: 0.5344 - acc: 0.8138 - val_loss: 1.7694 - val_acc: 0.5416\n",
            "Epoch 61/100\n",
            "50000/50000 [==============================] - 3s 53us/step - loss: 0.5382 - acc: 0.8103 - val_loss: 1.7653 - val_acc: 0.5296\n",
            "Epoch 62/100\n",
            "50000/50000 [==============================] - 3s 51us/step - loss: 0.5078 - acc: 0.8214 - val_loss: 1.7936 - val_acc: 0.5361\n",
            "Epoch 63/100\n",
            "50000/50000 [==============================] - 3s 53us/step - loss: 0.4963 - acc: 0.8252 - val_loss: 1.8261 - val_acc: 0.5358\n",
            "Epoch 64/100\n",
            "50000/50000 [==============================] - 3s 52us/step - loss: 0.4897 - acc: 0.8290 - val_loss: 1.8779 - val_acc: 0.5277\n",
            "Epoch 65/100\n",
            "50000/50000 [==============================] - 3s 52us/step - loss: 0.4804 - acc: 0.8316 - val_loss: 1.8617 - val_acc: 0.5224\n",
            "Epoch 66/100\n",
            "50000/50000 [==============================] - 3s 53us/step - loss: 0.4706 - acc: 0.8350 - val_loss: 1.8644 - val_acc: 0.5320\n",
            "Epoch 67/100\n",
            "50000/50000 [==============================] - 3s 51us/step - loss: 0.4495 - acc: 0.8439 - val_loss: 1.9243 - val_acc: 0.5286\n",
            "Epoch 68/100\n",
            "50000/50000 [==============================] - 3s 60us/step - loss: 0.4426 - acc: 0.8450 - val_loss: 1.9771 - val_acc: 0.5221\n",
            "Epoch 69/100\n",
            "50000/50000 [==============================] - 3s 51us/step - loss: 0.4385 - acc: 0.8465 - val_loss: 1.9698 - val_acc: 0.5283\n",
            "Epoch 70/100\n",
            "50000/50000 [==============================] - 3s 53us/step - loss: 0.4252 - acc: 0.8532 - val_loss: 2.0176 - val_acc: 0.5299\n",
            "Epoch 71/100\n",
            "50000/50000 [==============================] - 3s 52us/step - loss: 0.4209 - acc: 0.8518 - val_loss: 2.0184 - val_acc: 0.5308\n",
            "Epoch 72/100\n",
            "50000/50000 [==============================] - 3s 53us/step - loss: 0.4166 - acc: 0.8527 - val_loss: 2.0544 - val_acc: 0.5314\n",
            "Epoch 73/100\n",
            "50000/50000 [==============================] - 3s 51us/step - loss: 0.3819 - acc: 0.8659 - val_loss: 2.0798 - val_acc: 0.5251\n",
            "Epoch 74/100\n",
            "50000/50000 [==============================] - 3s 53us/step - loss: 0.4063 - acc: 0.8564 - val_loss: 2.1142 - val_acc: 0.5338\n",
            "Epoch 75/100\n",
            "50000/50000 [==============================] - 3s 51us/step - loss: 0.3684 - acc: 0.8733 - val_loss: 2.1410 - val_acc: 0.5275\n",
            "Epoch 76/100\n",
            "50000/50000 [==============================] - 3s 52us/step - loss: 0.3647 - acc: 0.8732 - val_loss: 2.1272 - val_acc: 0.5340\n",
            "Epoch 77/100\n",
            "50000/50000 [==============================] - 3s 51us/step - loss: 0.3695 - acc: 0.8717 - val_loss: 2.1826 - val_acc: 0.5274\n",
            "Epoch 78/100\n",
            "50000/50000 [==============================] - 3s 53us/step - loss: 0.3542 - acc: 0.8772 - val_loss: 2.1722 - val_acc: 0.5207\n",
            "Epoch 79/100\n",
            "50000/50000 [==============================] - 3s 52us/step - loss: 0.3392 - acc: 0.8820 - val_loss: 2.2172 - val_acc: 0.5259\n",
            "Epoch 80/100\n",
            "50000/50000 [==============================] - 3s 53us/step - loss: 0.3246 - acc: 0.8870 - val_loss: 2.3297 - val_acc: 0.5224\n",
            "Epoch 81/100\n",
            "50000/50000 [==============================] - 3s 54us/step - loss: 0.3311 - acc: 0.8839 - val_loss: 2.3435 - val_acc: 0.5242\n",
            "Epoch 82/100\n",
            "50000/50000 [==============================] - 3s 51us/step - loss: 0.3254 - acc: 0.8874 - val_loss: 2.3545 - val_acc: 0.5230\n",
            "Epoch 83/100\n",
            "50000/50000 [==============================] - 3s 53us/step - loss: 0.3107 - acc: 0.8930 - val_loss: 2.3359 - val_acc: 0.5265\n",
            "Epoch 84/100\n",
            "50000/50000 [==============================] - 2s 50us/step - loss: 0.3066 - acc: 0.8929 - val_loss: 2.3345 - val_acc: 0.5237\n",
            "Epoch 85/100\n",
            "50000/50000 [==============================] - 3s 50us/step - loss: 0.2849 - acc: 0.9027 - val_loss: 2.3862 - val_acc: 0.5246\n",
            "Epoch 86/100\n",
            "50000/50000 [==============================] - 3s 53us/step - loss: 0.2792 - acc: 0.9040 - val_loss: 2.4605 - val_acc: 0.5232\n",
            "Epoch 87/100\n",
            "50000/50000 [==============================] - 3s 50us/step - loss: 0.2965 - acc: 0.8959 - val_loss: 2.4503 - val_acc: 0.5242\n",
            "Epoch 88/100\n",
            "50000/50000 [==============================] - 3s 53us/step - loss: 0.2818 - acc: 0.9019 - val_loss: 2.5006 - val_acc: 0.5258\n",
            "Epoch 89/100\n",
            "50000/50000 [==============================] - 3s 52us/step - loss: 0.2780 - acc: 0.9019 - val_loss: 2.5579 - val_acc: 0.5189\n",
            "Epoch 90/100\n",
            "50000/50000 [==============================] - 3s 51us/step - loss: 0.2765 - acc: 0.9042 - val_loss: 2.5412 - val_acc: 0.5277\n",
            "Epoch 91/100\n",
            "50000/50000 [==============================] - 3s 51us/step - loss: 0.2451 - acc: 0.9166 - val_loss: 2.5525 - val_acc: 0.5268\n",
            "Epoch 92/100\n",
            "50000/50000 [==============================] - 3s 52us/step - loss: 0.2479 - acc: 0.9129 - val_loss: 2.5953 - val_acc: 0.5176\n",
            "Epoch 93/100\n",
            "50000/50000 [==============================] - 3s 51us/step - loss: 0.2525 - acc: 0.9115 - val_loss: 2.5968 - val_acc: 0.5266\n",
            "Epoch 94/100\n",
            "50000/50000 [==============================] - 3s 51us/step - loss: 0.2551 - acc: 0.9102 - val_loss: 2.6377 - val_acc: 0.5189\n",
            "Epoch 95/100\n",
            "50000/50000 [==============================] - 3s 50us/step - loss: 0.2493 - acc: 0.9129 - val_loss: 2.6366 - val_acc: 0.5244\n",
            "Epoch 96/100\n",
            "50000/50000 [==============================] - 3s 52us/step - loss: 0.2339 - acc: 0.9187 - val_loss: 2.6791 - val_acc: 0.5252\n",
            "Epoch 97/100\n",
            "50000/50000 [==============================] - 2s 50us/step - loss: 0.2085 - acc: 0.9300 - val_loss: 2.7826 - val_acc: 0.5226\n",
            "Epoch 98/100\n",
            "50000/50000 [==============================] - 3s 52us/step - loss: 0.2285 - acc: 0.9199 - val_loss: 2.7534 - val_acc: 0.5170\n",
            "Epoch 99/100\n",
            "50000/50000 [==============================] - 3s 51us/step - loss: 0.2251 - acc: 0.9226 - val_loss: 2.7820 - val_acc: 0.5215\n",
            "Epoch 100/100\n",
            "50000/50000 [==============================] - 3s 53us/step - loss: 0.2083 - acc: 0.9287 - val_loss: 2.8616 - val_acc: 0.5176\n"
          ],
          "name": "stdout"
        },
        {
          "output_type": "execute_result",
          "data": {
            "text/plain": [
              "<keras.callbacks.History at 0x7f54e5786ef0>"
            ]
          },
          "metadata": {
            "tags": []
          },
          "execution_count": 27
        }
      ]
    },
    {
      "metadata": {
        "id": "B-OoDf7GqTDm",
        "colab_type": "code",
        "colab": {
          "base_uri": "https://localhost:8080/",
          "height": 706
        },
        "outputId": "93731545-740f-45db-e41e-ee8b88f33847"
      },
      "cell_type": "code",
      "source": [
        "import matplotlib.pyplot as plt\n",
        "\n",
        "\n",
        "train_loss = model.history.history[\"loss\"]\n",
        "valid_loss = model.history.history[\"val_loss\"]\n",
        "\n",
        "train_acc = model.history.history[\"acc\"]\n",
        "valid_acc = model.history.history[\"val_acc\"]\n",
        "\n",
        "plt.plot(range(len(train_loss)), train_loss, label=\"train loss\")\n",
        "plt.plot(range(len(valid_loss)), valid_loss, label=\"valid loss\")\n",
        "plt.legend()\n",
        "plt.title(\"Loss\")\n",
        "plt.show()\n",
        "\n",
        "plt.plot(range(len(train_acc)), train_acc, label=\"train accuracy\")\n",
        "plt.plot(range(len(valid_acc)), valid_acc, label=\"valid accuracy\")\n",
        "plt.legend()\n",
        "plt.title(\"Accuracy\")\n",
        "plt.show()"
      ],
      "execution_count": 28,
      "outputs": [
        {
          "output_type": "display_data",
          "data": {
            "image/png": "[encoded data removed]",
            "text/plain": [
              "<Figure size 576x396 with 1 Axes>"
            ]
          },
          "metadata": {
            "tags": []
          }
        },
        {
          "output_type": "display_data",
          "data": {
            "image/png": "[encoded data removed]",
            "text/plain": [
              "<Figure size 576x396 with 1 Axes>"
            ]
          },
          "metadata": {
            "tags": []
          }
        }
      ]
    },
    {
      "metadata": {
        "id": "wF2fEyJjvtsm",
        "colab_type": "code",
        "colab": {
          "base_uri": "https://localhost:8080/",
          "height": 386
        },
        "outputId": "54aafb20-559b-40b0-ce19-cdc194502d6b"
      },
      "cell_type": "code",
      "source": [
        "model5 = build_mlp(input_shape=x_train.shape[1:], num_neurons=[512, 256, 128, 64, 32])\n",
        "model5.summary()"
      ],
      "execution_count": 29,
      "outputs": [
        {
          "output_type": "stream",
          "text": [
            "_________________________________________________________________\n",
            "Layer (type)                 Output Shape              Param #   \n",
            "=================================================================\n",
            "input_3 (InputLayer)         (None, 3072)              0         \n",
            "_________________________________________________________________\n",
            "hidden_layer1 (Dense)        (None, 512)               1573376   \n",
            "_________________________________________________________________\n",
            "hidden_layer2 (Dense)        (None, 256)               131328    \n",
            "_________________________________________________________________\n",
            "hidden_layer3 (Dense)        (None, 128)               32896     \n",
            "_________________________________________________________________\n",
            "hidden_layer4 (Dense)        (None, 64)                8256      \n",
            "_________________________________________________________________\n",
            "hidden_layer5 (Dense)        (None, 32)                2080      \n",
            "_________________________________________________________________\n",
            "output (Dense)               (None, 10)                330       \n",
            "=================================================================\n",
            "Total params: 1,748,266\n",
            "Trainable params: 1,748,266\n",
            "Non-trainable params: 0\n",
            "_________________________________________________________________\n"
          ],
          "name": "stdout"
        }
      ]
    },
    {
      "metadata": {
        "id": "5az7_zhzus0G",
        "colab_type": "code",
        "colab": {}
      },
      "cell_type": "code",
      "source": [
        "optimizer = keras.optimizers.Adam(lr=LEARNING_RATE)\n",
        "model5.compile(loss=\"categorical_crossentropy\", metrics=[\"accuracy\"], optimizer=optimizer)"
      ],
      "execution_count": 0,
      "outputs": []
    },
    {
      "metadata": {
        "id": "fZ_SWPnPwP3o",
        "colab_type": "code",
        "colab": {
          "base_uri": "https://localhost:8080/",
          "height": 3592
        },
        "outputId": "46aa5736-06d8-422e-ad3e-e76a3123c8b2"
      },
      "cell_type": "code",
      "source": [
        "model5.fit(x_train, y_train, \n",
        "          epochs=EPOCHS, \n",
        "          batch_size=BATCH_SIZE, \n",
        "          validation_data=(x_test, y_test), \n",
        "          shuffle=True)"
      ],
      "execution_count": 31,
      "outputs": [
        {
          "output_type": "stream",
          "text": [
            "Train on 50000 samples, validate on 10000 samples\n",
            "Epoch 1/100\n",
            "50000/50000 [==============================] - 3s 67us/step - loss: 2.0176 - acc: 0.2449 - val_loss: 1.9253 - val_acc: 0.3123\n",
            "Epoch 2/100\n",
            "50000/50000 [==============================] - 3s 60us/step - loss: 1.7919 - acc: 0.3518 - val_loss: 1.7367 - val_acc: 0.3656\n",
            "Epoch 3/100\n",
            "50000/50000 [==============================] - 3s 57us/step - loss: 1.7081 - acc: 0.3825 - val_loss: 1.6548 - val_acc: 0.4081\n",
            "Epoch 4/100\n",
            "50000/50000 [==============================] - 3s 60us/step - loss: 1.6360 - acc: 0.4127 - val_loss: 1.6003 - val_acc: 0.4320\n",
            "Epoch 5/100\n",
            "50000/50000 [==============================] - 3s 54us/step - loss: 1.5894 - acc: 0.4289 - val_loss: 1.5845 - val_acc: 0.4368\n",
            "Epoch 6/100\n",
            "50000/50000 [==============================] - 3s 57us/step - loss: 1.5355 - acc: 0.4496 - val_loss: 1.5453 - val_acc: 0.4512\n",
            "Epoch 7/100\n",
            "50000/50000 [==============================] - 3s 54us/step - loss: 1.4996 - acc: 0.4620 - val_loss: 1.5444 - val_acc: 0.4388\n",
            "Epoch 8/100\n",
            "50000/50000 [==============================] - 3s 57us/step - loss: 1.4623 - acc: 0.4767 - val_loss: 1.5020 - val_acc: 0.4702\n",
            "Epoch 9/100\n",
            "50000/50000 [==============================] - 3s 54us/step - loss: 1.4304 - acc: 0.4861 - val_loss: 1.4509 - val_acc: 0.4798\n",
            "Epoch 10/100\n",
            "50000/50000 [==============================] - 3s 57us/step - loss: 1.4018 - acc: 0.4971 - val_loss: 1.4594 - val_acc: 0.4811\n",
            "Epoch 11/100\n",
            "50000/50000 [==============================] - 3s 54us/step - loss: 1.3763 - acc: 0.5076 - val_loss: 1.4527 - val_acc: 0.4831\n",
            "Epoch 12/100\n",
            "50000/50000 [==============================] - 3s 57us/step - loss: 1.3586 - acc: 0.5141 - val_loss: 1.4275 - val_acc: 0.4911\n",
            "Epoch 13/100\n",
            "50000/50000 [==============================] - 3s 55us/step - loss: 1.3247 - acc: 0.5259 - val_loss: 1.3942 - val_acc: 0.5055\n",
            "Epoch 14/100\n",
            "50000/50000 [==============================] - 3s 58us/step - loss: 1.3073 - acc: 0.5312 - val_loss: 1.3718 - val_acc: 0.5183\n",
            "Epoch 15/100\n",
            "50000/50000 [==============================] - 3s 57us/step - loss: 1.2871 - acc: 0.5400 - val_loss: 1.4044 - val_acc: 0.5010\n",
            "Epoch 16/100\n",
            "50000/50000 [==============================] - 3s 55us/step - loss: 1.2677 - acc: 0.5446 - val_loss: 1.4449 - val_acc: 0.4863\n",
            "Epoch 17/100\n",
            "50000/50000 [==============================] - 3s 57us/step - loss: 1.2569 - acc: 0.5489 - val_loss: 1.3781 - val_acc: 0.5066\n",
            "Epoch 18/100\n",
            "50000/50000 [==============================] - 3s 54us/step - loss: 1.2414 - acc: 0.5549 - val_loss: 1.3703 - val_acc: 0.5144\n",
            "Epoch 19/100\n",
            "50000/50000 [==============================] - 3s 58us/step - loss: 1.2144 - acc: 0.5634 - val_loss: 1.4200 - val_acc: 0.5041\n",
            "Epoch 20/100\n",
            "50000/50000 [==============================] - 3s 54us/step - loss: 1.2009 - acc: 0.5695 - val_loss: 1.3536 - val_acc: 0.5192\n",
            "Epoch 21/100\n",
            "50000/50000 [==============================] - 3s 57us/step - loss: 1.1741 - acc: 0.5793 - val_loss: 1.3744 - val_acc: 0.5144\n",
            "Epoch 22/100\n",
            "50000/50000 [==============================] - 3s 53us/step - loss: 1.1576 - acc: 0.5856 - val_loss: 1.4064 - val_acc: 0.5105\n",
            "Epoch 23/100\n",
            "50000/50000 [==============================] - 3s 57us/step - loss: 1.1433 - acc: 0.5902 - val_loss: 1.3336 - val_acc: 0.5306\n",
            "Epoch 24/100\n",
            "50000/50000 [==============================] - 3s 55us/step - loss: 1.1201 - acc: 0.5988 - val_loss: 1.3466 - val_acc: 0.5282\n",
            "Epoch 25/100\n",
            "50000/50000 [==============================] - 3s 58us/step - loss: 1.1075 - acc: 0.6040 - val_loss: 1.3379 - val_acc: 0.5324\n",
            "Epoch 26/100\n",
            "50000/50000 [==============================] - 3s 54us/step - loss: 1.0960 - acc: 0.6082 - val_loss: 1.3663 - val_acc: 0.5147\n",
            "Epoch 27/100\n",
            "50000/50000 [==============================] - 3s 58us/step - loss: 1.0807 - acc: 0.6112 - val_loss: 1.3816 - val_acc: 0.5206\n",
            "Epoch 28/100\n",
            "50000/50000 [==============================] - 3s 57us/step - loss: 1.0641 - acc: 0.6203 - val_loss: 1.3498 - val_acc: 0.5269\n",
            "Epoch 29/100\n",
            "50000/50000 [==============================] - 3s 60us/step - loss: 1.0418 - acc: 0.6279 - val_loss: 1.3745 - val_acc: 0.5250\n",
            "Epoch 30/100\n",
            "50000/50000 [==============================] - 3s 55us/step - loss: 1.0241 - acc: 0.6334 - val_loss: 1.3437 - val_acc: 0.5382\n",
            "Epoch 31/100\n",
            "50000/50000 [==============================] - 3s 58us/step - loss: 1.0087 - acc: 0.6373 - val_loss: 1.3791 - val_acc: 0.5306\n",
            "Epoch 32/100\n",
            "50000/50000 [==============================] - 3s 58us/step - loss: 0.9948 - acc: 0.6462 - val_loss: 1.3875 - val_acc: 0.5353\n",
            "Epoch 33/100\n",
            "50000/50000 [==============================] - 3s 55us/step - loss: 0.9756 - acc: 0.6515 - val_loss: 1.4080 - val_acc: 0.5308\n",
            "Epoch 34/100\n",
            "50000/50000 [==============================] - 3s 58us/step - loss: 0.9627 - acc: 0.6565 - val_loss: 1.4156 - val_acc: 0.5314\n",
            "Epoch 35/100\n",
            "50000/50000 [==============================] - 3s 54us/step - loss: 0.9506 - acc: 0.6606 - val_loss: 1.3837 - val_acc: 0.5338\n",
            "Epoch 36/100\n",
            "50000/50000 [==============================] - 3s 57us/step - loss: 0.9333 - acc: 0.6663 - val_loss: 1.4328 - val_acc: 0.5198\n",
            "Epoch 37/100\n",
            "50000/50000 [==============================] - 3s 54us/step - loss: 0.9046 - acc: 0.6759 - val_loss: 1.4832 - val_acc: 0.5232\n",
            "Epoch 38/100\n",
            "50000/50000 [==============================] - 3s 57us/step - loss: 0.8976 - acc: 0.6800 - val_loss: 1.4394 - val_acc: 0.5310\n",
            "Epoch 39/100\n",
            "50000/50000 [==============================] - 3s 55us/step - loss: 0.8767 - acc: 0.6863 - val_loss: 1.4384 - val_acc: 0.5314\n",
            "Epoch 40/100\n",
            "50000/50000 [==============================] - 3s 58us/step - loss: 0.8615 - acc: 0.6916 - val_loss: 1.4624 - val_acc: 0.5228\n",
            "Epoch 41/100\n",
            "50000/50000 [==============================] - 3s 55us/step - loss: 0.8392 - acc: 0.7010 - val_loss: 1.4802 - val_acc: 0.5194\n",
            "Epoch 42/100\n",
            "50000/50000 [==============================] - 3s 58us/step - loss: 0.8279 - acc: 0.7031 - val_loss: 1.4638 - val_acc: 0.5308\n",
            "Epoch 43/100\n",
            "50000/50000 [==============================] - 3s 55us/step - loss: 0.8117 - acc: 0.7108 - val_loss: 1.5062 - val_acc: 0.5294\n",
            "Epoch 44/100\n",
            "50000/50000 [==============================] - 3s 58us/step - loss: 0.7942 - acc: 0.7176 - val_loss: 1.4793 - val_acc: 0.5307\n",
            "Epoch 45/100\n",
            "50000/50000 [==============================] - 3s 54us/step - loss: 0.7785 - acc: 0.7224 - val_loss: 1.5341 - val_acc: 0.5345\n",
            "Epoch 46/100\n",
            "50000/50000 [==============================] - 3s 58us/step - loss: 0.7580 - acc: 0.7269 - val_loss: 1.5260 - val_acc: 0.5303\n",
            "Epoch 47/100\n",
            "50000/50000 [==============================] - 3s 56us/step - loss: 0.7513 - acc: 0.7310 - val_loss: 1.6109 - val_acc: 0.5097\n",
            "Epoch 48/100\n",
            "50000/50000 [==============================] - 3s 57us/step - loss: 0.7381 - acc: 0.7349 - val_loss: 1.6016 - val_acc: 0.5244\n",
            "Epoch 49/100\n",
            "50000/50000 [==============================] - 3s 59us/step - loss: 0.7188 - acc: 0.7435 - val_loss: 1.5847 - val_acc: 0.5239\n",
            "Epoch 50/100\n",
            "50000/50000 [==============================] - 3s 55us/step - loss: 0.7014 - acc: 0.7494 - val_loss: 1.6075 - val_acc: 0.5297\n",
            "Epoch 51/100\n",
            "50000/50000 [==============================] - 3s 58us/step - loss: 0.6859 - acc: 0.7571 - val_loss: 1.5964 - val_acc: 0.5346\n",
            "Epoch 52/100\n",
            "50000/50000 [==============================] - 3s 55us/step - loss: 0.6786 - acc: 0.7565 - val_loss: 1.6721 - val_acc: 0.5225\n",
            "Epoch 53/100\n",
            "50000/50000 [==============================] - 3s 58us/step - loss: 0.6606 - acc: 0.7636 - val_loss: 1.7141 - val_acc: 0.5215\n",
            "Epoch 54/100\n",
            "50000/50000 [==============================] - 3s 54us/step - loss: 0.6426 - acc: 0.7698 - val_loss: 1.6988 - val_acc: 0.5267\n",
            "Epoch 55/100\n",
            "50000/50000 [==============================] - 3s 58us/step - loss: 0.6337 - acc: 0.7734 - val_loss: 1.7057 - val_acc: 0.5267\n",
            "Epoch 56/100\n",
            "50000/50000 [==============================] - 3s 55us/step - loss: 0.6163 - acc: 0.7782 - val_loss: 1.7746 - val_acc: 0.5225\n",
            "Epoch 57/100\n",
            "50000/50000 [==============================] - 3s 58us/step - loss: 0.5960 - acc: 0.7863 - val_loss: 1.7832 - val_acc: 0.5245\n",
            "Epoch 58/100\n",
            "50000/50000 [==============================] - 3s 54us/step - loss: 0.6064 - acc: 0.7824 - val_loss: 1.7995 - val_acc: 0.5224\n",
            "Epoch 59/100\n",
            "50000/50000 [==============================] - 3s 58us/step - loss: 0.5923 - acc: 0.7869 - val_loss: 1.8280 - val_acc: 0.5185\n",
            "Epoch 60/100\n",
            "50000/50000 [==============================] - 3s 54us/step - loss: 0.5508 - acc: 0.8032 - val_loss: 1.8543 - val_acc: 0.5244\n",
            "Epoch 61/100\n",
            "50000/50000 [==============================] - 3s 58us/step - loss: 0.5480 - acc: 0.8058 - val_loss: 1.8966 - val_acc: 0.5238\n",
            "Epoch 62/100\n",
            "50000/50000 [==============================] - 3s 55us/step - loss: 0.5582 - acc: 0.8006 - val_loss: 1.9281 - val_acc: 0.5209\n",
            "Epoch 63/100\n",
            "50000/50000 [==============================] - 3s 58us/step - loss: 0.5277 - acc: 0.8104 - val_loss: 1.9753 - val_acc: 0.5182\n",
            "Epoch 64/100\n",
            "50000/50000 [==============================] - 3s 55us/step - loss: 0.5184 - acc: 0.8148 - val_loss: 1.9453 - val_acc: 0.5198\n",
            "Epoch 65/100\n",
            "50000/50000 [==============================] - 3s 58us/step - loss: 0.5144 - acc: 0.8139 - val_loss: 1.9754 - val_acc: 0.5198\n",
            "Epoch 66/100\n",
            "50000/50000 [==============================] - 3s 55us/step - loss: 0.5028 - acc: 0.8194 - val_loss: 2.0371 - val_acc: 0.5173\n",
            "Epoch 67/100\n",
            "50000/50000 [==============================] - 3s 58us/step - loss: 0.4829 - acc: 0.8270 - val_loss: 1.9684 - val_acc: 0.5271\n",
            "Epoch 68/100\n",
            "50000/50000 [==============================] - 3s 55us/step - loss: 0.4639 - acc: 0.8352 - val_loss: 2.0537 - val_acc: 0.5099\n",
            "Epoch 69/100\n",
            "50000/50000 [==============================] - 3s 58us/step - loss: 0.4704 - acc: 0.8311 - val_loss: 2.1070 - val_acc: 0.5171\n",
            "Epoch 70/100\n",
            "50000/50000 [==============================] - 3s 54us/step - loss: 0.4662 - acc: 0.8330 - val_loss: 2.1149 - val_acc: 0.5171\n",
            "Epoch 71/100\n",
            "50000/50000 [==============================] - 3s 59us/step - loss: 0.4381 - acc: 0.8439 - val_loss: 2.2225 - val_acc: 0.5153\n",
            "Epoch 72/100\n",
            "50000/50000 [==============================] - 3s 55us/step - loss: 0.4368 - acc: 0.8428 - val_loss: 2.2086 - val_acc: 0.5234\n",
            "Epoch 73/100\n",
            "50000/50000 [==============================] - 3s 59us/step - loss: 0.4303 - acc: 0.8464 - val_loss: 2.1961 - val_acc: 0.5270\n",
            "Epoch 74/100\n",
            "50000/50000 [==============================] - 3s 55us/step - loss: 0.4190 - acc: 0.8516 - val_loss: 2.3006 - val_acc: 0.5204\n",
            "Epoch 75/100\n",
            "50000/50000 [==============================] - 3s 58us/step - loss: 0.4118 - acc: 0.8536 - val_loss: 2.2420 - val_acc: 0.5070\n",
            "Epoch 76/100\n",
            "50000/50000 [==============================] - 3s 55us/step - loss: 0.4098 - acc: 0.8530 - val_loss: 2.3202 - val_acc: 0.5162\n",
            "Epoch 77/100\n",
            "50000/50000 [==============================] - 3s 58us/step - loss: 0.3976 - acc: 0.8581 - val_loss: 2.3360 - val_acc: 0.5212\n",
            "Epoch 78/100\n",
            "50000/50000 [==============================] - 3s 55us/step - loss: 0.3916 - acc: 0.8595 - val_loss: 2.4612 - val_acc: 0.5157\n",
            "Epoch 79/100\n",
            "50000/50000 [==============================] - 3s 58us/step - loss: 0.3775 - acc: 0.8647 - val_loss: 2.4009 - val_acc: 0.5151\n",
            "Epoch 80/100\n",
            "50000/50000 [==============================] - 3s 54us/step - loss: 0.3974 - acc: 0.8564 - val_loss: 2.3815 - val_acc: 0.5168\n",
            "Epoch 81/100\n",
            "50000/50000 [==============================] - 3s 58us/step - loss: 0.3519 - acc: 0.8736 - val_loss: 2.5029 - val_acc: 0.5148\n",
            "Epoch 82/100\n",
            "50000/50000 [==============================] - 3s 58us/step - loss: 0.3774 - acc: 0.8653 - val_loss: 2.4255 - val_acc: 0.5248\n",
            "Epoch 83/100\n",
            "50000/50000 [==============================] - 3s 55us/step - loss: 0.3491 - acc: 0.8750 - val_loss: 2.4428 - val_acc: 0.5185\n",
            "Epoch 84/100\n",
            "50000/50000 [==============================] - 3s 59us/step - loss: 0.3343 - acc: 0.8820 - val_loss: 2.5248 - val_acc: 0.5223\n",
            "Epoch 85/100\n",
            "50000/50000 [==============================] - 3s 55us/step - loss: 0.3275 - acc: 0.8837 - val_loss: 2.6017 - val_acc: 0.5167\n",
            "Epoch 86/100\n",
            "50000/50000 [==============================] - 3s 58us/step - loss: 0.3440 - acc: 0.8757 - val_loss: 2.5492 - val_acc: 0.5171\n",
            "Epoch 87/100\n",
            "50000/50000 [==============================] - 3s 55us/step - loss: 0.3429 - acc: 0.8770 - val_loss: 2.5990 - val_acc: 0.5144\n",
            "Epoch 88/100\n",
            "50000/50000 [==============================] - 3s 58us/step - loss: 0.3183 - acc: 0.8876 - val_loss: 2.6246 - val_acc: 0.5241\n",
            "Epoch 89/100\n",
            "50000/50000 [==============================] - 3s 55us/step - loss: 0.3224 - acc: 0.8838 - val_loss: 2.7252 - val_acc: 0.5069\n",
            "Epoch 90/100\n",
            "50000/50000 [==============================] - 3s 58us/step - loss: 0.3089 - acc: 0.8884 - val_loss: 2.7001 - val_acc: 0.5062\n",
            "Epoch 91/100\n",
            "50000/50000 [==============================] - 3s 55us/step - loss: 0.3084 - acc: 0.8901 - val_loss: 2.7510 - val_acc: 0.5230\n",
            "Epoch 92/100\n",
            "50000/50000 [==============================] - 3s 58us/step - loss: 0.2950 - acc: 0.8950 - val_loss: 2.7691 - val_acc: 0.5132\n",
            "Epoch 93/100\n",
            "50000/50000 [==============================] - 3s 55us/step - loss: 0.2971 - acc: 0.8940 - val_loss: 2.7517 - val_acc: 0.5172\n",
            "Epoch 94/100\n",
            "50000/50000 [==============================] - 3s 58us/step - loss: 0.3080 - acc: 0.8888 - val_loss: 2.7464 - val_acc: 0.5117\n",
            "Epoch 95/100\n",
            "50000/50000 [==============================] - 3s 55us/step - loss: 0.2640 - acc: 0.9052 - val_loss: 2.8272 - val_acc: 0.5165\n",
            "Epoch 96/100\n",
            "50000/50000 [==============================] - 3s 58us/step - loss: 0.2748 - acc: 0.9013 - val_loss: 2.8312 - val_acc: 0.5105\n",
            "Epoch 97/100\n",
            "50000/50000 [==============================] - 3s 59us/step - loss: 0.2862 - acc: 0.8967 - val_loss: 2.9040 - val_acc: 0.5157\n",
            "Epoch 98/100\n",
            "50000/50000 [==============================] - 3s 58us/step - loss: 0.2723 - acc: 0.9035 - val_loss: 2.9494 - val_acc: 0.5127\n",
            "Epoch 99/100\n",
            "50000/50000 [==============================] - 4s 74us/step - loss: 0.2851 - acc: 0.8973 - val_loss: 2.8679 - val_acc: 0.5124\n",
            "Epoch 100/100\n",
            "50000/50000 [==============================] - 3s 60us/step - loss: 0.2539 - acc: 0.9094 - val_loss: 2.9701 - val_acc: 0.5100\n"
          ],
          "name": "stdout"
        },
        {
          "output_type": "execute_result",
          "data": {
            "text/plain": [
              "<keras.callbacks.History at 0x7f54e0c6de48>"
            ]
          },
          "metadata": {
            "tags": []
          },
          "execution_count": 31
        }
      ]
    },
    {
      "metadata": {
        "id": "1LuUDDehwTOc",
        "colab_type": "code",
        "colab": {}
      },
      "cell_type": "code",
      "source": [
        "train_loss5 = model5.history.history[\"loss\"]\n",
        "valid_loss5 = model5.history.history[\"val_loss\"]\n",
        "\n",
        "train_acc5 = model5.history.history[\"acc\"]\n",
        "valid_acc5 = model5.history.history[\"val_acc\"]\n",
        "\n",
        "plt.plot(range(len(train_loss5)), train_loss5, label=\"train loss\")\n",
        "plt.plot(range(len(valid_loss5)), valid_loss5, label=\"valid loss\")\n",
        "plt.legend()\n",
        "plt.title(\"Loss\")\n",
        "plt.show()\n",
        "\n",
        "plt.plot(range(len(train_acc5)), train_acc5, label=\"train accuracy\")\n",
        "plt.plot(range(len(valid_acc5)), valid_acc5, label=\"valid accuracy\")\n",
        "plt.legend()\n",
        "plt.title(\"Accuracy\")\n",
        "plt.show()"
      ],
      "execution_count": 0,
      "outputs": []
    }
  ]
}