{
  "nbformat": 4,
  "nbformat_minor": 0,
  "metadata": {
    "colab": {
      "name": "Day082_HW.ipynb",
      "version": "0.3.2",
      "provenance": [],
      "include_colab_link": true
    },
    "language_info": {
      "codemirror_mode": {
        "name": "ipython",
        "version": 3
      },
      "file_extension": ".py",
      "mimetype": "text/x-python",
      "name": "python",
      "nbconvert_exporter": "python",
      "pygments_lexer": "ipython3",
      "version": "3.6.5"
    },
    "kernelspec": {
      "name": "python3",
      "display_name": "Python 3"
    },
    "accelerator": "TPU"
  },
  "cells": [
    {
      "cell_type": "markdown",
      "metadata": {
        "id": "view-in-github",
        "colab_type": "text"
      },
      "source": [
        "<a href=\"https://colab.research.google.com/github/qu8411826/ML100-Days/blob/master/Homework/Day082_HW.ipynb\" target=\"_parent\"><img src=\"https://colab.research.google.com/assets/colab-badge.svg\" alt=\"Open In Colab\"/></a>"
      ]
    },
    {
      "metadata": {
        "id": "FEKITMu680v9",
        "colab_type": "text"
      },
      "cell_type": "markdown",
      "source": [
        "## Work\n",
        "1. 請比較使用不同層數以及不同 Dropout rate 對訓練的效果\n",
        "2. 將 optimizer 改成使用 Adam 並加上適當的 dropout rate 檢視結果"
      ]
    },
    {
      "metadata": {
        "id": "g4o50Sy180v-",
        "colab_type": "code",
        "colab": {
          "base_uri": "https://localhost:8080/",
          "height": 34
        },
        "outputId": "2e62126e-10c1-44f0-c741-60aa69b4c3c9"
      },
      "cell_type": "code",
      "source": [
        "import os\n",
        "import keras\n",
        "import itertools\n",
        "# Disable GPU\n",
        "os.environ[\"CUDA_VISIBLE_DEVICES\"] = \"\""
      ],
      "execution_count": 1,
      "outputs": [
        {
          "output_type": "stream",
          "text": [
            "Using TensorFlow backend.\n"
          ],
          "name": "stderr"
        }
      ]
    },
    {
      "metadata": {
        "id": "QaSMRzNj80wC",
        "colab_type": "code",
        "colab": {}
      },
      "cell_type": "code",
      "source": [
        "train, test = keras.datasets.cifar10.load_data()"
      ],
      "execution_count": 0,
      "outputs": []
    },
    {
      "metadata": {
        "id": "ELJSEiSa80wE",
        "colab_type": "code",
        "colab": {}
      },
      "cell_type": "code",
      "source": [
        "## 資料前處理\n",
        "def preproc_x(x, flatten=True):\n",
        "    x = x / 255.\n",
        "    if flatten:\n",
        "        x = x.reshape((len(x), -1))\n",
        "    return x\n",
        "\n",
        "def preproc_y(y, num_classes=10):\n",
        "    if y.shape[-1] == 1:\n",
        "        y = keras.utils.to_categorical(y, num_classes)\n",
        "    return y    "
      ],
      "execution_count": 0,
      "outputs": []
    },
    {
      "metadata": {
        "id": "Lg7HEV4080wG",
        "colab_type": "code",
        "colab": {}
      },
      "cell_type": "code",
      "source": [
        "x_train, y_train = train\n",
        "x_test, y_test = test\n",
        "\n",
        "# Preproc the inputs\n",
        "x_train = preproc_x(x_train)\n",
        "x_test = preproc_x(x_test)\n",
        "\n",
        "# Preprc the outputs\n",
        "y_train = preproc_y(y_train)\n",
        "y_test = preproc_y(y_test)"
      ],
      "execution_count": 0,
      "outputs": []
    },
    {
      "metadata": {
        "id": "gh7i-lfQ80wI",
        "colab_type": "code",
        "colab": {}
      },
      "cell_type": "code",
      "source": [
        "\n",
        "def build_mlp(input_shape, drp_ratio=0.2):\n",
        "    \"\"\"\n",
        "    Build your own model\n",
        "    \"\"\"\n",
        "    input_layer = keras.layers.Input(input_shape)\n",
        "    num_neurons=[512, 256, 128]\n",
        "    for i, n_units in enumerate(num_neurons):\n",
        "        if i == 0:\n",
        "            x = keras.layers.Dense(units=n_units, \n",
        "                                   activation=\"relu\", \n",
        "                                   name=\"hidden_layer\"+str(i+1))(input_layer)\n",
        "            x = Dropout(drp_ratio)(x)\n",
        "        else:\n",
        "            x = keras.layers.Dense(units=n_units, \n",
        "                                   activation=\"relu\", \n",
        "                                   name=\"hidden_layer\"+str(i+1))(x)\n",
        "            x = Dropout(drp_ratio)(x)\n",
        "    output_units=10\n",
        "    out = keras.layers.Dense(units=output_units, activation=\"softmax\", name=\"output\")(x)\n",
        "    \n",
        "    model = keras.models.Model(inputs=[input_layer], outputs=[out])\n",
        "    return model"
      ],
      "execution_count": 0,
      "outputs": []
    },
    {
      "metadata": {
        "id": "UKOHHwoD80wJ",
        "colab_type": "code",
        "colab": {}
      },
      "cell_type": "code",
      "source": [
        "## 超參數設定\n",
        "\"\"\"\n",
        "Set Hyper-parameters here\n",
        "\"\"\"\n",
        "LEARNING_RATE = 1e-3\n",
        "EPOCHS = 50\n",
        "BATCH_SIZE = 256\n",
        "MOMENTUM = 0.95\n",
        "Dropout_EXP = 0.5"
      ],
      "execution_count": 0,
      "outputs": []
    },
    {
      "metadata": {
        "scrolled": true,
        "id": "baQaGmmK80wO",
        "colab_type": "code",
        "colab": {
          "base_uri": "https://localhost:8080/",
          "height": 2325
        },
        "outputId": "374192b4-d820-43fd-a5e9-f2cfa2196331"
      },
      "cell_type": "code",
      "source": [
        "from keras.layers import Dropout\n",
        "results = {}\n",
        "\"\"\"\n",
        "Write your training loop and record results\n",
        "\"\"\"\n",
        "model = build_mlp(input_shape=x_train.shape[1:], drp_ratio=Dropout_EXP)\n",
        "model.summary()\n",
        "optimizer = keras.optimizers.SGD(lr=LEARNING_RATE, nesterov=True, momentum=MOMENTUM)\n",
        "model.compile(loss=\"categorical_crossentropy\", metrics=[\"accuracy\"], optimizer=optimizer)\n",
        "\n",
        "model.fit(x_train, y_train, \n",
        "          epochs=EPOCHS, \n",
        "          batch_size=BATCH_SIZE, \n",
        "          validation_data=(x_test, y_test), \n",
        "          shuffle=True)\n",
        "\n",
        "# Collect results\n",
        "train_loss = model.history.history[\"loss\"]\n",
        "valid_loss = model.history.history[\"val_loss\"]\n",
        "train_acc = model.history.history[\"acc\"]\n",
        "valid_acc = model.history.history[\"val_acc\"]"
      ],
      "execution_count": 10,
      "outputs": [
        {
          "output_type": "stream",
          "text": [
            "WARNING:tensorflow:From /usr/local/lib/python3.6/dist-packages/keras/backend/tensorflow_backend.py:3445: calling dropout (from tensorflow.python.ops.nn_ops) with keep_prob is deprecated and will be removed in a future version.\n",
            "Instructions for updating:\n",
            "Please use `rate` instead of `keep_prob`. Rate should be set to `rate = 1 - keep_prob`.\n",
            "_________________________________________________________________\n",
            "Layer (type)                 Output Shape              Param #   \n",
            "=================================================================\n",
            "input_3 (InputLayer)         (None, 3072)              0         \n",
            "_________________________________________________________________\n",
            "hidden_layer1 (Dense)        (None, 512)               1573376   \n",
            "_________________________________________________________________\n",
            "dropout_1 (Dropout)          (None, 512)               0         \n",
            "_________________________________________________________________\n",
            "hidden_layer2 (Dense)        (None, 256)               131328    \n",
            "_________________________________________________________________\n",
            "dropout_2 (Dropout)          (None, 256)               0         \n",
            "_________________________________________________________________\n",
            "hidden_layer3 (Dense)        (None, 128)               32896     \n",
            "_________________________________________________________________\n",
            "dropout_3 (Dropout)          (None, 128)               0         \n",
            "_________________________________________________________________\n",
            "output (Dense)               (None, 10)                1290      \n",
            "=================================================================\n",
            "Total params: 1,738,890\n",
            "Trainable params: 1,738,890\n",
            "Non-trainable params: 0\n",
            "_________________________________________________________________\n",
            "WARNING:tensorflow:From /usr/local/lib/python3.6/dist-packages/tensorflow/python/ops/math_ops.py:3066: to_int32 (from tensorflow.python.ops.math_ops) is deprecated and will be removed in a future version.\n",
            "Instructions for updating:\n",
            "Use tf.cast instead.\n",
            "Train on 50000 samples, validate on 10000 samples\n",
            "Epoch 1/50\n",
            "50000/50000 [==============================] - 27s 531us/step - loss: 2.3154 - acc: 0.1304 - val_loss: 2.1952 - val_acc: 0.2329\n",
            "Epoch 2/50\n",
            "50000/50000 [==============================] - 26s 512us/step - loss: 2.1851 - acc: 0.1794 - val_loss: 2.0738 - val_acc: 0.2748\n",
            "Epoch 3/50\n",
            "50000/50000 [==============================] - 25s 504us/step - loss: 2.1077 - acc: 0.2129 - val_loss: 1.9896 - val_acc: 0.2989\n",
            "Epoch 4/50\n",
            "50000/50000 [==============================] - 25s 507us/step - loss: 2.0500 - acc: 0.2376 - val_loss: 1.9319 - val_acc: 0.3203\n",
            "Epoch 5/50\n",
            "50000/50000 [==============================] - 26s 511us/step - loss: 2.0084 - acc: 0.2545 - val_loss: 1.8951 - val_acc: 0.3315\n",
            "Epoch 6/50\n",
            "50000/50000 [==============================] - 25s 505us/step - loss: 1.9782 - acc: 0.2703 - val_loss: 1.8654 - val_acc: 0.3414\n",
            "Epoch 7/50\n",
            "50000/50000 [==============================] - 25s 506us/step - loss: 1.9495 - acc: 0.2823 - val_loss: 1.8287 - val_acc: 0.3549\n",
            "Epoch 8/50\n",
            "50000/50000 [==============================] - 26s 511us/step - loss: 1.9315 - acc: 0.2888 - val_loss: 1.8107 - val_acc: 0.3635\n",
            "Epoch 9/50\n",
            "50000/50000 [==============================] - 25s 507us/step - loss: 1.9097 - acc: 0.3000 - val_loss: 1.7819 - val_acc: 0.3694\n",
            "Epoch 10/50\n",
            "50000/50000 [==============================] - 25s 504us/step - loss: 1.8910 - acc: 0.3111 - val_loss: 1.7657 - val_acc: 0.3782\n",
            "Epoch 11/50\n",
            "50000/50000 [==============================] - 25s 506us/step - loss: 1.8763 - acc: 0.3143 - val_loss: 1.7442 - val_acc: 0.3822\n",
            "Epoch 12/50\n",
            "50000/50000 [==============================] - 25s 504us/step - loss: 1.8566 - acc: 0.3228 - val_loss: 1.7282 - val_acc: 0.3877\n",
            "Epoch 13/50\n",
            "50000/50000 [==============================] - 24s 483us/step - loss: 1.8450 - acc: 0.3287 - val_loss: 1.7214 - val_acc: 0.3921\n",
            "Epoch 14/50\n",
            "50000/50000 [==============================] - 14s 271us/step - loss: 1.8312 - acc: 0.3362 - val_loss: 1.7030 - val_acc: 0.4024\n",
            "Epoch 15/50\n",
            "50000/50000 [==============================] - 13s 258us/step - loss: 1.8203 - acc: 0.3416 - val_loss: 1.7041 - val_acc: 0.3993\n",
            "Epoch 16/50\n",
            "50000/50000 [==============================] - 13s 255us/step - loss: 1.8084 - acc: 0.3478 - val_loss: 1.6783 - val_acc: 0.4111\n",
            "Epoch 17/50\n",
            "50000/50000 [==============================] - 13s 255us/step - loss: 1.7902 - acc: 0.3552 - val_loss: 1.6635 - val_acc: 0.4162\n",
            "Epoch 18/50\n",
            "50000/50000 [==============================] - 13s 255us/step - loss: 1.7846 - acc: 0.3552 - val_loss: 1.6470 - val_acc: 0.4149\n",
            "Epoch 19/50\n",
            "50000/50000 [==============================] - 13s 254us/step - loss: 1.7706 - acc: 0.3589 - val_loss: 1.6487 - val_acc: 0.4188\n",
            "Epoch 20/50\n",
            "50000/50000 [==============================] - 13s 256us/step - loss: 1.7616 - acc: 0.3657 - val_loss: 1.6309 - val_acc: 0.4276\n",
            "Epoch 21/50\n",
            "50000/50000 [==============================] - 13s 253us/step - loss: 1.7523 - acc: 0.3714 - val_loss: 1.6239 - val_acc: 0.4265\n",
            "Epoch 22/50\n",
            "50000/50000 [==============================] - 13s 252us/step - loss: 1.7452 - acc: 0.3725 - val_loss: 1.6157 - val_acc: 0.4325\n",
            "Epoch 23/50\n",
            "50000/50000 [==============================] - 13s 252us/step - loss: 1.7368 - acc: 0.3734 - val_loss: 1.6017 - val_acc: 0.4366\n",
            "Epoch 24/50\n",
            "50000/50000 [==============================] - 13s 252us/step - loss: 1.7309 - acc: 0.3783 - val_loss: 1.5916 - val_acc: 0.4402\n",
            "Epoch 25/50\n",
            "50000/50000 [==============================] - 13s 252us/step - loss: 1.7191 - acc: 0.3818 - val_loss: 1.5977 - val_acc: 0.4357\n",
            "Epoch 26/50\n",
            "50000/50000 [==============================] - 13s 252us/step - loss: 1.7082 - acc: 0.3853 - val_loss: 1.5784 - val_acc: 0.4419\n",
            "Epoch 27/50\n",
            "50000/50000 [==============================] - 13s 255us/step - loss: 1.7045 - acc: 0.3863 - val_loss: 1.5746 - val_acc: 0.4406\n",
            "Epoch 28/50\n",
            "50000/50000 [==============================] - 13s 259us/step - loss: 1.7013 - acc: 0.3891 - val_loss: 1.5628 - val_acc: 0.4453\n",
            "Epoch 29/50\n",
            "50000/50000 [==============================] - 13s 259us/step - loss: 1.6967 - acc: 0.3903 - val_loss: 1.5586 - val_acc: 0.4458\n",
            "Epoch 30/50\n",
            "50000/50000 [==============================] - 13s 256us/step - loss: 1.6806 - acc: 0.3948 - val_loss: 1.5518 - val_acc: 0.4455\n",
            "Epoch 31/50\n",
            "50000/50000 [==============================] - 13s 257us/step - loss: 1.6767 - acc: 0.3979 - val_loss: 1.5492 - val_acc: 0.4522\n",
            "Epoch 32/50\n",
            "50000/50000 [==============================] - 13s 264us/step - loss: 1.6705 - acc: 0.4026 - val_loss: 1.5329 - val_acc: 0.4610\n",
            "Epoch 33/50\n",
            "50000/50000 [==============================] - 13s 257us/step - loss: 1.6637 - acc: 0.4049 - val_loss: 1.5405 - val_acc: 0.4477\n",
            "Epoch 34/50\n",
            "50000/50000 [==============================] - 13s 258us/step - loss: 1.6597 - acc: 0.4039 - val_loss: 1.5304 - val_acc: 0.4549\n",
            "Epoch 35/50\n",
            "50000/50000 [==============================] - 13s 257us/step - loss: 1.6584 - acc: 0.4052 - val_loss: 1.5270 - val_acc: 0.4610\n",
            "Epoch 36/50\n",
            "50000/50000 [==============================] - 13s 257us/step - loss: 1.6579 - acc: 0.4043 - val_loss: 1.5208 - val_acc: 0.4607\n",
            "Epoch 37/50\n",
            "50000/50000 [==============================] - 13s 259us/step - loss: 1.6437 - acc: 0.4110 - val_loss: 1.5197 - val_acc: 0.4594\n",
            "Epoch 38/50\n",
            "50000/50000 [==============================] - 14s 271us/step - loss: 1.6400 - acc: 0.4120 - val_loss: 1.5010 - val_acc: 0.4654\n",
            "Epoch 39/50\n",
            "50000/50000 [==============================] - 13s 259us/step - loss: 1.6308 - acc: 0.4166 - val_loss: 1.5035 - val_acc: 0.4605\n",
            "Epoch 40/50\n",
            "50000/50000 [==============================] - 13s 257us/step - loss: 1.6261 - acc: 0.4208 - val_loss: 1.5096 - val_acc: 0.4581\n",
            "Epoch 41/50\n",
            "50000/50000 [==============================] - 13s 258us/step - loss: 1.6231 - acc: 0.4197 - val_loss: 1.4950 - val_acc: 0.4667\n",
            "Epoch 42/50\n",
            "50000/50000 [==============================] - 13s 257us/step - loss: 1.6277 - acc: 0.4165 - val_loss: 1.4886 - val_acc: 0.4670\n",
            "Epoch 43/50\n",
            "50000/50000 [==============================] - 13s 257us/step - loss: 1.6107 - acc: 0.4241 - val_loss: 1.4866 - val_acc: 0.4694\n",
            "Epoch 44/50\n",
            "50000/50000 [==============================] - 13s 255us/step - loss: 1.6164 - acc: 0.4213 - val_loss: 1.4899 - val_acc: 0.4694\n",
            "Epoch 45/50\n",
            "50000/50000 [==============================] - 13s 256us/step - loss: 1.6016 - acc: 0.4260 - val_loss: 1.4838 - val_acc: 0.4676\n",
            "Epoch 46/50\n",
            "50000/50000 [==============================] - 13s 256us/step - loss: 1.6008 - acc: 0.4259 - val_loss: 1.4742 - val_acc: 0.4747\n",
            "Epoch 47/50\n",
            "50000/50000 [==============================] - 13s 255us/step - loss: 1.5927 - acc: 0.4294 - val_loss: 1.4809 - val_acc: 0.4680\n",
            "Epoch 48/50\n",
            "50000/50000 [==============================] - 13s 256us/step - loss: 1.5946 - acc: 0.4290 - val_loss: 1.4685 - val_acc: 0.4754\n",
            "Epoch 49/50\n",
            "50000/50000 [==============================] - 13s 258us/step - loss: 1.5888 - acc: 0.4332 - val_loss: 1.4651 - val_acc: 0.4771\n",
            "Epoch 50/50\n",
            "50000/50000 [==============================] - 13s 255us/step - loss: 1.5768 - acc: 0.4375 - val_loss: 1.4596 - val_acc: 0.4751\n"
          ],
          "name": "stdout"
        }
      ]
    },
    {
      "metadata": {
        "id": "S1Ra3Bso80wT",
        "colab_type": "code",
        "colab": {
          "base_uri": "https://localhost:8080/",
          "height": 545
        },
        "outputId": "50540a7e-2042-492b-ee24-7c52670cbe05"
      },
      "cell_type": "code",
      "source": [
        "import matplotlib.pyplot as plt\n",
        "%matplotlib inline\n",
        "\"\"\"\n",
        "Plot results\n",
        "\"\"\"\n",
        "%matplotlib inline\n",
        "\n",
        "plt.plot(range(len(train_loss)), train_loss, label=\"train loss\")\n",
        "plt.plot(range(len(valid_loss)), valid_loss, label=\"valid loss\")\n",
        "plt.legend()\n",
        "plt.title(\"Loss\")\n",
        "plt.show()\n",
        "\n",
        "plt.plot(range(len(train_acc)), train_acc, label=\"train accuracy\")\n",
        "plt.plot(range(len(valid_acc)), valid_acc, label=\"valid accuracy\")\n",
        "plt.legend()\n",
        "plt.title(\"Accuracy\")\n",
        "plt.show()"
      ],
      "execution_count": 11,
      "outputs": [
        {
          "output_type": "display_data",
          "data": {
            "image/png": "[encoded data removed]",
            "text/plain": [
              "<Figure size 432x288 with 1 Axes>"
            ]
          },
          "metadata": {
            "tags": []
          }
        },
        {
          "output_type": "display_data",
          "data": {
            "image/png": "[encoded data removed]",
            "text/plain": [
              "<Figure size 432x288 with 1 Axes>"
            ]
          },
          "metadata": {
            "tags": []
          }
        }
      ]
    },
    {
      "metadata": {
        "id": "8CSg88aA9nmS",
        "colab_type": "code",
        "colab": {}
      },
      "cell_type": "code",
      "source": [
        ""
      ],
      "execution_count": 0,
      "outputs": []
    }
  ]
}