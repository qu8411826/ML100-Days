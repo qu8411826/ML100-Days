{
 "cells": [
  {
   "cell_type": "markdown",
   "metadata": {},
   "source": [
    "## 練習時間\n",
    "試著使用 sklearn datasets 的其他資料集 (boston, ...)，來訓練自己的線性迴歸模型，並加上適當的正則話來觀察訓練情形。"
   ]
  },
  {
   "cell_type": "code",
   "execution_count": 1,
   "metadata": {},
   "outputs": [],
   "source": [
    "import numpy as np\n",
    "import matplotlib.pyplot as plt\n",
    "from sklearn import datasets, linear_model\n",
    "from sklearn.model_selection import train_test_split\n",
    "from sklearn.metrics import mean_squared_error, r2_score"
   ]
  },
  {
   "cell_type": "code",
   "execution_count": 3,
   "metadata": {},
   "outputs": [
    {
     "name": "stdout",
     "output_type": "stream",
     "text": [
      "LinearRegression Mean squared error: 0.07\n",
      "Lasso Mean squared error: 0.32\n",
      "Ridge Mean squared error: 0.07\n",
      "LinRegCoef: [-1.09099883e-01  1.67405249e-02 -2.18753671e-01  4.66803998e-02\n",
      "  3.20692287e-04  1.24491691e-01 -3.26192950e-01 -1.91327414e-01\n",
      "  3.72016066e-02  7.57429505e-02 -1.55979636e-01 -2.85946973e-01\n",
      " -7.51809245e-04]\n",
      "LassoCoef: [ 0.          0.          0.          0.00301828  0.         -0.\n",
      " -0.          0.         -0.          0.06074464 -0.         -0.\n",
      " -0.00172235]\n",
      "RidgeCoef: [-0.1060308   0.01767173 -0.20185208  0.04519307  0.00041456  0.09901609\n",
      " -0.31237143 -0.1038379   0.03489971  0.07770768 -0.13450626 -0.27442063\n",
      " -0.00077001]\n"
     ]
    }
   ],
   "source": [
    "# 讀取糖尿病資料集\n",
    "ds_now = datasets.load_wine()\n",
    "\n",
    "# 切分訓練集/測試集\n",
    "x_train, x_test, y_train, y_test = train_test_split(ds_now.data, ds_now.target, test_size=0.2, random_state=4)\n",
    "\n",
    "# 建立一個線性回歸模型\n",
    "regr = linear_model.LinearRegression()\n",
    "\n",
    "# 將訓練資料丟進去模型訓練\n",
    "regr.fit(x_train, y_train)\n",
    "\n",
    "# 將測試資料丟進模型得到預測結果\n",
    "y_pred = regr.predict(x_test)\n",
    "\n",
    "# 預測值與實際值的差距，使用 MSE\n",
    "print(\"LinearRegression Mean squared error: %.2f\"\n",
    "      % mean_squared_error(y_test, y_pred))\n",
    "\n",
    "# 建立一個線性回歸模型\n",
    "lasso = linear_model.Lasso(alpha=0.5)\n",
    "\n",
    "# 將訓練資料丟進去模型訓練\n",
    "lasso.fit(x_train, y_train)\n",
    "\n",
    "# 將測試資料丟進模型得到預測結果\n",
    "y_pred = lasso.predict(x_test)\n",
    "\n",
    "# 預測值與實際值的差距，使用 MSE\n",
    "print(\"Lasso Mean squared error: %.2f\"\n",
    "      % mean_squared_error(y_test, y_pred))\n",
    "\n",
    "# 建立一個線性回歸模型\n",
    "ridge = linear_model.Ridge(alpha=1.0)\n",
    "\n",
    "# 將訓練資料丟進去模型訓練\n",
    "ridge.fit(x_train, y_train)\n",
    "\n",
    "# 將測試資料丟進模型得到預測結果\n",
    "y_pred = ridge.predict(x_test)\n",
    "\n",
    "# 預測值與實際值的差距，使用 MSE\n",
    "print(\"Ridge Mean squared error: %.2f\"\n",
    "      % mean_squared_error(y_test, y_pred))\n",
    "\n",
    "print('LinRegCoef:', regr.coef_)\n",
    "print('LassoCoef:',lasso.coef_)\n",
    "print('RidgeCoef:',ridge.coef_)\n"
   ]
  },
  {
   "cell_type": "code",
   "execution_count": 4,
   "metadata": {},
   "outputs": [
    {
     "name": "stdout",
     "output_type": "stream",
     "text": [
      "LinearRegression Mean squared error: 25.42\n",
      "Lasso Mean squared error: 26.94\n",
      "Ridge Mean squared error: 25.74\n",
      "LinRegCoef: [-1.15966452e-01  4.71249231e-02  8.25980146e-03  3.23404531e+00\n",
      " -1.66865890e+01  3.88410651e+00 -1.08974442e-02 -1.54129540e+00\n",
      "  2.93208309e-01 -1.34059383e-02 -9.06296429e-01  8.80823439e-03\n",
      " -4.57723846e-01]\n",
      "LassoCoef: [-0.08860117  0.04829133 -0.01107435  0.         -0.          2.66101769\n",
      " -0.00307949 -0.98440282  0.25664031 -0.01593271 -0.73252329  0.00884426\n",
      " -0.59210164]\n",
      "RidgeCoef: [-1.12499445e-01  4.79562332e-02 -2.40438147e-02  2.96199458e+00\n",
      " -9.33966118e+00  3.93079015e+00 -1.73821202e-02 -1.43347691e+00\n",
      "  2.75239392e-01 -1.38920708e-02 -8.31116943e-01  9.15637729e-03\n",
      " -4.66460539e-01]\n"
     ]
    }
   ],
   "source": [
    "# 讀取糖尿病資料集\n",
    "ds_now = datasets.load_boston()\n",
    "\n",
    "# 切分訓練集/測試集\n",
    "x_train, x_test, y_train, y_test = train_test_split(ds_now.data, ds_now.target, test_size=0.2, random_state=4)\n",
    "\n",
    "# 建立一個線性回歸模型\n",
    "regr = linear_model.LinearRegression()\n",
    "\n",
    "# 將訓練資料丟進去模型訓練\n",
    "regr.fit(x_train, y_train)\n",
    "\n",
    "# 將測試資料丟進模型得到預測結果\n",
    "y_pred = regr.predict(x_test)\n",
    "\n",
    "# 預測值與實際值的差距，使用 MSE\n",
    "print(\"LinearRegression Mean squared error: %.2f\"\n",
    "      % mean_squared_error(y_test, y_pred))\n",
    "\n",
    "# 建立一個線性回歸模型\n",
    "lasso = linear_model.Lasso(alpha=0.5)\n",
    "\n",
    "# 將訓練資料丟進去模型訓練\n",
    "lasso.fit(x_train, y_train)\n",
    "\n",
    "# 將測試資料丟進模型得到預測結果\n",
    "y_pred = lasso.predict(x_test)\n",
    "\n",
    "# 預測值與實際值的差距，使用 MSE\n",
    "print(\"Lasso Mean squared error: %.2f\"\n",
    "      % mean_squared_error(y_test, y_pred))\n",
    "\n",
    "# 建立一個線性回歸模型\n",
    "ridge = linear_model.Ridge(alpha=1.0)\n",
    "\n",
    "# 將訓練資料丟進去模型訓練\n",
    "ridge.fit(x_train, y_train)\n",
    "\n",
    "# 將測試資料丟進模型得到預測結果\n",
    "y_pred = ridge.predict(x_test)\n",
    "\n",
    "# 預測值與實際值的差距，使用 MSE\n",
    "print(\"Ridge Mean squared error: %.2f\"\n",
    "      % mean_squared_error(y_test, y_pred))\n",
    "\n",
    "print('LinRegCoef:', regr.coef_)\n",
    "print('LassoCoef:',lasso.coef_)\n",
    "print('RidgeCoef:',ridge.coef_)"
   ]
  },
  {
   "cell_type": "code",
   "execution_count": null,
   "metadata": {},
   "outputs": [],
   "source": []
  }
 ],
 "metadata": {
  "kernelspec": {
   "display_name": "Python 3",
   "language": "python",
   "name": "python3"
  },
  "language_info": {
   "codemirror_mode": {
    "name": "ipython",
    "version": 3
   },
   "file_extension": ".py",
   "mimetype": "text/x-python",
   "name": "python",
   "nbconvert_exporter": "python",
   "pygments_lexer": "ipython3",
   "version": "3.7.1"
  }
 },
 "nbformat": 4,
 "nbformat_minor": 2
}
