{
  "nbformat": 4,
  "nbformat_minor": 0,
  "metadata": {
    "colab": {
      "name": "Day087_CB_ReduceLR.ipynb",
      "version": "0.3.2",
      "provenance": [],
      "collapsed_sections": [],
      "include_colab_link": true
    },
    "language_info": {
      "codemirror_mode": {
        "name": "ipython",
        "version": 3
      },
      "file_extension": ".py",
      "mimetype": "text/x-python",
      "name": "python",
      "nbconvert_exporter": "python",
      "pygments_lexer": "ipython3",
      "version": "3.6.5"
    },
    "kernelspec": {
      "name": "python3",
      "display_name": "Python 3"
    },
    "accelerator": "TPU"
  },
  "cells": [
    {
      "cell_type": "markdown",
      "metadata": {
        "id": "view-in-github",
        "colab_type": "text"
      },
      "source": [
        "<a href=\"https://colab.research.google.com/github/qu8411826/ML100-Days/blob/master/Homework/Day087_HW.ipynb\" target=\"_parent\"><img src=\"https://colab.research.google.com/assets/colab-badge.svg\" alt=\"Open In Colab\"/></a>"
      ]
    },
    {
      "metadata": {
        "id": "FMREYHbq5_Xn",
        "colab_type": "code",
        "colab": {
          "base_uri": "https://localhost:8080/",
          "height": 34
        },
        "outputId": "bc30af74-2c67-4696-f843-90afc6c04556"
      },
      "cell_type": "code",
      "source": [
        "import os\n",
        "import keras\n",
        "\n",
        "# Disable GPU\n",
        "os.environ[\"CUDA_VISIBLE_DEVICES\"] = \"\""
      ],
      "execution_count": 1,
      "outputs": [
        {
          "output_type": "stream",
          "text": [
            "Using TensorFlow backend.\n"
          ],
          "name": "stderr"
        }
      ]
    },
    {
      "metadata": {
        "id": "CaE5pTg_5_Xr",
        "colab_type": "code",
        "outputId": "d83c8992-2d0f-4b48-8e86-5f2799000056",
        "colab": {
          "base_uri": "https://localhost:8080/",
          "height": 52
        }
      },
      "cell_type": "code",
      "source": [
        "train, test = keras.datasets.cifar10.load_data()"
      ],
      "execution_count": 2,
      "outputs": [
        {
          "output_type": "stream",
          "text": [
            "Downloading data from https://www.cs.toronto.edu/~kriz/cifar-10-python.tar.gz\n",
            "170500096/170498071 [==============================] - 38s 0us/step\n"
          ],
          "name": "stdout"
        }
      ]
    },
    {
      "metadata": {
        "id": "aaMCVHOd5_Xs",
        "colab_type": "code",
        "colab": {}
      },
      "cell_type": "code",
      "source": [
        "## 資料前處理\n",
        "def preproc_x(x, flatten=True):\n",
        "    x = x / 255.\n",
        "    if flatten:\n",
        "        x = x.reshape((len(x), -1))\n",
        "    return x\n",
        "\n",
        "def preproc_y(y, num_classes=10):\n",
        "    if y.shape[-1] == 1:\n",
        "        y = keras.utils.to_categorical(y, num_classes)\n",
        "    return y    "
      ],
      "execution_count": 0,
      "outputs": []
    },
    {
      "metadata": {
        "id": "eLn3CIc05_Xu",
        "colab_type": "code",
        "colab": {}
      },
      "cell_type": "code",
      "source": [
        "x_train, y_train = train\n",
        "x_test, y_test = test\n",
        "\n",
        "# Preproc the inputs\n",
        "x_train = preproc_x(x_train)\n",
        "x_test = preproc_x(x_test)\n",
        "\n",
        "# Preprc the outputs\n",
        "y_train = preproc_y(y_train)\n",
        "y_test = preproc_y(y_test)"
      ],
      "execution_count": 0,
      "outputs": []
    },
    {
      "metadata": {
        "id": "zYDq28JQ5_Xw",
        "colab_type": "code",
        "colab": {}
      },
      "cell_type": "code",
      "source": [
        "from keras.layers import BatchNormalization\n",
        "def build_mlp(input_shape, output_units=10, num_neurons=[512, 256, 128]):\n",
        "    input_layer = keras.layers.Input(input_shape)\n",
        "    \n",
        "    for i, n_units in enumerate(num_neurons):\n",
        "        if i == 0:\n",
        "            x = keras.layers.Dense(units=n_units, \n",
        "                                   activation=\"relu\", \n",
        "                                   name=\"hidden_layer\"+str(i+1))(input_layer)\n",
        "            x = BatchNormalization()(x)\n",
        "        else:\n",
        "            x = keras.layers.Dense(units=n_units, \n",
        "                                   activation=\"relu\", \n",
        "                                   name=\"hidden_layer\"+str(i+1))(x)\n",
        "            x = BatchNormalization()(x)\n",
        "    \n",
        "    out = keras.layers.Dense(units=output_units, activation=\"softmax\", name=\"output\")(x)\n",
        "    \n",
        "    model = keras.models.Model(inputs=[input_layer], outputs=[out])\n",
        "    return model"
      ],
      "execution_count": 0,
      "outputs": []
    },
    {
      "metadata": {
        "id": "X1RkBbmq5_Xx",
        "colab_type": "code",
        "colab": {}
      },
      "cell_type": "code",
      "source": [
        "## 超參數設定\n",
        "LEARNING_RATE = 1e-3\n",
        "EPOCHS = 50\n",
        "BATCH_SIZE = 1024\n",
        "MOMENTUM = 0.95"
      ],
      "execution_count": 0,
      "outputs": []
    },
    {
      "metadata": {
        "id": "T9CsFZKn5_Xz",
        "colab_type": "code",
        "colab": {}
      },
      "cell_type": "code",
      "source": [
        "# 載入 Callbacks\n",
        "from keras.callbacks import ReduceLROnPlateau\n",
        "\n",
        "reduce_lr = ReduceLROnPlateau(factor=0.5, \n",
        "                              min_lr=1e-12, \n",
        "                              monitor='val_loss', \n",
        "                              patience=5, \n",
        "                              verbose=1)"
      ],
      "execution_count": 0,
      "outputs": []
    },
    {
      "metadata": {
        "scrolled": true,
        "id": "B-RT4ucA5_X1",
        "colab_type": "code",
        "outputId": "99c1109a-fde4-4386-c5e4-969430ff8249",
        "colab": {
          "base_uri": "https://localhost:8080/",
          "height": 2536
        }
      },
      "cell_type": "code",
      "source": [
        "model = build_mlp(input_shape=x_train.shape[1:])\n",
        "model.summary()\n",
        "optimizer = keras.optimizers.SGD(lr=LEARNING_RATE, nesterov=True, momentum=MOMENTUM)\n",
        "model.compile(loss=\"categorical_crossentropy\", metrics=[\"accuracy\"], optimizer=optimizer)\n",
        "\n",
        "model.fit(x_train, y_train, \n",
        "          epochs=EPOCHS, \n",
        "          batch_size=BATCH_SIZE, \n",
        "          validation_data=(x_test, y_test), \n",
        "          shuffle=True,\n",
        "          callbacks=[reduce_lr]\n",
        "         )\n",
        "\n",
        "# Collect results\n",
        "train_loss = model.history.history[\"loss\"]\n",
        "valid_loss = model.history.history[\"val_loss\"]\n",
        "train_acc = model.history.history[\"acc\"]\n",
        "valid_acc = model.history.history[\"val_acc\"]"
      ],
      "execution_count": 8,
      "outputs": [
        {
          "output_type": "stream",
          "text": [
            "WARNING:tensorflow:From /usr/local/lib/python3.6/dist-packages/tensorflow/python/framework/op_def_library.py:263: colocate_with (from tensorflow.python.framework.ops) is deprecated and will be removed in a future version.\n",
            "Instructions for updating:\n",
            "Colocations handled automatically by placer.\n",
            "_________________________________________________________________\n",
            "Layer (type)                 Output Shape              Param #   \n",
            "=================================================================\n",
            "input_1 (InputLayer)         (None, 3072)              0         \n",
            "_________________________________________________________________\n",
            "hidden_layer1 (Dense)        (None, 512)               1573376   \n",
            "_________________________________________________________________\n",
            "batch_normalization_1 (Batch (None, 512)               2048      \n",
            "_________________________________________________________________\n",
            "hidden_layer2 (Dense)        (None, 256)               131328    \n",
            "_________________________________________________________________\n",
            "batch_normalization_2 (Batch (None, 256)               1024      \n",
            "_________________________________________________________________\n",
            "hidden_layer3 (Dense)        (None, 128)               32896     \n",
            "_________________________________________________________________\n",
            "batch_normalization_3 (Batch (None, 128)               512       \n",
            "_________________________________________________________________\n",
            "output (Dense)               (None, 10)                1290      \n",
            "=================================================================\n",
            "Total params: 1,742,474\n",
            "Trainable params: 1,740,682\n",
            "Non-trainable params: 1,792\n",
            "_________________________________________________________________\n",
            "WARNING:tensorflow:From /usr/local/lib/python3.6/dist-packages/tensorflow/python/ops/math_ops.py:3066: to_int32 (from tensorflow.python.ops.math_ops) is deprecated and will be removed in a future version.\n",
            "Instructions for updating:\n",
            "Use tf.cast instead.\n",
            "Train on 50000 samples, validate on 10000 samples\n",
            "Epoch 1/50\n",
            "50000/50000 [==============================] - 12s 238us/step - loss: 2.2476 - acc: 0.2635 - val_loss: 2.1719 - val_acc: 0.3106\n",
            "Epoch 2/50\n",
            "50000/50000 [==============================] - 11s 213us/step - loss: 1.7504 - acc: 0.3870 - val_loss: 1.8016 - val_acc: 0.3789\n",
            "Epoch 3/50\n",
            "50000/50000 [==============================] - 11s 214us/step - loss: 1.6227 - acc: 0.4322 - val_loss: 1.6979 - val_acc: 0.4136\n",
            "Epoch 4/50\n",
            "50000/50000 [==============================] - 10s 209us/step - loss: 1.5519 - acc: 0.4565 - val_loss: 1.6496 - val_acc: 0.4245\n",
            "Epoch 5/50\n",
            "50000/50000 [==============================] - 11s 211us/step - loss: 1.4946 - acc: 0.4795 - val_loss: 1.6081 - val_acc: 0.4316\n",
            "Epoch 6/50\n",
            "50000/50000 [==============================] - 11s 218us/step - loss: 1.4488 - acc: 0.4936 - val_loss: 1.5870 - val_acc: 0.4455\n",
            "Epoch 7/50\n",
            "50000/50000 [==============================] - 10s 208us/step - loss: 1.4094 - acc: 0.5108 - val_loss: 1.5540 - val_acc: 0.4499\n",
            "Epoch 8/50\n",
            "50000/50000 [==============================] - 10s 207us/step - loss: 1.3748 - acc: 0.5207 - val_loss: 1.5361 - val_acc: 0.4573\n",
            "Epoch 9/50\n",
            "50000/50000 [==============================] - 10s 206us/step - loss: 1.3430 - acc: 0.5343 - val_loss: 1.5224 - val_acc: 0.4669\n",
            "Epoch 10/50\n",
            "50000/50000 [==============================] - 10s 206us/step - loss: 1.3123 - acc: 0.5436 - val_loss: 1.5141 - val_acc: 0.4684\n",
            "Epoch 11/50\n",
            "50000/50000 [==============================] - 10s 207us/step - loss: 1.2841 - acc: 0.5545 - val_loss: 1.4980 - val_acc: 0.4764\n",
            "Epoch 12/50\n",
            "50000/50000 [==============================] - 10s 207us/step - loss: 1.2573 - acc: 0.5659 - val_loss: 1.4877 - val_acc: 0.4828\n",
            "Epoch 13/50\n",
            "50000/50000 [==============================] - 11s 214us/step - loss: 1.2327 - acc: 0.5742 - val_loss: 1.4814 - val_acc: 0.4835\n",
            "Epoch 14/50\n",
            "50000/50000 [==============================] - 10s 205us/step - loss: 1.2074 - acc: 0.5836 - val_loss: 1.4824 - val_acc: 0.4819\n",
            "Epoch 15/50\n",
            "50000/50000 [==============================] - 10s 205us/step - loss: 1.1832 - acc: 0.5925 - val_loss: 1.4736 - val_acc: 0.4906\n",
            "Epoch 16/50\n",
            "50000/50000 [==============================] - 10s 204us/step - loss: 1.1594 - acc: 0.6005 - val_loss: 1.4794 - val_acc: 0.4898\n",
            "Epoch 17/50\n",
            "50000/50000 [==============================] - 10s 206us/step - loss: 1.1368 - acc: 0.6116 - val_loss: 1.4654 - val_acc: 0.4917\n",
            "Epoch 18/50\n",
            "50000/50000 [==============================] - 10s 209us/step - loss: 1.1132 - acc: 0.6198 - val_loss: 1.4796 - val_acc: 0.4865\n",
            "Epoch 19/50\n",
            "50000/50000 [==============================] - 10s 207us/step - loss: 1.0931 - acc: 0.6264 - val_loss: 1.4598 - val_acc: 0.4943\n",
            "Epoch 20/50\n",
            "50000/50000 [==============================] - 10s 209us/step - loss: 1.0721 - acc: 0.6358 - val_loss: 1.4753 - val_acc: 0.4912\n",
            "Epoch 21/50\n",
            "50000/50000 [==============================] - 10s 207us/step - loss: 1.0496 - acc: 0.6440 - val_loss: 1.4638 - val_acc: 0.4954\n",
            "Epoch 22/50\n",
            "50000/50000 [==============================] - 10s 205us/step - loss: 1.0269 - acc: 0.6530 - val_loss: 1.4818 - val_acc: 0.4962\n",
            "Epoch 23/50\n",
            "50000/50000 [==============================] - 8s 162us/step - loss: 1.0064 - acc: 0.6597 - val_loss: 1.4737 - val_acc: 0.4933\n",
            "Epoch 24/50\n",
            "50000/50000 [==============================] - 8s 153us/step - loss: 0.9869 - acc: 0.6686 - val_loss: 1.4699 - val_acc: 0.4978\n",
            "\n",
            "Epoch 00024: ReduceLROnPlateau reducing learning rate to 0.0005000000237487257.\n",
            "Epoch 25/50\n",
            "50000/50000 [==============================] - 8s 170us/step - loss: 0.9564 - acc: 0.6811 - val_loss: 1.4711 - val_acc: 0.4983\n",
            "Epoch 26/50\n",
            "50000/50000 [==============================] - 9s 181us/step - loss: 0.9380 - acc: 0.6878 - val_loss: 1.4605 - val_acc: 0.5000\n",
            "Epoch 27/50\n",
            "50000/50000 [==============================] - 10s 206us/step - loss: 0.9265 - acc: 0.6933 - val_loss: 1.4603 - val_acc: 0.5057\n",
            "Epoch 28/50\n",
            "50000/50000 [==============================] - 10s 204us/step - loss: 0.9150 - acc: 0.6973 - val_loss: 1.4731 - val_acc: 0.4994\n",
            "Epoch 29/50\n",
            "50000/50000 [==============================] - 10s 204us/step - loss: 0.9041 - acc: 0.7009 - val_loss: 1.4743 - val_acc: 0.5009\n",
            "\n",
            "Epoch 00029: ReduceLROnPlateau reducing learning rate to 0.0002500000118743628.\n",
            "Epoch 30/50\n",
            "50000/50000 [==============================] - 10s 205us/step - loss: 0.8899 - acc: 0.7081 - val_loss: 1.4651 - val_acc: 0.5021\n",
            "Epoch 31/50\n",
            "50000/50000 [==============================] - 10s 207us/step - loss: 0.8791 - acc: 0.7129 - val_loss: 1.4622 - val_acc: 0.5056\n",
            "Epoch 32/50\n",
            "50000/50000 [==============================] - 10s 206us/step - loss: 0.8728 - acc: 0.7150 - val_loss: 1.4671 - val_acc: 0.5030\n",
            "Epoch 33/50\n",
            "50000/50000 [==============================] - 10s 207us/step - loss: 0.8683 - acc: 0.7168 - val_loss: 1.4722 - val_acc: 0.5053\n",
            "Epoch 34/50\n",
            "50000/50000 [==============================] - 10s 203us/step - loss: 0.8610 - acc: 0.7198 - val_loss: 1.4741 - val_acc: 0.5047\n",
            "\n",
            "Epoch 00034: ReduceLROnPlateau reducing learning rate to 0.0001250000059371814.\n",
            "Epoch 35/50\n",
            "50000/50000 [==============================] - 10s 207us/step - loss: 0.8541 - acc: 0.7235 - val_loss: 1.4700 - val_acc: 0.5063\n",
            "Epoch 36/50\n",
            "50000/50000 [==============================] - 10s 207us/step - loss: 0.8478 - acc: 0.7250 - val_loss: 1.4718 - val_acc: 0.5053\n",
            "Epoch 37/50\n",
            "50000/50000 [==============================] - 11s 217us/step - loss: 0.8451 - acc: 0.7263 - val_loss: 1.4701 - val_acc: 0.5065\n",
            "Epoch 38/50\n",
            "50000/50000 [==============================] - 10s 206us/step - loss: 0.8411 - acc: 0.7289 - val_loss: 1.4715 - val_acc: 0.5061\n",
            "Epoch 39/50\n",
            "50000/50000 [==============================] - 10s 206us/step - loss: 0.8392 - acc: 0.7294 - val_loss: 1.4725 - val_acc: 0.5030\n",
            "\n",
            "Epoch 00039: ReduceLROnPlateau reducing learning rate to 6.25000029685907e-05.\n",
            "Epoch 40/50\n",
            "50000/50000 [==============================] - 10s 204us/step - loss: 0.8349 - acc: 0.7303 - val_loss: 1.4734 - val_acc: 0.5048\n",
            "Epoch 41/50\n",
            "50000/50000 [==============================] - 10s 207us/step - loss: 0.8318 - acc: 0.7320 - val_loss: 1.4741 - val_acc: 0.5048\n",
            "Epoch 42/50\n",
            "50000/50000 [==============================] - 10s 207us/step - loss: 0.8309 - acc: 0.7321 - val_loss: 1.4750 - val_acc: 0.5019\n",
            "Epoch 43/50\n",
            "50000/50000 [==============================] - 11s 213us/step - loss: 0.8305 - acc: 0.7325 - val_loss: 1.4745 - val_acc: 0.5044\n",
            "Epoch 44/50\n",
            "50000/50000 [==============================] - 10s 206us/step - loss: 0.8270 - acc: 0.7340 - val_loss: 1.4747 - val_acc: 0.5030\n",
            "\n",
            "Epoch 00044: ReduceLROnPlateau reducing learning rate to 3.125000148429535e-05.\n",
            "Epoch 45/50\n",
            "50000/50000 [==============================] - 10s 206us/step - loss: 0.8261 - acc: 0.7339 - val_loss: 1.4744 - val_acc: 0.5032\n",
            "Epoch 46/50\n",
            "50000/50000 [==============================] - 10s 205us/step - loss: 0.8249 - acc: 0.7340 - val_loss: 1.4760 - val_acc: 0.5037\n",
            "Epoch 47/50\n",
            "50000/50000 [==============================] - 10s 209us/step - loss: 0.8236 - acc: 0.7360 - val_loss: 1.4753 - val_acc: 0.5038\n",
            "Epoch 48/50\n",
            "50000/50000 [==============================] - 10s 208us/step - loss: 0.8222 - acc: 0.7365 - val_loss: 1.4755 - val_acc: 0.5038\n",
            "Epoch 49/50\n",
            "50000/50000 [==============================] - 10s 207us/step - loss: 0.8217 - acc: 0.7351 - val_loss: 1.4762 - val_acc: 0.5044\n",
            "\n",
            "Epoch 00049: ReduceLROnPlateau reducing learning rate to 1.5625000742147677e-05.\n",
            "Epoch 50/50\n",
            "50000/50000 [==============================] - 10s 207us/step - loss: 0.8206 - acc: 0.7364 - val_loss: 1.4761 - val_acc: 0.5025\n"
          ],
          "name": "stdout"
        }
      ]
    },
    {
      "metadata": {
        "id": "seW_rVvE5_X4",
        "colab_type": "code",
        "outputId": "81a77c14-4a44-41bb-f954-33be0d4d84f1",
        "colab": {
          "base_uri": "https://localhost:8080/",
          "height": 545
        }
      },
      "cell_type": "code",
      "source": [
        "import matplotlib.pyplot as plt\n",
        "%matplotlib inline\n",
        "\n",
        "plt.plot(range(len(train_loss)), train_loss, label=\"train loss\")\n",
        "plt.plot(range(len(valid_loss)), valid_loss, label=\"valid loss\")\n",
        "plt.legend()\n",
        "plt.title(\"Loss\")\n",
        "plt.show()\n",
        "\n",
        "plt.plot(range(len(train_acc)), train_acc, label=\"train accuracy\")\n",
        "plt.plot(range(len(valid_acc)), valid_acc, label=\"valid accuracy\")\n",
        "plt.legend()\n",
        "plt.title(\"Accuracy\")\n",
        "plt.show()"
      ],
      "execution_count": 9,
      "outputs": [
        {
          "output_type": "display_data",
          "data": {
            "image/png": "[encoded data removed]",
            "text/plain": [
              "<Figure size 432x288 with 1 Axes>"
            ]
          },
          "metadata": {
            "tags": []
          }
        },
        {
          "output_type": "display_data",
          "data": {
            "image/png": "[encoded data removed]",
            "text/plain": [
              "<Figure size 432x288 with 1 Axes>"
            ]
          },
          "metadata": {
            "tags": []
          }
        }
      ]
    },
    {
      "metadata": {
        "id": "RmOCGLWL5_X7",
        "colab_type": "text"
      },
      "cell_type": "markdown",
      "source": [
        "## Work\n",
        "1. 請改變 reduce_lr 的 patience 和 factor 並比較不同設定下，對訓練/驗證集的影響\n",
        "2. 請將 optimizer 換成 Adam、RMSprop 搭配 reduce_lr 並比較訓練結果"
      ]
    },
    {
      "metadata": {
        "id": "sbCRrEGr_s1-",
        "colab_type": "code",
        "colab": {}
      },
      "cell_type": "code",
      "source": [
        "\n",
        "reduce_lr_2 = ReduceLROnPlateau(factor=0.25, \n",
        "                              min_lr=1e-12, \n",
        "                              monitor='val_loss', \n",
        "                              patience=10,\n",
        "                              verbose=1)"
      ],
      "execution_count": 0,
      "outputs": []
    },
    {
      "metadata": {
        "id": "EwXyVzXt_1Vf",
        "colab_type": "code",
        "outputId": "f1fa95b1-decf-4d65-ade4-c3054e6c5abb",
        "colab": {
          "base_uri": "https://localhost:8080/",
          "height": 2290
        }
      },
      "cell_type": "code",
      "source": [
        "model2 = build_mlp(input_shape=x_train.shape[1:])\n",
        "model2.summary()\n",
        "optimizer = keras.optimizers.SGD(lr=LEARNING_RATE, nesterov=True, momentum=MOMENTUM)\n",
        "model2.compile(loss=\"categorical_crossentropy\", metrics=[\"accuracy\"], optimizer=optimizer)\n",
        "\n",
        "model2.fit(x_train, y_train, \n",
        "          epochs=EPOCHS, \n",
        "          batch_size=BATCH_SIZE, \n",
        "          validation_data=(x_test, y_test), \n",
        "          shuffle=True,\n",
        "          callbacks=[reduce_lr_2]\n",
        "         )\n",
        "\n",
        "# Collect results\n",
        "train_loss = model2.history.history[\"loss\"]\n",
        "valid_loss = model2.history.history[\"val_loss\"]\n",
        "train_acc = model2.history.history[\"acc\"]\n",
        "valid_acc = model2.history.history[\"val_acc\"]"
      ],
      "execution_count": 11,
      "outputs": [
        {
          "output_type": "stream",
          "text": [
            "_________________________________________________________________\n",
            "Layer (type)                 Output Shape              Param #   \n",
            "=================================================================\n",
            "input_2 (InputLayer)         (None, 3072)              0         \n",
            "_________________________________________________________________\n",
            "hidden_layer1 (Dense)        (None, 512)               1573376   \n",
            "_________________________________________________________________\n",
            "batch_normalization_4 (Batch (None, 512)               2048      \n",
            "_________________________________________________________________\n",
            "hidden_layer2 (Dense)        (None, 256)               131328    \n",
            "_________________________________________________________________\n",
            "batch_normalization_5 (Batch (None, 256)               1024      \n",
            "_________________________________________________________________\n",
            "hidden_layer3 (Dense)        (None, 128)               32896     \n",
            "_________________________________________________________________\n",
            "batch_normalization_6 (Batch (None, 128)               512       \n",
            "_________________________________________________________________\n",
            "output (Dense)               (None, 10)                1290      \n",
            "=================================================================\n",
            "Total params: 1,742,474\n",
            "Trainable params: 1,740,682\n",
            "Non-trainable params: 1,792\n",
            "_________________________________________________________________\n",
            "Train on 50000 samples, validate on 10000 samples\n",
            "Epoch 1/50\n",
            "50000/50000 [==============================] - 11s 228us/step - loss: 2.1927 - acc: 0.2714 - val_loss: 2.1912 - val_acc: 0.3254\n",
            "Epoch 2/50\n",
            "50000/50000 [==============================] - 11s 211us/step - loss: 1.7423 - acc: 0.3920 - val_loss: 1.7857 - val_acc: 0.3927\n",
            "Epoch 3/50\n",
            "50000/50000 [==============================] - 11s 211us/step - loss: 1.6151 - acc: 0.4322 - val_loss: 1.6923 - val_acc: 0.4157\n",
            "Epoch 4/50\n",
            "50000/50000 [==============================] - 11s 212us/step - loss: 1.5410 - acc: 0.4589 - val_loss: 1.6346 - val_acc: 0.4247\n",
            "Epoch 5/50\n",
            "50000/50000 [==============================] - 11s 212us/step - loss: 1.4866 - acc: 0.4783 - val_loss: 1.5999 - val_acc: 0.4361\n",
            "Epoch 6/50\n",
            "50000/50000 [==============================] - 11s 214us/step - loss: 1.4421 - acc: 0.4938 - val_loss: 1.5730 - val_acc: 0.4545\n",
            "Epoch 7/50\n",
            "50000/50000 [==============================] - 11s 211us/step - loss: 1.4027 - acc: 0.5077 - val_loss: 1.5584 - val_acc: 0.4534\n",
            "Epoch 8/50\n",
            "50000/50000 [==============================] - 10s 209us/step - loss: 1.3670 - acc: 0.5219 - val_loss: 1.5199 - val_acc: 0.4667\n",
            "Epoch 9/50\n",
            "50000/50000 [==============================] - 10s 208us/step - loss: 1.3341 - acc: 0.5336 - val_loss: 1.5160 - val_acc: 0.4696\n",
            "Epoch 10/50\n",
            "50000/50000 [==============================] - 10s 209us/step - loss: 1.3057 - acc: 0.5432 - val_loss: 1.5025 - val_acc: 0.4790\n",
            "Epoch 11/50\n",
            "50000/50000 [==============================] - 10s 208us/step - loss: 1.2757 - acc: 0.5563 - val_loss: 1.4905 - val_acc: 0.4776\n",
            "Epoch 12/50\n",
            "50000/50000 [==============================] - 10s 207us/step - loss: 1.2499 - acc: 0.5669 - val_loss: 1.4782 - val_acc: 0.4834\n",
            "Epoch 13/50\n",
            "50000/50000 [==============================] - 10s 207us/step - loss: 1.2222 - acc: 0.5767 - val_loss: 1.4702 - val_acc: 0.4877\n",
            "Epoch 14/50\n",
            "50000/50000 [==============================] - 10s 209us/step - loss: 1.1975 - acc: 0.5852 - val_loss: 1.4774 - val_acc: 0.4828\n",
            "Epoch 15/50\n",
            "50000/50000 [==============================] - 10s 210us/step - loss: 1.1752 - acc: 0.5952 - val_loss: 1.4652 - val_acc: 0.4907\n",
            "Epoch 16/50\n",
            "50000/50000 [==============================] - 11s 216us/step - loss: 1.1501 - acc: 0.6038 - val_loss: 1.4657 - val_acc: 0.4824\n",
            "Epoch 17/50\n",
            "50000/50000 [==============================] - 11s 215us/step - loss: 1.1278 - acc: 0.6121 - val_loss: 1.4622 - val_acc: 0.4855\n",
            "Epoch 18/50\n",
            "50000/50000 [==============================] - 10s 208us/step - loss: 1.1067 - acc: 0.6203 - val_loss: 1.4637 - val_acc: 0.4939\n",
            "Epoch 19/50\n",
            "50000/50000 [==============================] - 11s 211us/step - loss: 1.0854 - acc: 0.6286 - val_loss: 1.4612 - val_acc: 0.4855\n",
            "Epoch 20/50\n",
            "50000/50000 [==============================] - 11s 213us/step - loss: 1.0627 - acc: 0.6354 - val_loss: 1.4498 - val_acc: 0.4938\n",
            "Epoch 21/50\n",
            "50000/50000 [==============================] - 11s 212us/step - loss: 1.0410 - acc: 0.6460 - val_loss: 1.4492 - val_acc: 0.4942\n",
            "Epoch 22/50\n",
            "50000/50000 [==============================] - 11s 218us/step - loss: 1.0213 - acc: 0.6540 - val_loss: 1.4588 - val_acc: 0.4899\n",
            "Epoch 23/50\n",
            "50000/50000 [==============================] - 11s 212us/step - loss: 1.0006 - acc: 0.6601 - val_loss: 1.4541 - val_acc: 0.4979\n",
            "Epoch 24/50\n",
            "50000/50000 [==============================] - 10s 206us/step - loss: 0.9801 - acc: 0.6685 - val_loss: 1.4593 - val_acc: 0.4929\n",
            "Epoch 25/50\n",
            "50000/50000 [==============================] - 10s 209us/step - loss: 0.9589 - acc: 0.6764 - val_loss: 1.4701 - val_acc: 0.4927\n",
            "Epoch 26/50\n",
            "50000/50000 [==============================] - 11s 211us/step - loss: 0.9388 - acc: 0.6847 - val_loss: 1.4770 - val_acc: 0.4938\n",
            "Epoch 27/50\n",
            "50000/50000 [==============================] - 11s 211us/step - loss: 0.9183 - acc: 0.6929 - val_loss: 1.4658 - val_acc: 0.4955\n",
            "Epoch 28/50\n",
            "50000/50000 [==============================] - 10s 209us/step - loss: 0.8981 - acc: 0.7013 - val_loss: 1.4616 - val_acc: 0.5022\n",
            "Epoch 29/50\n",
            "50000/50000 [==============================] - 10s 208us/step - loss: 0.8787 - acc: 0.7085 - val_loss: 1.4874 - val_acc: 0.4938\n",
            "Epoch 30/50\n",
            "50000/50000 [==============================] - 10s 207us/step - loss: 0.8594 - acc: 0.7160 - val_loss: 1.4857 - val_acc: 0.4992\n",
            "Epoch 31/50\n",
            "50000/50000 [==============================] - 11s 212us/step - loss: 0.8405 - acc: 0.7237 - val_loss: 1.4996 - val_acc: 0.4955\n",
            "\n",
            "Epoch 00031: ReduceLROnPlateau reducing learning rate to 0.0002500000118743628.\n",
            "Epoch 32/50\n",
            "50000/50000 [==============================] - 10s 210us/step - loss: 0.8160 - acc: 0.7333 - val_loss: 1.4675 - val_acc: 0.5062\n",
            "Epoch 33/50\n",
            "50000/50000 [==============================] - 11s 210us/step - loss: 0.7913 - acc: 0.7471 - val_loss: 1.4683 - val_acc: 0.5063\n",
            "Epoch 34/50\n",
            "50000/50000 [==============================] - 10s 207us/step - loss: 0.7839 - acc: 0.7492 - val_loss: 1.4765 - val_acc: 0.5039\n",
            "Epoch 35/50\n",
            "50000/50000 [==============================] - 10s 204us/step - loss: 0.7766 - acc: 0.7526 - val_loss: 1.4776 - val_acc: 0.5050\n",
            "Epoch 36/50\n",
            "50000/50000 [==============================] - 10s 206us/step - loss: 0.7703 - acc: 0.7565 - val_loss: 1.4745 - val_acc: 0.5030\n",
            "Epoch 37/50\n",
            "50000/50000 [==============================] - 10s 205us/step - loss: 0.7652 - acc: 0.7575 - val_loss: 1.4840 - val_acc: 0.5026\n",
            "Epoch 38/50\n",
            "50000/50000 [==============================] - 10s 207us/step - loss: 0.7601 - acc: 0.7587 - val_loss: 1.4819 - val_acc: 0.5053\n",
            "Epoch 39/50\n",
            "50000/50000 [==============================] - 10s 207us/step - loss: 0.7552 - acc: 0.7628 - val_loss: 1.4858 - val_acc: 0.5013\n",
            "Epoch 40/50\n",
            "50000/50000 [==============================] - 10s 207us/step - loss: 0.7495 - acc: 0.7640 - val_loss: 1.4845 - val_acc: 0.5041\n",
            "Epoch 41/50\n",
            "50000/50000 [==============================] - 10s 204us/step - loss: 0.7440 - acc: 0.7664 - val_loss: 1.4930 - val_acc: 0.5013\n",
            "\n",
            "Epoch 00041: ReduceLROnPlateau reducing learning rate to 6.25000029685907e-05.\n",
            "Epoch 42/50\n",
            "50000/50000 [==============================] - 10s 205us/step - loss: 0.7362 - acc: 0.7700 - val_loss: 1.4863 - val_acc: 0.5044\n",
            "Epoch 43/50\n",
            "50000/50000 [==============================] - 10s 209us/step - loss: 0.7304 - acc: 0.7721 - val_loss: 1.4889 - val_acc: 0.5056\n",
            "Epoch 44/50\n",
            "50000/50000 [==============================] - 10s 207us/step - loss: 0.7279 - acc: 0.7733 - val_loss: 1.4884 - val_acc: 0.5031\n",
            "Epoch 45/50\n",
            "50000/50000 [==============================] - 10s 208us/step - loss: 0.7259 - acc: 0.7746 - val_loss: 1.4898 - val_acc: 0.5032\n",
            "Epoch 46/50\n",
            "50000/50000 [==============================] - 11s 218us/step - loss: 0.7248 - acc: 0.7758 - val_loss: 1.4900 - val_acc: 0.5025\n",
            "Epoch 47/50\n",
            "50000/50000 [==============================] - 10s 209us/step - loss: 0.7234 - acc: 0.7755 - val_loss: 1.4913 - val_acc: 0.5014\n",
            "Epoch 48/50\n",
            "50000/50000 [==============================] - 10s 209us/step - loss: 0.7214 - acc: 0.7761 - val_loss: 1.4918 - val_acc: 0.5038\n",
            "Epoch 49/50\n",
            "50000/50000 [==============================] - 10s 207us/step - loss: 0.7202 - acc: 0.7766 - val_loss: 1.4920 - val_acc: 0.5028\n",
            "Epoch 50/50\n",
            "50000/50000 [==============================] - 10s 208us/step - loss: 0.7199 - acc: 0.7764 - val_loss: 1.4934 - val_acc: 0.5038\n"
          ],
          "name": "stdout"
        }
      ]
    },
    {
      "metadata": {
        "id": "biXf2A9QDufG",
        "colab_type": "code",
        "outputId": "59b70608-5593-4df2-ad6b-af926bc2c630",
        "colab": {
          "base_uri": "https://localhost:8080/",
          "height": 545
        }
      },
      "cell_type": "code",
      "source": [
        "import matplotlib.pyplot as plt\n",
        "%matplotlib inline\n",
        "\n",
        "plt.plot(range(len(train_loss)), train_loss, label=\"train loss\")\n",
        "plt.plot(range(len(valid_loss)), valid_loss, label=\"valid loss\")\n",
        "plt.legend()\n",
        "plt.title(\"Loss\")\n",
        "plt.show()\n",
        "\n",
        "plt.plot(range(len(train_acc)), train_acc, label=\"train accuracy\")\n",
        "plt.plot(range(len(valid_acc)), valid_acc, label=\"valid accuracy\")\n",
        "plt.legend()\n",
        "plt.title(\"Accuracy\")\n",
        "plt.show()"
      ],
      "execution_count": 12,
      "outputs": [
        {
          "output_type": "display_data",
          "data": {
            "image/png": "[encoded data removed]",
            "text/plain": [
              "<Figure size 432x288 with 1 Axes>"
            ]
          },
          "metadata": {
            "tags": []
          }
        },
        {
          "output_type": "display_data",
          "data": {
            "image/png": "[encoded data removed]",
            "text/plain": [
              "<Figure size 432x288 with 1 Axes>"
            ]
          },
          "metadata": {
            "tags": []
          }
        }
      ]
    },
    {
      "metadata": {
        "id": "iSKiGDrNOFQ-",
        "colab_type": "code",
        "outputId": "9806f344-4594-4ac3-eee8-421ca6348955",
        "colab": {
          "base_uri": "https://localhost:8080/",
          "height": 422
        }
      },
      "cell_type": "code",
      "source": [
        "model3 = build_mlp(input_shape=x_train.shape[1:])\n",
        "model3.summary()\n",
        "optimizer3 = keras.optimizers.Adam(lr=LEARNING_RATE, decay=0)\n",
        "model3.compile(loss=\"categorical_crossentropy\", metrics=[\"accuracy\"], optimizer=optimizer3)\n"
      ],
      "execution_count": 13,
      "outputs": [
        {
          "output_type": "stream",
          "text": [
            "_________________________________________________________________\n",
            "Layer (type)                 Output Shape              Param #   \n",
            "=================================================================\n",
            "input_3 (InputLayer)         (None, 3072)              0         \n",
            "_________________________________________________________________\n",
            "hidden_layer1 (Dense)        (None, 512)               1573376   \n",
            "_________________________________________________________________\n",
            "batch_normalization_7 (Batch (None, 512)               2048      \n",
            "_________________________________________________________________\n",
            "hidden_layer2 (Dense)        (None, 256)               131328    \n",
            "_________________________________________________________________\n",
            "batch_normalization_8 (Batch (None, 256)               1024      \n",
            "_________________________________________________________________\n",
            "hidden_layer3 (Dense)        (None, 128)               32896     \n",
            "_________________________________________________________________\n",
            "batch_normalization_9 (Batch (None, 128)               512       \n",
            "_________________________________________________________________\n",
            "output (Dense)               (None, 10)                1290      \n",
            "=================================================================\n",
            "Total params: 1,742,474\n",
            "Trainable params: 1,740,682\n",
            "Non-trainable params: 1,792\n",
            "_________________________________________________________________\n"
          ],
          "name": "stdout"
        }
      ]
    },
    {
      "metadata": {
        "id": "fnPHNiuVOS8E",
        "colab_type": "code",
        "outputId": "aeaf7b46-6afc-46b9-cfcd-ebbd9f45049d",
        "colab": {
          "base_uri": "https://localhost:8080/",
          "height": 1973
        }
      },
      "cell_type": "code",
      "source": [
        "\n",
        "model2.fit(x_train, y_train, \n",
        "          epochs=EPOCHS, \n",
        "          batch_size=BATCH_SIZE, \n",
        "          validation_data=(x_test, y_test), \n",
        "          shuffle=True,\n",
        "          callbacks=[reduce_lr_2]\n",
        "         )\n",
        "  "
      ],
      "execution_count": 14,
      "outputs": [
        {
          "output_type": "stream",
          "text": [
            "Train on 50000 samples, validate on 10000 samples\n",
            "Epoch 1/50\n",
            "50000/50000 [==============================] - 11s 217us/step - loss: 0.7182 - acc: 0.7776 - val_loss: 1.4934 - val_acc: 0.5044\n",
            "Epoch 2/50\n",
            "50000/50000 [==============================] - 11s 213us/step - loss: 0.7172 - acc: 0.7772 - val_loss: 1.4941 - val_acc: 0.5029\n",
            "Epoch 3/50\n",
            "50000/50000 [==============================] - 10s 207us/step - loss: 0.7149 - acc: 0.7785 - val_loss: 1.4937 - val_acc: 0.5048\n",
            "Epoch 4/50\n",
            "50000/50000 [==============================] - 10s 207us/step - loss: 0.7138 - acc: 0.7788 - val_loss: 1.4959 - val_acc: 0.5032\n",
            "Epoch 5/50\n",
            "50000/50000 [==============================] - 10s 207us/step - loss: 0.7138 - acc: 0.7787 - val_loss: 1.4961 - val_acc: 0.5048\n",
            "Epoch 6/50\n",
            "50000/50000 [==============================] - 10s 209us/step - loss: 0.7111 - acc: 0.7803 - val_loss: 1.4961 - val_acc: 0.5010\n",
            "Epoch 7/50\n",
            "50000/50000 [==============================] - 10s 208us/step - loss: 0.7095 - acc: 0.7832 - val_loss: 1.4985 - val_acc: 0.5036\n",
            "Epoch 8/50\n",
            "50000/50000 [==============================] - 10s 205us/step - loss: 0.7080 - acc: 0.7821 - val_loss: 1.4988 - val_acc: 0.5061\n",
            "Epoch 9/50\n",
            "50000/50000 [==============================] - 10s 206us/step - loss: 0.7072 - acc: 0.7817 - val_loss: 1.4992 - val_acc: 0.5027\n",
            "Epoch 10/50\n",
            "50000/50000 [==============================] - 10s 207us/step - loss: 0.7056 - acc: 0.7831 - val_loss: 1.5005 - val_acc: 0.5041\n",
            "Epoch 11/50\n",
            "50000/50000 [==============================] - 10s 207us/step - loss: 0.7046 - acc: 0.7835 - val_loss: 1.5004 - val_acc: 0.5031\n",
            "\n",
            "Epoch 00011: ReduceLROnPlateau reducing learning rate to 1.5625000742147677e-05.\n",
            "Epoch 12/50\n",
            "50000/50000 [==============================] - 10s 208us/step - loss: 0.7006 - acc: 0.7848 - val_loss: 1.5001 - val_acc: 0.5041\n",
            "Epoch 13/50\n",
            "50000/50000 [==============================] - 10s 206us/step - loss: 0.7013 - acc: 0.7858 - val_loss: 1.5014 - val_acc: 0.5038\n",
            "Epoch 14/50\n",
            "50000/50000 [==============================] - 10s 205us/step - loss: 0.7001 - acc: 0.7870 - val_loss: 1.5014 - val_acc: 0.5034\n",
            "Epoch 15/50\n",
            "50000/50000 [==============================] - 10s 206us/step - loss: 0.7002 - acc: 0.7860 - val_loss: 1.5007 - val_acc: 0.5038\n",
            "Epoch 16/50\n",
            "50000/50000 [==============================] - 10s 205us/step - loss: 0.7001 - acc: 0.7853 - val_loss: 1.5013 - val_acc: 0.5030\n",
            "Epoch 17/50\n",
            "50000/50000 [==============================] - 10s 207us/step - loss: 0.6989 - acc: 0.7859 - val_loss: 1.5014 - val_acc: 0.5033\n",
            "Epoch 18/50\n",
            "50000/50000 [==============================] - 10s 206us/step - loss: 0.6985 - acc: 0.7856 - val_loss: 1.5017 - val_acc: 0.5034\n",
            "Epoch 19/50\n",
            "50000/50000 [==============================] - 10s 207us/step - loss: 0.6991 - acc: 0.7846 - val_loss: 1.5022 - val_acc: 0.5043\n",
            "Epoch 20/50\n",
            "50000/50000 [==============================] - 10s 205us/step - loss: 0.6978 - acc: 0.7858 - val_loss: 1.5025 - val_acc: 0.5044\n",
            "Epoch 21/50\n",
            "50000/50000 [==============================] - 10s 208us/step - loss: 0.6978 - acc: 0.7862 - val_loss: 1.5020 - val_acc: 0.5030\n",
            "\n",
            "Epoch 00021: ReduceLROnPlateau reducing learning rate to 3.906250185536919e-06.\n",
            "Epoch 22/50\n",
            "50000/50000 [==============================] - 10s 207us/step - loss: 0.6974 - acc: 0.7870 - val_loss: 1.5020 - val_acc: 0.5027\n",
            "Epoch 23/50\n",
            "50000/50000 [==============================] - 10s 207us/step - loss: 0.6964 - acc: 0.7868 - val_loss: 1.5024 - val_acc: 0.5037\n",
            "Epoch 24/50\n",
            "50000/50000 [==============================] - 10s 206us/step - loss: 0.6965 - acc: 0.7873 - val_loss: 1.5026 - val_acc: 0.5039\n",
            "Epoch 25/50\n",
            "50000/50000 [==============================] - 10s 207us/step - loss: 0.6970 - acc: 0.7864 - val_loss: 1.5028 - val_acc: 0.5039\n",
            "Epoch 26/50\n",
            "50000/50000 [==============================] - 11s 215us/step - loss: 0.6967 - acc: 0.7874 - val_loss: 1.5028 - val_acc: 0.5037\n",
            "Epoch 27/50\n",
            "50000/50000 [==============================] - 10s 209us/step - loss: 0.6963 - acc: 0.7866 - val_loss: 1.5027 - val_acc: 0.5042\n",
            "Epoch 28/50\n",
            "50000/50000 [==============================] - 10s 209us/step - loss: 0.6965 - acc: 0.7875 - val_loss: 1.5026 - val_acc: 0.5042\n",
            "Epoch 29/50\n",
            "50000/50000 [==============================] - 10s 206us/step - loss: 0.6962 - acc: 0.7870 - val_loss: 1.5027 - val_acc: 0.5037\n",
            "Epoch 30/50\n",
            "50000/50000 [==============================] - 10s 207us/step - loss: 0.6964 - acc: 0.7868 - val_loss: 1.5026 - val_acc: 0.5041\n",
            "Epoch 31/50\n",
            "50000/50000 [==============================] - 11s 213us/step - loss: 0.6965 - acc: 0.7871 - val_loss: 1.5030 - val_acc: 0.5043\n",
            "\n",
            "Epoch 00031: ReduceLROnPlateau reducing learning rate to 9.765625463842298e-07.\n",
            "Epoch 32/50\n",
            "50000/50000 [==============================] - 10s 206us/step - loss: 0.6958 - acc: 0.7882 - val_loss: 1.5029 - val_acc: 0.5047\n",
            "Epoch 33/50\n",
            "50000/50000 [==============================] - 10s 208us/step - loss: 0.6969 - acc: 0.7869 - val_loss: 1.5029 - val_acc: 0.5043\n",
            "Epoch 34/50\n",
            "50000/50000 [==============================] - 10s 205us/step - loss: 0.6959 - acc: 0.7871 - val_loss: 1.5028 - val_acc: 0.5042\n",
            "Epoch 35/50\n",
            "50000/50000 [==============================] - 10s 206us/step - loss: 0.6965 - acc: 0.7878 - val_loss: 1.5029 - val_acc: 0.5041\n",
            "Epoch 36/50\n",
            "50000/50000 [==============================] - 10s 208us/step - loss: 0.6958 - acc: 0.7880 - val_loss: 1.5030 - val_acc: 0.5040\n",
            "Epoch 37/50\n",
            "50000/50000 [==============================] - 10s 208us/step - loss: 0.6958 - acc: 0.7863 - val_loss: 1.5030 - val_acc: 0.5042\n",
            "Epoch 38/50\n",
            "50000/50000 [==============================] - 10s 209us/step - loss: 0.6959 - acc: 0.7874 - val_loss: 1.5030 - val_acc: 0.5043\n",
            "Epoch 39/50\n",
            "50000/50000 [==============================] - 10s 209us/step - loss: 0.6959 - acc: 0.7873 - val_loss: 1.5029 - val_acc: 0.5041\n",
            "Epoch 40/50\n",
            "50000/50000 [==============================] - 11s 212us/step - loss: 0.6960 - acc: 0.7871 - val_loss: 1.5029 - val_acc: 0.5039\n",
            "Epoch 41/50\n",
            "50000/50000 [==============================] - 10s 209us/step - loss: 0.6966 - acc: 0.7854 - val_loss: 1.5030 - val_acc: 0.5041\n",
            "\n",
            "Epoch 00041: ReduceLROnPlateau reducing learning rate to 2.4414063659605745e-07.\n",
            "Epoch 42/50\n",
            "50000/50000 [==============================] - 10s 209us/step - loss: 0.6955 - acc: 0.7872 - val_loss: 1.5030 - val_acc: 0.5042\n",
            "Epoch 43/50\n",
            "50000/50000 [==============================] - 10s 209us/step - loss: 0.6947 - acc: 0.7875 - val_loss: 1.5029 - val_acc: 0.5040\n",
            "Epoch 44/50\n",
            "50000/50000 [==============================] - 10s 208us/step - loss: 0.6956 - acc: 0.7881 - val_loss: 1.5030 - val_acc: 0.5039\n",
            "Epoch 45/50\n",
            "50000/50000 [==============================] - 10s 209us/step - loss: 0.6951 - acc: 0.7877 - val_loss: 1.5030 - val_acc: 0.5041\n",
            "Epoch 46/50\n",
            "50000/50000 [==============================] - 10s 209us/step - loss: 0.6949 - acc: 0.7880 - val_loss: 1.5030 - val_acc: 0.5043\n",
            "Epoch 47/50\n",
            "50000/50000 [==============================] - 10s 210us/step - loss: 0.6953 - acc: 0.7873 - val_loss: 1.5030 - val_acc: 0.5041\n",
            "Epoch 48/50\n",
            "50000/50000 [==============================] - 10s 210us/step - loss: 0.6958 - acc: 0.7875 - val_loss: 1.5030 - val_acc: 0.5037\n",
            "Epoch 49/50\n",
            "50000/50000 [==============================] - 10s 209us/step - loss: 0.6953 - acc: 0.7873 - val_loss: 1.5031 - val_acc: 0.5039\n",
            "Epoch 50/50\n",
            "50000/50000 [==============================] - 11s 211us/step - loss: 0.6949 - acc: 0.7890 - val_loss: 1.5030 - val_acc: 0.5040\n"
          ],
          "name": "stdout"
        },
        {
          "output_type": "execute_result",
          "data": {
            "text/plain": [
              "<keras.callbacks.History at 0x7f27c01fab38>"
            ]
          },
          "metadata": {
            "tags": []
          },
          "execution_count": 14
        }
      ]
    },
    {
      "metadata": {
        "id": "qnxmhXNyOVKF",
        "colab_type": "code",
        "colab": {
          "base_uri": "https://localhost:8080/",
          "height": 223
        },
        "outputId": "cf993779-a6e8-46be-88ac-b5e71644f3ff"
      },
      "cell_type": "code",
      "source": [
        "# Collect results\n",
        "train_loss3 = model3.history.history[\"loss\"]\n",
        "valid_loss3 = model3.history.history[\"val_loss\"]\n",
        "train_acc3 = model3.history.history[\"acc\"]\n",
        "valid_acc3 = model3.history.history[\"val_acc\"]"
      ],
      "execution_count": 15,
      "outputs": [
        {
          "output_type": "error",
          "ename": "AttributeError",
          "evalue": "ignored",
          "traceback": [
            "\u001b[0;31m---------------------------------------------------------------------------\u001b[0m",
            "\u001b[0;31mAttributeError\u001b[0m                            Traceback (most recent call last)",
            "\u001b[0;32m<ipython-input-15-6ed989185763>\u001b[0m in \u001b[0;36m<module>\u001b[0;34m()\u001b[0m\n\u001b[0;32m----> 1\u001b[0;31m \u001b[0mtrain_loss3\u001b[0m \u001b[0;34m=\u001b[0m \u001b[0mmodel3\u001b[0m\u001b[0;34m.\u001b[0m\u001b[0mhistory\u001b[0m\u001b[0;34m.\u001b[0m\u001b[0mhistory\u001b[0m\u001b[0;34m[\u001b[0m\u001b[0;34m\"loss\"\u001b[0m\u001b[0;34m]\u001b[0m\u001b[0;34m\u001b[0m\u001b[0;34m\u001b[0m\u001b[0m\n\u001b[0m\u001b[1;32m      2\u001b[0m \u001b[0mvalid_loss3\u001b[0m \u001b[0;34m=\u001b[0m \u001b[0mmodel3\u001b[0m\u001b[0;34m.\u001b[0m\u001b[0mhistory\u001b[0m\u001b[0;34m.\u001b[0m\u001b[0mhistory\u001b[0m\u001b[0;34m[\u001b[0m\u001b[0;34m\"val_loss\"\u001b[0m\u001b[0;34m]\u001b[0m\u001b[0;34m\u001b[0m\u001b[0;34m\u001b[0m\u001b[0m\n\u001b[1;32m      3\u001b[0m \u001b[0mtrain_acc3\u001b[0m \u001b[0;34m=\u001b[0m \u001b[0mmodel3\u001b[0m\u001b[0;34m.\u001b[0m\u001b[0mhistory\u001b[0m\u001b[0;34m.\u001b[0m\u001b[0mhistory\u001b[0m\u001b[0;34m[\u001b[0m\u001b[0;34m\"acc\"\u001b[0m\u001b[0;34m]\u001b[0m\u001b[0;34m\u001b[0m\u001b[0;34m\u001b[0m\u001b[0m\n\u001b[1;32m      4\u001b[0m \u001b[0mvalid_acc3\u001b[0m \u001b[0;34m=\u001b[0m \u001b[0mmodel3\u001b[0m\u001b[0;34m.\u001b[0m\u001b[0mhistory\u001b[0m\u001b[0;34m.\u001b[0m\u001b[0mhistory\u001b[0m\u001b[0;34m[\u001b[0m\u001b[0;34m\"val_acc\"\u001b[0m\u001b[0;34m]\u001b[0m\u001b[0;34m\u001b[0m\u001b[0;34m\u001b[0m\u001b[0m\n",
            "\u001b[0;31mAttributeError\u001b[0m: 'Model' object has no attribute 'history'"
          ]
        }
      ]
    }
  ]
}