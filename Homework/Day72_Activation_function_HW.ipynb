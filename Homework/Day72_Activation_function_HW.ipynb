{
  "nbformat": 4,
  "nbformat_minor": 0,
  "metadata": {
    "colab": {
      "name": "Day72-Activation_function_HW.ipynb",
      "version": "0.3.2",
      "provenance": [],
      "include_colab_link": true
    },
    "kernelspec": {
      "display_name": "Python 3",
      "language": "python",
      "name": "python3"
    }
  },
  "cells": [
    {
      "cell_type": "markdown",
      "metadata": {
        "id": "view-in-github",
        "colab_type": "text"
      },
      "source": [
        "<a href=\"https://colab.research.google.com/github/qu8411826/ML100-Days/blob/master/Homework/Day72_Activation_function_HW.ipynb\" target=\"_parent\"><img src=\"https://colab.research.google.com/assets/colab-badge.svg\" alt=\"Open In Colab\"/></a>"
      ]
    },
    {
      "metadata": {
        "id": "66w_0rqJeg7f",
        "colab_type": "text"
      },
      "cell_type": "markdown",
      "source": [
        "# Rectified Linear Unit- Relu \n",
        "\n",
        "f(x)=max(0,x)\n"
      ]
    },
    {
      "metadata": {
        "id": "Cry58zuYeg7g",
        "colab_type": "code",
        "colab": {
          "base_uri": "https://localhost:8080/",
          "height": 34
        },
        "outputId": "6aed7094-ca20-4b3e-b739-3978dab7be22"
      },
      "cell_type": "code",
      "source": [
        "import numpy as np\n",
        "from numpy import *\n",
        "import matplotlib.pylab as plt\n",
        "%matplotlib inline\n",
        "\n",
        "'''\n",
        "作業:\n",
        "    寫出 ReLU & dReLU 一階導數\n",
        "    並列印\n",
        "'''"
      ],
      "execution_count": 2,
      "outputs": [
        {
          "output_type": "execute_result",
          "data": {
            "text/plain": [
              "'\\n作業:\\n    寫出 ReLU & dReLU 一階導數\\n    並列印\\n'"
            ]
          },
          "metadata": {
            "tags": []
          },
          "execution_count": 2
        }
      ]
    },
    {
      "metadata": {
        "id": "kfhH4prOe3N-",
        "colab_type": "code",
        "colab": {
          "base_uri": "https://localhost:8080/",
          "height": 280
        },
        "outputId": "cae7db57-f729-41e7-ab0d-f5c0c7aeb6fc"
      },
      "cell_type": "code",
      "source": [
        "def ReLU(x):\n",
        "  result= [0 if i<0 else i for i in x]\n",
        "  return result\n",
        "\n",
        "def dReLU(x):\n",
        "  result = [0 if i<0 else 1 for i in x]\n",
        "  return result\n",
        "\n",
        "# linespace generate an array from start and stop value\n",
        "# with requested number of elements. Example 10 elements or 100 elements.\n",
        "x = plt.linspace(-10,10,100)\n",
        "\n",
        "# prepare the plot, associate the color r(ed) or b(lue) and the label \n",
        "plt.plot(x, ReLU(x), 'b', label='linspace(-10,10,10)')\n",
        "plt.plot(x, dReLU(x), 'r', label='linspace(-10,10,10)')\n",
        "\n",
        "# Draw the grid line in background.\n",
        "plt.grid()\n",
        "\n",
        "# Title\n",
        "plt.title('ReLU and derivative Function')\n",
        "\n",
        "#resize the X and Y axes\n",
        "plt.gca().xaxis.set_major_locator(plt.MultipleLocator(1))\n",
        "plt.gca().yaxis.set_major_locator(plt.MultipleLocator(0.1))\n",
        " \n",
        "# create the graph\n",
        "plt.show()\n"
      ],
      "execution_count": 14,
      "outputs": [
        {
          "output_type": "display_data",
          "data": {
            "image/png": "[encoded data removed]",
            "text/plain": [
              "<Figure size 432x288 with 1 Axes>"
            ]
          },
          "metadata": {
            "tags": []
          }
        }
      ]
    },
    {
      "metadata": {
        "id": "Cfd-p4HvhYGb",
        "colab_type": "code",
        "colab": {}
      },
      "cell_type": "code",
      "source": [
        ""
      ],
      "execution_count": 0,
      "outputs": []
    }
  ]
}