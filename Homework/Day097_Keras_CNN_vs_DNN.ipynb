{
  "nbformat": 4,
  "nbformat_minor": 0,
  "metadata": {
    "colab": {
      "name": "Day097_Keras_CNN_vs_DNN.ipynb",
      "version": "0.3.2",
      "provenance": [],
      "collapsed_sections": [],
      "include_colab_link": true
    },
    "kernelspec": {
      "name": "python3",
      "display_name": "Python 3"
    },
    "accelerator": "GPU"
  },
  "cells": [
    {
      "cell_type": "markdown",
      "metadata": {
        "id": "view-in-github",
        "colab_type": "text"
      },
      "source": [
        "<a href=\"https://colab.research.google.com/github/d823944/ML100-Days/blob/master/Homework/Day097_Keras_CNN_vs_DNN.ipynb\" target=\"_parent\"><img src=\"https://colab.research.google.com/assets/colab-badge.svg\" alt=\"Open In Colab\"/></a>"
      ]
    },
    {
      "metadata": {
        "id": "Q1TWjTDX16zJ",
        "colab_type": "code",
        "colab": {
          "base_uri": "https://localhost:8080/",
          "height": 34
        },
        "outputId": "de8718b6-043c-4d60-9083-bc6905ad8c1a"
      },
      "cell_type": "code",
      "source": [
        "import keras\n",
        "from keras.datasets import cifar10\n",
        "from keras.preprocessing.image import ImageDataGenerator\n",
        "from keras.models import Sequential\n",
        "from keras.layers import Dense, Dropout, Activation, Flatten\n",
        "from keras.layers import Conv2D, MaxPooling2D\n",
        "from keras.optimizers import RMSprop, Adam\n",
        "import os"
      ],
      "execution_count": 1,
      "outputs": [
        {
          "output_type": "stream",
          "text": [
            "Using TensorFlow backend.\n"
          ],
          "name": "stderr"
        }
      ]
    },
    {
      "metadata": {
        "id": "FN3WPkwL2AKv",
        "colab_type": "code",
        "colab": {
          "base_uri": "https://localhost:8080/",
          "height": 102
        },
        "outputId": "b4b1439b-2d2a-4856-b643-8f175025e2a4"
      },
      "cell_type": "code",
      "source": [
        "batch_size = 128 # batch 的大小，如果出現 OOM error，請降低這個值\n",
        "num_classes = 10 # 類別的數量，Cifar 10 共有 10 個類別\n",
        "epochs = 10 # 訓練的 epochs 數量\n",
        "\n",
        "# 讀取資料並檢視\n",
        "(x_train, y_train), (x_test, y_test) = cifar10.load_data()\n",
        "print('x_train shape:', x_train.shape)\n",
        "print(x_train.shape[0], 'train samples')\n",
        "print(x_test.shape[0], 'test samples')\n",
        "\n",
        "# 對 label 進行 one-hot encoding (y_trian 原本是純數字)\n",
        "y_train = keras.utils.to_categorical(y_train, num_classes)\n",
        "y_test = keras.utils.to_categorical(y_test, num_classes)"
      ],
      "execution_count": 2,
      "outputs": [
        {
          "output_type": "stream",
          "text": [
            "Downloading data from https://www.cs.toronto.edu/~kriz/cifar-10-python.tar.gz\n",
            "170500096/170498071 [==============================] - 10s 0us/step\n",
            "x_train shape: (50000, 32, 32, 3)\n",
            "50000 train samples\n",
            "10000 test samples\n"
          ],
          "name": "stdout"
        }
      ]
    },
    {
      "metadata": {
        "id": "ftHy78go2HAK",
        "colab_type": "text"
      },
      "cell_type": "markdown",
      "source": [
        "## 首先我們使用一般的 DNN (MLP) 來訓練\n",
        "由於 DNN 只能輸入一維的資料，我們要先將影像進行攤平，若 (50000, 32, 32, 3) 的影像，攤平後會變成 (50000, 32*32*3) = (50000, 3072)"
      ]
    },
    {
      "metadata": {
        "id": "A_2XRScS2Clj",
        "colab_type": "code",
        "colab": {
          "base_uri": "https://localhost:8080/",
          "height": 51
        },
        "outputId": "e7fc56a2-bd66-4728-8cf7-c6dd50a38500"
      },
      "cell_type": "code",
      "source": [
        "# 將資料攤平成一維資料\n",
        "x_train = x_train.reshape(50000, 3072) \n",
        "x_test = x_test.reshape(10000, 3072)\n",
        "\n",
        "# 將資料變為 float32 並標準化\n",
        "x_train = x_train.astype('float32')\n",
        "x_test = x_test.astype('float32')\n",
        "x_train /= 255\n",
        "x_test /= 255\n",
        "print(x_train.shape[0], 'train samples')\n",
        "print(x_test.shape[0], 'test samples')"
      ],
      "execution_count": 3,
      "outputs": [
        {
          "output_type": "stream",
          "text": [
            "50000 train samples\n",
            "10000 test samples\n"
          ],
          "name": "stdout"
        }
      ]
    },
    {
      "metadata": {
        "id": "C7SFFaNO2IzH",
        "colab_type": "code",
        "colab": {
          "base_uri": "https://localhost:8080/",
          "height": 870
        },
        "outputId": "3483bb81-cf45-4a3f-8fe3-632a5916d088"
      },
      "cell_type": "code",
      "source": [
        "model = Sequential()\n",
        "model.add(Dense(512, activation='relu', input_shape=(3072,)))\n",
        "model.add(Dropout(0.2))\n",
        "model.add(Dense(512, activation='relu'))\n",
        "model.add(Dropout(0.2))\n",
        "model.add(Dense(num_classes, activation='softmax'))\n",
        "\n",
        "model.summary()\n",
        "\n",
        "model.compile(loss='categorical_crossentropy',\n",
        "              optimizer=RMSprop(),\n",
        "              metrics=['accuracy'])\n",
        "\n",
        "history = model.fit(x_train, y_train,\n",
        "                    batch_size=batch_size,\n",
        "                    epochs=epochs,\n",
        "                    verbose=1,\n",
        "                    validation_data=(x_test, y_test))\n",
        "score = model.evaluate(x_test, y_test, verbose=0)\n",
        "print('Test loss:', score[0])\n",
        "print('Test accuracy:', score[1])"
      ],
      "execution_count": 4,
      "outputs": [
        {
          "output_type": "stream",
          "text": [
            "WARNING:tensorflow:From /usr/local/lib/python3.6/dist-packages/tensorflow/python/framework/op_def_library.py:263: colocate_with (from tensorflow.python.framework.ops) is deprecated and will be removed in a future version.\n",
            "Instructions for updating:\n",
            "Colocations handled automatically by placer.\n",
            "WARNING:tensorflow:From /usr/local/lib/python3.6/dist-packages/keras/backend/tensorflow_backend.py:3445: calling dropout (from tensorflow.python.ops.nn_ops) with keep_prob is deprecated and will be removed in a future version.\n",
            "Instructions for updating:\n",
            "Please use `rate` instead of `keep_prob`. Rate should be set to `rate = 1 - keep_prob`.\n",
            "_________________________________________________________________\n",
            "Layer (type)                 Output Shape              Param #   \n",
            "=================================================================\n",
            "dense_1 (Dense)              (None, 512)               1573376   \n",
            "_________________________________________________________________\n",
            "dropout_1 (Dropout)          (None, 512)               0         \n",
            "_________________________________________________________________\n",
            "dense_2 (Dense)              (None, 512)               262656    \n",
            "_________________________________________________________________\n",
            "dropout_2 (Dropout)          (None, 512)               0         \n",
            "_________________________________________________________________\n",
            "dense_3 (Dense)              (None, 10)                5130      \n",
            "=================================================================\n",
            "Total params: 1,841,162\n",
            "Trainable params: 1,841,162\n",
            "Non-trainable params: 0\n",
            "_________________________________________________________________\n",
            "WARNING:tensorflow:From /usr/local/lib/python3.6/dist-packages/tensorflow/python/ops/math_ops.py:3066: to_int32 (from tensorflow.python.ops.math_ops) is deprecated and will be removed in a future version.\n",
            "Instructions for updating:\n",
            "Use tf.cast instead.\n",
            "Train on 50000 samples, validate on 10000 samples\n",
            "Epoch 1/10\n",
            "50000/50000 [==============================] - 6s 119us/step - loss: 2.2472 - acc: 0.2477 - val_loss: 1.9103 - val_acc: 0.3095\n",
            "Epoch 2/10\n",
            "50000/50000 [==============================] - 3s 66us/step - loss: 1.8543 - acc: 0.3326 - val_loss: 1.8018 - val_acc: 0.3595\n",
            "Epoch 3/10\n",
            "50000/50000 [==============================] - 3s 66us/step - loss: 1.7778 - acc: 0.3616 - val_loss: 1.6721 - val_acc: 0.4040\n",
            "Epoch 4/10\n",
            "50000/50000 [==============================] - 3s 66us/step - loss: 1.7248 - acc: 0.3829 - val_loss: 1.6642 - val_acc: 0.4061\n",
            "Epoch 5/10\n",
            "50000/50000 [==============================] - 3s 66us/step - loss: 1.6916 - acc: 0.3943 - val_loss: 1.5925 - val_acc: 0.4353\n",
            "Epoch 6/10\n",
            "50000/50000 [==============================] - 3s 65us/step - loss: 1.6635 - acc: 0.4054 - val_loss: 1.6608 - val_acc: 0.4100\n",
            "Epoch 7/10\n",
            "50000/50000 [==============================] - 3s 64us/step - loss: 1.6390 - acc: 0.4116 - val_loss: 1.6377 - val_acc: 0.4181\n",
            "Epoch 8/10\n",
            "50000/50000 [==============================] - 3s 65us/step - loss: 1.6204 - acc: 0.4194 - val_loss: 1.6305 - val_acc: 0.4170\n",
            "Epoch 9/10\n",
            "50000/50000 [==============================] - 3s 65us/step - loss: 1.6054 - acc: 0.4260 - val_loss: 1.5555 - val_acc: 0.4486\n",
            "Epoch 10/10\n",
            "50000/50000 [==============================] - 3s 65us/step - loss: 1.5923 - acc: 0.4305 - val_loss: 1.6767 - val_acc: 0.4031\n",
            "Test loss: 1.6766532871246338\n",
            "Test accuracy: 0.4031\n"
          ],
          "name": "stdout"
        }
      ]
    },
    {
      "metadata": {
        "id": "0MecSKkD2PCI",
        "colab_type": "text"
      },
      "cell_type": "markdown",
      "source": [
        "## 接下來我們使用 CNN 來訓練神經網路\n",
        "CNN 的原理非常適合處理影像類的資料，就讓我們來看看，同樣的訓練條件，CNN 是否顯著優於 DNN 呢?"
      ]
    },
    {
      "metadata": {
        "id": "I3ov27g_2NAu",
        "colab_type": "code",
        "colab": {
          "base_uri": "https://localhost:8080/",
          "height": 68
        },
        "outputId": "af06cc5b-a7f2-4e44-e428-65bf5f43f10a"
      },
      "cell_type": "code",
      "source": [
        "(x_train, y_train), (x_test, y_test) = cifar10.load_data()\n",
        "print('x_train shape:', x_train.shape)\n",
        "print(x_train.shape[0], 'train samples')\n",
        "print(x_test.shape[0], 'test samples')\n",
        "x_train = x_train.astype('float32')\n",
        "x_test = x_test.astype('float32')\n",
        "x_train /= 255\n",
        "x_test /= 255\n",
        "\n",
        "# Convert class vectors to binary class matrices.\n",
        "y_train = keras.utils.to_categorical(y_train, num_classes)\n",
        "y_test = keras.utils.to_categorical(y_test, num_classes)"
      ],
      "execution_count": 5,
      "outputs": [
        {
          "output_type": "stream",
          "text": [
            "x_train shape: (50000, 32, 32, 3)\n",
            "50000 train samples\n",
            "10000 test samples\n"
          ],
          "name": "stdout"
        }
      ]
    },
    {
      "metadata": {
        "id": "Ajanm-742UDI",
        "colab_type": "code",
        "colab": {
          "base_uri": "https://localhost:8080/",
          "height": 1139
        },
        "outputId": "ca768ea6-f841-4923-cc35-49ae306df337"
      },
      "cell_type": "code",
      "source": [
        "model = Sequential()\n",
        "model.add(Conv2D(32, (3, 3), padding='same',\n",
        "                 input_shape=x_train.shape[1:]))\n",
        "model.add(Activation('relu'))\n",
        "model.add(Conv2D(32, (3, 3)))\n",
        "model.add(Activation('relu'))\n",
        "model.add(MaxPooling2D(pool_size=(2, 2)))\n",
        "model.add(Dropout(0.25))\n",
        "\n",
        "model.add(Conv2D(64, (3, 3), padding='same'))\n",
        "model.add(Activation('relu'))\n",
        "model.add(Conv2D(64, (3, 3)))\n",
        "model.add(Activation('relu'))\n",
        "model.add(MaxPooling2D(pool_size=(2, 2)))\n",
        "model.add(Dropout(0.25))\n",
        "\n",
        "model.add(Flatten())\n",
        "model.add(Dense(512))\n",
        "model.add(Activation('relu'))\n",
        "model.add(Dropout(0.5))\n",
        "model.add(Dense(num_classes))\n",
        "model.add(Activation('softmax'))\n",
        "model.summary()\n",
        "\n",
        "model.compile(loss='categorical_crossentropy',\n",
        "              optimizer=RMSprop(),\n",
        "              metrics=['accuracy'])\n",
        "\n",
        "history = model.fit(x_train, y_train,\n",
        "                    batch_size=batch_size,\n",
        "                    epochs=epochs,\n",
        "                    verbose=1,\n",
        "                    validation_data=(x_test, y_test))\n",
        "score = model.evaluate(x_test, y_test, verbose=0)\n",
        "print('Test loss:', score[0])\n",
        "print('Test accuracy:', score[1])"
      ],
      "execution_count": 6,
      "outputs": [
        {
          "output_type": "stream",
          "text": [
            "_________________________________________________________________\n",
            "Layer (type)                 Output Shape              Param #   \n",
            "=================================================================\n",
            "conv2d_1 (Conv2D)            (None, 32, 32, 32)        896       \n",
            "_________________________________________________________________\n",
            "activation_1 (Activation)    (None, 32, 32, 32)        0         \n",
            "_________________________________________________________________\n",
            "conv2d_2 (Conv2D)            (None, 30, 30, 32)        9248      \n",
            "_________________________________________________________________\n",
            "activation_2 (Activation)    (None, 30, 30, 32)        0         \n",
            "_________________________________________________________________\n",
            "max_pooling2d_1 (MaxPooling2 (None, 15, 15, 32)        0         \n",
            "_________________________________________________________________\n",
            "dropout_3 (Dropout)          (None, 15, 15, 32)        0         \n",
            "_________________________________________________________________\n",
            "conv2d_3 (Conv2D)            (None, 15, 15, 64)        18496     \n",
            "_________________________________________________________________\n",
            "activation_3 (Activation)    (None, 15, 15, 64)        0         \n",
            "_________________________________________________________________\n",
            "conv2d_4 (Conv2D)            (None, 13, 13, 64)        36928     \n",
            "_________________________________________________________________\n",
            "activation_4 (Activation)    (None, 13, 13, 64)        0         \n",
            "_________________________________________________________________\n",
            "max_pooling2d_2 (MaxPooling2 (None, 6, 6, 64)          0         \n",
            "_________________________________________________________________\n",
            "dropout_4 (Dropout)          (None, 6, 6, 64)          0         \n",
            "_________________________________________________________________\n",
            "flatten_1 (Flatten)          (None, 2304)              0         \n",
            "_________________________________________________________________\n",
            "dense_4 (Dense)              (None, 512)               1180160   \n",
            "_________________________________________________________________\n",
            "activation_5 (Activation)    (None, 512)               0         \n",
            "_________________________________________________________________\n",
            "dropout_5 (Dropout)          (None, 512)               0         \n",
            "_________________________________________________________________\n",
            "dense_5 (Dense)              (None, 10)                5130      \n",
            "_________________________________________________________________\n",
            "activation_6 (Activation)    (None, 10)                0         \n",
            "=================================================================\n",
            "Total params: 1,250,858\n",
            "Trainable params: 1,250,858\n",
            "Non-trainable params: 0\n",
            "_________________________________________________________________\n",
            "Train on 50000 samples, validate on 10000 samples\n",
            "Epoch 1/10\n",
            "50000/50000 [==============================] - 14s 278us/step - loss: 1.7599 - acc: 0.3677 - val_loss: 1.4002 - val_acc: 0.5004\n",
            "Epoch 2/10\n",
            "50000/50000 [==============================] - 11s 221us/step - loss: 1.3034 - acc: 0.5382 - val_loss: 1.1282 - val_acc: 0.6008\n",
            "Epoch 3/10\n",
            "50000/50000 [==============================] - 11s 221us/step - loss: 1.0945 - acc: 0.6167 - val_loss: 0.9775 - val_acc: 0.6529\n",
            "Epoch 4/10\n",
            "50000/50000 [==============================] - 11s 221us/step - loss: 0.9610 - acc: 0.6657 - val_loss: 0.8095 - val_acc: 0.7227\n",
            "Epoch 5/10\n",
            "50000/50000 [==============================] - 11s 221us/step - loss: 0.8703 - acc: 0.6960 - val_loss: 0.7879 - val_acc: 0.7270\n",
            "Epoch 6/10\n",
            "50000/50000 [==============================] - 11s 221us/step - loss: 0.7997 - acc: 0.7220 - val_loss: 0.8051 - val_acc: 0.7214\n",
            "Epoch 7/10\n",
            "50000/50000 [==============================] - 11s 220us/step - loss: 0.7490 - acc: 0.7400 - val_loss: 0.7578 - val_acc: 0.7414\n",
            "Epoch 8/10\n",
            "50000/50000 [==============================] - 11s 221us/step - loss: 0.7101 - acc: 0.7561 - val_loss: 0.7395 - val_acc: 0.7477\n",
            "Epoch 9/10\n",
            "50000/50000 [==============================] - 11s 221us/step - loss: 0.6762 - acc: 0.7660 - val_loss: 0.7517 - val_acc: 0.7438\n",
            "Epoch 10/10\n",
            "50000/50000 [==============================] - 11s 221us/step - loss: 0.6568 - acc: 0.7744 - val_loss: 0.7161 - val_acc: 0.7592\n",
            "Test loss: 0.7160631726741791\n",
            "Test accuracy: 0.7592\n"
          ],
          "name": "stdout"
        }
      ]
    },
    {
      "metadata": {
        "id": "KQUf6ZER2XkC",
        "colab_type": "text"
      },
      "cell_type": "markdown",
      "source": [
        "## 同樣運算 10 個 epochs，但 CNN 在 test data 的準確率顯著優於 DNN!"
      ]
    },
    {
      "metadata": {
        "id": "qI44jvu-2aHZ",
        "colab_type": "text"
      },
      "cell_type": "markdown",
      "source": [
        "## 作業\n",
        "1. 請試著調整各個超參數，並說明那些超參數對於結果有明顯的影響?\n",
        "2. CNN 與 DNN 哪個模型的參數數量比較多? 造成參數的數量不同的原因在哪?\n",
        "> - DNN Total params: 1,841,162   \n",
        "> - CNN Total params: 1,250, 858   \n",
        "> - CNN 先進行特徵提取後, 再flatten進行Dense layer, 因此可以減少參數量.\n"
      ]
    },
    {
      "metadata": {
        "id": "Hc0sW15k2UdT",
        "colab_type": "code",
        "colab": {
          "base_uri": "https://localhost:8080/",
          "height": 1139
        },
        "outputId": "89565b22-f35e-4fa8-d7d4-8fb561bbe722"
      },
      "cell_type": "code",
      "source": [
        "# 降低batch size (128 --> 64)\n",
        "# 費時間約增加20%, 但Test accuracy: 0.7592 --> 0.7167\n",
        "\n",
        "batch_size = 64\n",
        "model = Sequential()\n",
        "model.add(Conv2D(32, (3, 3), padding='same',\n",
        "                 input_shape=x_train.shape[1:]))\n",
        "model.add(Activation('relu'))\n",
        "model.add(Conv2D(32, (3, 3)))\n",
        "model.add(Activation('relu'))\n",
        "model.add(MaxPooling2D(pool_size=(2, 2)))\n",
        "model.add(Dropout(0.25))\n",
        "\n",
        "model.add(Conv2D(64, (3, 3), padding='same'))\n",
        "model.add(Activation('relu'))\n",
        "model.add(Conv2D(64, (3, 3)))\n",
        "model.add(Activation('relu'))\n",
        "model.add(MaxPooling2D(pool_size=(2, 2)))\n",
        "model.add(Dropout(0.25))\n",
        "\n",
        "model.add(Flatten())\n",
        "model.add(Dense(512))\n",
        "model.add(Activation('relu'))\n",
        "model.add(Dropout(0.5))\n",
        "model.add(Dense(num_classes))\n",
        "model.add(Activation('softmax'))\n",
        "model.summary()\n",
        "\n",
        "model.compile(loss='categorical_crossentropy',\n",
        "              optimizer=RMSprop(),\n",
        "              metrics=['accuracy'])\n",
        "\n",
        "history = model.fit(x_train, y_train,\n",
        "                    batch_size=batch_size,\n",
        "                    epochs=epochs,\n",
        "                    verbose=1,\n",
        "                    validation_data=(x_test, y_test))\n",
        "score = model.evaluate(x_test, y_test, verbose=0)\n",
        "print('Test loss:', score[0])\n",
        "print('Test accuracy:', score[1])"
      ],
      "execution_count": 7,
      "outputs": [
        {
          "output_type": "stream",
          "text": [
            "_________________________________________________________________\n",
            "Layer (type)                 Output Shape              Param #   \n",
            "=================================================================\n",
            "conv2d_5 (Conv2D)            (None, 32, 32, 32)        896       \n",
            "_________________________________________________________________\n",
            "activation_7 (Activation)    (None, 32, 32, 32)        0         \n",
            "_________________________________________________________________\n",
            "conv2d_6 (Conv2D)            (None, 30, 30, 32)        9248      \n",
            "_________________________________________________________________\n",
            "activation_8 (Activation)    (None, 30, 30, 32)        0         \n",
            "_________________________________________________________________\n",
            "max_pooling2d_3 (MaxPooling2 (None, 15, 15, 32)        0         \n",
            "_________________________________________________________________\n",
            "dropout_6 (Dropout)          (None, 15, 15, 32)        0         \n",
            "_________________________________________________________________\n",
            "conv2d_7 (Conv2D)            (None, 15, 15, 64)        18496     \n",
            "_________________________________________________________________\n",
            "activation_9 (Activation)    (None, 15, 15, 64)        0         \n",
            "_________________________________________________________________\n",
            "conv2d_8 (Conv2D)            (None, 13, 13, 64)        36928     \n",
            "_________________________________________________________________\n",
            "activation_10 (Activation)   (None, 13, 13, 64)        0         \n",
            "_________________________________________________________________\n",
            "max_pooling2d_4 (MaxPooling2 (None, 6, 6, 64)          0         \n",
            "_________________________________________________________________\n",
            "dropout_7 (Dropout)          (None, 6, 6, 64)          0         \n",
            "_________________________________________________________________\n",
            "flatten_2 (Flatten)          (None, 2304)              0         \n",
            "_________________________________________________________________\n",
            "dense_6 (Dense)              (None, 512)               1180160   \n",
            "_________________________________________________________________\n",
            "activation_11 (Activation)   (None, 512)               0         \n",
            "_________________________________________________________________\n",
            "dropout_8 (Dropout)          (None, 512)               0         \n",
            "_________________________________________________________________\n",
            "dense_7 (Dense)              (None, 10)                5130      \n",
            "_________________________________________________________________\n",
            "activation_12 (Activation)   (None, 10)                0         \n",
            "=================================================================\n",
            "Total params: 1,250,858\n",
            "Trainable params: 1,250,858\n",
            "Non-trainable params: 0\n",
            "_________________________________________________________________\n",
            "Train on 50000 samples, validate on 10000 samples\n",
            "Epoch 1/10\n",
            "50000/50000 [==============================] - 14s 288us/step - loss: 1.6369 - acc: 0.4073 - val_loss: 1.6485 - val_acc: 0.4090\n",
            "Epoch 2/10\n",
            "50000/50000 [==============================] - 14s 271us/step - loss: 1.2120 - acc: 0.5717 - val_loss: 1.3838 - val_acc: 0.5498\n",
            "Epoch 3/10\n",
            "50000/50000 [==============================] - 13s 266us/step - loss: 1.0239 - acc: 0.6416 - val_loss: 0.9753 - val_acc: 0.6573\n",
            "Epoch 4/10\n",
            "50000/50000 [==============================] - 13s 266us/step - loss: 0.9191 - acc: 0.6797 - val_loss: 0.9277 - val_acc: 0.6813\n",
            "Epoch 5/10\n",
            "50000/50000 [==============================] - 13s 267us/step - loss: 0.8574 - acc: 0.7046 - val_loss: 0.9827 - val_acc: 0.6687\n",
            "Epoch 6/10\n",
            "50000/50000 [==============================] - 13s 267us/step - loss: 0.8264 - acc: 0.7187 - val_loss: 1.2000 - val_acc: 0.6465\n",
            "Epoch 7/10\n",
            "50000/50000 [==============================] - 13s 266us/step - loss: 0.8102 - acc: 0.7245 - val_loss: 0.8628 - val_acc: 0.7207\n",
            "Epoch 8/10\n",
            "50000/50000 [==============================] - 13s 267us/step - loss: 0.7994 - acc: 0.7315 - val_loss: 0.8417 - val_acc: 0.7289\n",
            "Epoch 9/10\n",
            "50000/50000 [==============================] - 13s 265us/step - loss: 0.8015 - acc: 0.7310 - val_loss: 0.9393 - val_acc: 0.6858\n",
            "Epoch 10/10\n",
            "50000/50000 [==============================] - 13s 265us/step - loss: 0.8057 - acc: 0.7297 - val_loss: 0.8491 - val_acc: 0.7167\n",
            "Test loss: 0.8490708699226379\n",
            "Test accuracy: 0.7167\n"
          ],
          "name": "stdout"
        }
      ]
    },
    {
      "metadata": {
        "id": "E_CJvkP138Hv",
        "colab_type": "code",
        "colab": {
          "base_uri": "https://localhost:8080/",
          "height": 1139
        },
        "outputId": "6e6a0186-62b4-426a-d6ef-40780cd728b9"
      },
      "cell_type": "code",
      "source": [
        "# 提高batch size (128 --> 256)\n",
        "# 費時間約減少20%, 但Test accuracy: 0.7592 --> 0.7106\n",
        "\n",
        "batch_size = 256\n",
        "model = Sequential()\n",
        "model.add(Conv2D(32, (3, 3), padding='same',\n",
        "                 input_shape=x_train.shape[1:]))\n",
        "model.add(Activation('relu'))\n",
        "model.add(Conv2D(32, (3, 3)))\n",
        "model.add(Activation('relu'))\n",
        "model.add(MaxPooling2D(pool_size=(2, 2)))\n",
        "model.add(Dropout(0.25))\n",
        "\n",
        "model.add(Conv2D(64, (3, 3), padding='same'))\n",
        "model.add(Activation('relu'))\n",
        "model.add(Conv2D(64, (3, 3)))\n",
        "model.add(Activation('relu'))\n",
        "model.add(MaxPooling2D(pool_size=(2, 2)))\n",
        "model.add(Dropout(0.25))\n",
        "\n",
        "model.add(Flatten())\n",
        "model.add(Dense(512))\n",
        "model.add(Activation('relu'))\n",
        "model.add(Dropout(0.5))\n",
        "model.add(Dense(num_classes))\n",
        "model.add(Activation('softmax'))\n",
        "model.summary()\n",
        "\n",
        "model.compile(loss='categorical_crossentropy',\n",
        "              optimizer=RMSprop(),\n",
        "              metrics=['accuracy'])\n",
        "\n",
        "history = model.fit(x_train, y_train,\n",
        "                    batch_size=batch_size,\n",
        "                    epochs=epochs,\n",
        "                    verbose=1,\n",
        "                    validation_data=(x_test, y_test))\n",
        "score = model.evaluate(x_test, y_test, verbose=0)\n",
        "print('Test loss:', score[0])\n",
        "print('Test accuracy:', score[1])"
      ],
      "execution_count": 8,
      "outputs": [
        {
          "output_type": "stream",
          "text": [
            "_________________________________________________________________\n",
            "Layer (type)                 Output Shape              Param #   \n",
            "=================================================================\n",
            "conv2d_9 (Conv2D)            (None, 32, 32, 32)        896       \n",
            "_________________________________________________________________\n",
            "activation_13 (Activation)   (None, 32, 32, 32)        0         \n",
            "_________________________________________________________________\n",
            "conv2d_10 (Conv2D)           (None, 30, 30, 32)        9248      \n",
            "_________________________________________________________________\n",
            "activation_14 (Activation)   (None, 30, 30, 32)        0         \n",
            "_________________________________________________________________\n",
            "max_pooling2d_5 (MaxPooling2 (None, 15, 15, 32)        0         \n",
            "_________________________________________________________________\n",
            "dropout_9 (Dropout)          (None, 15, 15, 32)        0         \n",
            "_________________________________________________________________\n",
            "conv2d_11 (Conv2D)           (None, 15, 15, 64)        18496     \n",
            "_________________________________________________________________\n",
            "activation_15 (Activation)   (None, 15, 15, 64)        0         \n",
            "_________________________________________________________________\n",
            "conv2d_12 (Conv2D)           (None, 13, 13, 64)        36928     \n",
            "_________________________________________________________________\n",
            "activation_16 (Activation)   (None, 13, 13, 64)        0         \n",
            "_________________________________________________________________\n",
            "max_pooling2d_6 (MaxPooling2 (None, 6, 6, 64)          0         \n",
            "_________________________________________________________________\n",
            "dropout_10 (Dropout)         (None, 6, 6, 64)          0         \n",
            "_________________________________________________________________\n",
            "flatten_3 (Flatten)          (None, 2304)              0         \n",
            "_________________________________________________________________\n",
            "dense_8 (Dense)              (None, 512)               1180160   \n",
            "_________________________________________________________________\n",
            "activation_17 (Activation)   (None, 512)               0         \n",
            "_________________________________________________________________\n",
            "dropout_11 (Dropout)         (None, 512)               0         \n",
            "_________________________________________________________________\n",
            "dense_9 (Dense)              (None, 10)                5130      \n",
            "_________________________________________________________________\n",
            "activation_18 (Activation)   (None, 10)                0         \n",
            "=================================================================\n",
            "Total params: 1,250,858\n",
            "Trainable params: 1,250,858\n",
            "Non-trainable params: 0\n",
            "_________________________________________________________________\n",
            "Train on 50000 samples, validate on 10000 samples\n",
            "Epoch 1/10\n",
            "50000/50000 [==============================] - 10s 193us/step - loss: 1.8879 - acc: 0.3160 - val_loss: 1.6045 - val_acc: 0.4196\n",
            "Epoch 2/10\n",
            "50000/50000 [==============================] - 9s 177us/step - loss: 1.4752 - acc: 0.4714 - val_loss: 1.2809 - val_acc: 0.5339\n",
            "Epoch 3/10\n",
            "50000/50000 [==============================] - 9s 176us/step - loss: 1.2677 - acc: 0.5540 - val_loss: 1.2276 - val_acc: 0.5673\n",
            "Epoch 4/10\n",
            "50000/50000 [==============================] - 9s 177us/step - loss: 1.1201 - acc: 0.6065 - val_loss: 0.9887 - val_acc: 0.6506\n",
            "Epoch 5/10\n",
            "50000/50000 [==============================] - 9s 177us/step - loss: 1.0177 - acc: 0.6408 - val_loss: 1.0883 - val_acc: 0.6196\n",
            "Epoch 6/10\n",
            "50000/50000 [==============================] - 9s 176us/step - loss: 0.9325 - acc: 0.6725 - val_loss: 0.9720 - val_acc: 0.6564\n",
            "Epoch 7/10\n",
            "50000/50000 [==============================] - 9s 177us/step - loss: 0.8591 - acc: 0.6998 - val_loss: 1.0793 - val_acc: 0.6342\n",
            "Epoch 8/10\n",
            "50000/50000 [==============================] - 9s 177us/step - loss: 0.8095 - acc: 0.7188 - val_loss: 0.7795 - val_acc: 0.7316\n",
            "Epoch 9/10\n",
            "50000/50000 [==============================] - 9s 176us/step - loss: 0.7604 - acc: 0.7340 - val_loss: 0.7748 - val_acc: 0.7331\n",
            "Epoch 10/10\n",
            "50000/50000 [==============================] - 9s 176us/step - loss: 0.7130 - acc: 0.7517 - val_loss: 0.8301 - val_acc: 0.7106\n",
            "Test loss: 0.8300627767562866\n",
            "Test accuracy: 0.7106\n"
          ],
          "name": "stdout"
        }
      ]
    },
    {
      "metadata": {
        "id": "a_StvDOf4xBB",
        "colab_type": "code",
        "colab": {
          "base_uri": "https://localhost:8080/",
          "height": 1139
        },
        "outputId": "1106f86a-8678-43e8-8add-df54c074b694"
      },
      "cell_type": "code",
      "source": [
        "# 維持batch size=128\n",
        "# optimizer改成Adadelta\n",
        "# 費時間差不多, Test accuracy: 0.7592 --> 0.7519\n",
        "batch_size = 128\n",
        "model = Sequential()\n",
        "model.add(Conv2D(32, (3, 3), padding='same',\n",
        "                 input_shape=x_train.shape[1:]))\n",
        "model.add(Activation('relu'))\n",
        "model.add(Conv2D(32, (3, 3)))\n",
        "model.add(Activation('relu'))\n",
        "model.add(MaxPooling2D(pool_size=(2, 2)))\n",
        "model.add(Dropout(0.25))\n",
        "\n",
        "model.add(Conv2D(64, (3, 3), padding='same'))\n",
        "model.add(Activation('relu'))\n",
        "model.add(Conv2D(64, (3, 3)))\n",
        "model.add(Activation('relu'))\n",
        "model.add(MaxPooling2D(pool_size=(2, 2)))\n",
        "model.add(Dropout(0.25))\n",
        "\n",
        "model.add(Flatten())\n",
        "model.add(Dense(512))\n",
        "model.add(Activation('relu'))\n",
        "model.add(Dropout(0.5))\n",
        "model.add(Dense(num_classes))\n",
        "model.add(Activation('softmax'))\n",
        "model.summary()\n",
        "\n",
        "optimizer = keras.optimizers.Adadelta(lr=1.0, rho=0.95, epsilon=None, decay=0.0)\n",
        "model.compile(loss='categorical_crossentropy',\n",
        "              optimizer=optimizer,\n",
        "              metrics=['accuracy'])\n",
        "\n",
        "history = model.fit(x_train, y_train,\n",
        "                    batch_size=batch_size,\n",
        "                    epochs=epochs,\n",
        "                    verbose=1,\n",
        "                    validation_data=(x_test, y_test))\n",
        "score = model.evaluate(x_test, y_test, verbose=0)\n",
        "print('Test loss:', score[0])\n",
        "print('Test accuracy:', score[1])"
      ],
      "execution_count": 10,
      "outputs": [
        {
          "output_type": "stream",
          "text": [
            "_________________________________________________________________\n",
            "Layer (type)                 Output Shape              Param #   \n",
            "=================================================================\n",
            "conv2d_17 (Conv2D)           (None, 32, 32, 32)        896       \n",
            "_________________________________________________________________\n",
            "activation_25 (Activation)   (None, 32, 32, 32)        0         \n",
            "_________________________________________________________________\n",
            "conv2d_18 (Conv2D)           (None, 30, 30, 32)        9248      \n",
            "_________________________________________________________________\n",
            "activation_26 (Activation)   (None, 30, 30, 32)        0         \n",
            "_________________________________________________________________\n",
            "max_pooling2d_9 (MaxPooling2 (None, 15, 15, 32)        0         \n",
            "_________________________________________________________________\n",
            "dropout_15 (Dropout)         (None, 15, 15, 32)        0         \n",
            "_________________________________________________________________\n",
            "conv2d_19 (Conv2D)           (None, 15, 15, 64)        18496     \n",
            "_________________________________________________________________\n",
            "activation_27 (Activation)   (None, 15, 15, 64)        0         \n",
            "_________________________________________________________________\n",
            "conv2d_20 (Conv2D)           (None, 13, 13, 64)        36928     \n",
            "_________________________________________________________________\n",
            "activation_28 (Activation)   (None, 13, 13, 64)        0         \n",
            "_________________________________________________________________\n",
            "max_pooling2d_10 (MaxPooling (None, 6, 6, 64)          0         \n",
            "_________________________________________________________________\n",
            "dropout_16 (Dropout)         (None, 6, 6, 64)          0         \n",
            "_________________________________________________________________\n",
            "flatten_5 (Flatten)          (None, 2304)              0         \n",
            "_________________________________________________________________\n",
            "dense_12 (Dense)             (None, 512)               1180160   \n",
            "_________________________________________________________________\n",
            "activation_29 (Activation)   (None, 512)               0         \n",
            "_________________________________________________________________\n",
            "dropout_17 (Dropout)         (None, 512)               0         \n",
            "_________________________________________________________________\n",
            "dense_13 (Dense)             (None, 10)                5130      \n",
            "_________________________________________________________________\n",
            "activation_30 (Activation)   (None, 10)                0         \n",
            "=================================================================\n",
            "Total params: 1,250,858\n",
            "Trainable params: 1,250,858\n",
            "Non-trainable params: 0\n",
            "_________________________________________________________________\n",
            "Train on 50000 samples, validate on 10000 samples\n",
            "Epoch 1/10\n",
            "50000/50000 [==============================] - 13s 256us/step - loss: 1.9187 - acc: 0.2973 - val_loss: 1.6677 - val_acc: 0.4104\n",
            "Epoch 2/10\n",
            "50000/50000 [==============================] - 12s 242us/step - loss: 1.4614 - acc: 0.4730 - val_loss: 1.3520 - val_acc: 0.5138\n",
            "Epoch 3/10\n",
            "50000/50000 [==============================] - 12s 241us/step - loss: 1.2651 - acc: 0.5512 - val_loss: 1.1531 - val_acc: 0.5959\n",
            "Epoch 4/10\n",
            "50000/50000 [==============================] - 12s 242us/step - loss: 1.1225 - acc: 0.6035 - val_loss: 1.0569 - val_acc: 0.6265\n",
            "Epoch 5/10\n",
            "50000/50000 [==============================] - 12s 242us/step - loss: 1.0039 - acc: 0.6487 - val_loss: 0.9220 - val_acc: 0.6788\n",
            "Epoch 6/10\n",
            "50000/50000 [==============================] - 12s 242us/step - loss: 0.9077 - acc: 0.6810 - val_loss: 0.9019 - val_acc: 0.6908\n",
            "Epoch 7/10\n",
            "50000/50000 [==============================] - 12s 242us/step - loss: 0.8401 - acc: 0.7063 - val_loss: 0.7973 - val_acc: 0.7222\n",
            "Epoch 8/10\n",
            "50000/50000 [==============================] - 12s 243us/step - loss: 0.7779 - acc: 0.7269 - val_loss: 0.7930 - val_acc: 0.7264\n",
            "Epoch 9/10\n",
            "50000/50000 [==============================] - 12s 243us/step - loss: 0.7261 - acc: 0.7473 - val_loss: 0.7613 - val_acc: 0.7358\n",
            "Epoch 10/10\n",
            "50000/50000 [==============================] - 12s 242us/step - loss: 0.6854 - acc: 0.7599 - val_loss: 0.7231 - val_acc: 0.7519\n",
            "Test loss: 0.7230650797843933\n",
            "Test accuracy: 0.7519\n"
          ],
          "name": "stdout"
        }
      ]
    },
    {
      "metadata": {
        "id": "lfxwTjZy6Sb5",
        "colab_type": "code",
        "colab": {}
      },
      "cell_type": "code",
      "source": [
        ""
      ],
      "execution_count": 0,
      "outputs": []
    }
  ]
}