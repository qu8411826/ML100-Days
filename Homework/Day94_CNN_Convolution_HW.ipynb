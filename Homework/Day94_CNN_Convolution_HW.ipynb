{
  "nbformat": 4,
  "nbformat_minor": 0,
  "metadata": {
    "colab": {
      "name": "Day94-CNN_Convolution_HW.ipynb",
      "version": "0.3.2",
      "provenance": [],
      "collapsed_sections": [],
      "include_colab_link": true
    },
    "kernelspec": {
      "name": "python3",
      "display_name": "Python 3"
    }
  },
  "cells": [
    {
      "cell_type": "markdown",
      "metadata": {
        "id": "view-in-github",
        "colab_type": "text"
      },
      "source": [
        "<a href=\"https://colab.research.google.com/github/d823944/ML100-Days/blob/master/Homework/Day94_CNN_Convolution_HW.ipynb\" target=\"_parent\"><img src=\"https://colab.research.google.com/assets/colab-badge.svg\" alt=\"Open In Colab\"/></a>"
      ]
    },
    {
      "metadata": {
        "id": "mwTYnrhD8YOR",
        "colab_type": "text"
      },
      "cell_type": "markdown",
      "source": [
        "# 教學目標:\n",
        "    了解 Convolution 卷積的組成"
      ]
    },
    {
      "metadata": {
        "id": "-bTZ0FK-8YYU",
        "colab_type": "text"
      },
      "cell_type": "markdown",
      "source": [
        "# 範例內容:\n",
        "    定義單步的卷積\n",
        "    \n",
        "    輸出卷積的計算值\n",
        "\n"
      ]
    },
    {
      "metadata": {
        "id": "Om_aepwg8Yb3",
        "colab_type": "text"
      },
      "cell_type": "markdown",
      "source": [
        "# 作業:\n",
        "    修改 a_slice_prev, 檢查 Z 的輸出"
      ]
    },
    {
      "metadata": {
        "id": "wccQT_Iv8cpG",
        "colab_type": "code",
        "colab": {}
      },
      "cell_type": "code",
      "source": [
        "%matplotlib notebook\n",
        "import pandas as pd\n",
        "import numpy as np\n",
        "import matplotlib.pyplot as plt\n",
        "from mpl_toolkits.mplot3d import Axes3D"
      ],
      "execution_count": 0,
      "outputs": []
    },
    {
      "metadata": {
        "id": "L_EU3K4m8X0i",
        "colab_type": "code",
        "colab": {}
      },
      "cell_type": "code",
      "source": [
        "# GRADED FUNCTION: conv_single_step\n",
        "def conv_single_step(a_slice_prev, W, b):\n",
        "    \"\"\"\n",
        "    定義一層 Kernel (內核), 使用的參數說明如下\n",
        "    Arguments:\n",
        "        a_slice_prev -- 輸入資料的維度\n",
        "        W -- 權重, 被使用在 a_slice_prev\n",
        "        b -- 偏差參數 \n",
        "    Returns:\n",
        "        Z -- 滑動窗口（W，b）卷積在前一個 feature map 上的結果\n",
        "    \"\"\"\n",
        "\n",
        "    # 定義一個元素介於 a_slice and W\n",
        "    s = a_slice_prev * W\n",
        "    # 加總所有的 \"s\" 並指定給Z.\n",
        "    Z = np.sum(s)\n",
        "    # Add bias b to Z. 這是 float() 函數,\n",
        "    Z = float(Z + b)\n",
        "\n",
        "    return Z"
      ],
      "execution_count": 0,
      "outputs": []
    },
    {
      "metadata": {
        "id": "bflDvzFs8oSu",
        "colab_type": "code",
        "colab": {
          "base_uri": "https://localhost:8080/",
          "height": 34
        },
        "outputId": "a05b1cdb-2ae4-4e4c-832b-f28f3d3773e7"
      },
      "cell_type": "code",
      "source": [
        "np.random.seed(1)\n",
        "#定義一個 28x28x3 的 feature map\n",
        "width = 28\n",
        "height = 28\n",
        "a_slice_prev = np.random.randn(width, height, 3)\n",
        "W = np.random.randn(width, height, 3)\n",
        "b = np.random.randn(1, 1, 1)\n",
        "\n",
        "#取得計算後,卷積矩陣的值\n",
        "Z = conv_single_step(a_slice_prev, W, b)\n",
        "print(\"Z =\", Z)"
      ],
      "execution_count": 3,
      "outputs": [
        {
          "output_type": "stream",
          "text": [
            "Z = 121.6226497261962\n"
          ],
          "name": "stdout"
        }
      ]
    }
  ]
}