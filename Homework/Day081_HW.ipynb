{
  "nbformat": 4,
  "nbformat_minor": 0,
  "metadata": {
    "colab": {
      "name": "Day081_HW.ipynb",
      "version": "0.3.2",
      "provenance": [],
      "include_colab_link": true
    },
    "language_info": {
      "codemirror_mode": {
        "name": "ipython",
        "version": 3
      },
      "file_extension": ".py",
      "mimetype": "text/x-python",
      "name": "python",
      "nbconvert_exporter": "python",
      "pygments_lexer": "ipython3",
      "version": "3.6.5"
    },
    "kernelspec": {
      "name": "python3",
      "display_name": "Python 3"
    },
    "accelerator": "TPU"
  },
  "cells": [
    {
      "cell_type": "markdown",
      "metadata": {
        "id": "view-in-github",
        "colab_type": "text"
      },
      "source": [
        "<a href=\"https://colab.research.google.com/github/qu8411826/ML100-Days/blob/master/Homework/Day081_HW.ipynb\" target=\"_parent\"><img src=\"https://colab.research.google.com/assets/colab-badge.svg\" alt=\"Open In Colab\"/></a>"
      ]
    },
    {
      "metadata": {
        "id": "xnlejUwopUEV",
        "colab_type": "text"
      },
      "cell_type": "markdown",
      "source": [
        "## Work\n",
        "1. 請比較使用 l1, l1_l2 及不同比例下的訓練結果"
      ]
    },
    {
      "metadata": {
        "id": "2xiMEOWEpUEX",
        "colab_type": "code",
        "colab": {
          "base_uri": "https://localhost:8080/",
          "height": 34
        },
        "outputId": "b257e816-8335-4eb9-b4d4-6ce9e8527d1f"
      },
      "cell_type": "code",
      "source": [
        "import os\n",
        "import keras\n",
        "\n",
        "# Disable GPU\n",
        "os.environ[\"CUDA_VISIBLE_DEVICES\"] = \"\""
      ],
      "execution_count": 1,
      "outputs": [
        {
          "output_type": "stream",
          "text": [
            "Using TensorFlow backend.\n"
          ],
          "name": "stderr"
        }
      ]
    },
    {
      "metadata": {
        "id": "_vdYPIdBpUEZ",
        "colab_type": "code",
        "colab": {
          "base_uri": "https://localhost:8080/",
          "height": 52
        },
        "outputId": "e7dc54e5-779f-4508-f9e6-5ffdcd3ea5c5"
      },
      "cell_type": "code",
      "source": [
        "train, test = keras.datasets.cifar10.load_data()"
      ],
      "execution_count": 2,
      "outputs": [
        {
          "output_type": "stream",
          "text": [
            "Downloading data from https://www.cs.toronto.edu/~kriz/cifar-10-python.tar.gz\n",
            "170500096/170498071 [==============================] - 3s 0us/step\n"
          ],
          "name": "stdout"
        }
      ]
    },
    {
      "metadata": {
        "id": "8P4Z03WEpUEb",
        "colab_type": "code",
        "colab": {}
      },
      "cell_type": "code",
      "source": [
        "## 資料前處理\n",
        "def preproc_x(x, flatten=True):\n",
        "    x = x / 255.\n",
        "    if flatten:\n",
        "        x = x.reshape((len(x), -1))\n",
        "    return x\n",
        "\n",
        "def preproc_y(y, num_classes=10):\n",
        "    if y.shape[-1] == 1:\n",
        "        y = keras.utils.to_categorical(y, num_classes)\n",
        "    return y    "
      ],
      "execution_count": 0,
      "outputs": []
    },
    {
      "metadata": {
        "id": "QtiJ2ebPpUEd",
        "colab_type": "code",
        "colab": {}
      },
      "cell_type": "code",
      "source": [
        "x_train, y_train = train\n",
        "x_test, y_test = test\n",
        "\n",
        "# Preproc the inputs\n",
        "x_train = preproc_x(x_train)\n",
        "x_test = preproc_x(x_test)\n",
        "\n",
        "# Preprc the outputs\n",
        "y_train = preproc_y(y_train)\n",
        "y_test = preproc_y(y_test)"
      ],
      "execution_count": 0,
      "outputs": []
    },
    {
      "metadata": {
        "id": "TVijH5I8pUEf",
        "colab_type": "code",
        "colab": {}
      },
      "cell_type": "code",
      "source": [
        "\n",
        "def build_mlp(input_shape, l1_ratio):\n",
        "  \"\"\"\n",
        "  Build your own model\n",
        "  \"\"\"\n",
        "  input_layer = keras.layers.Input(input_shape)\n",
        "\n",
        "  num_neurons=[512, 256, 128]\n",
        "  for i, n_units in enumerate(num_neurons):\n",
        "      if i == 0:\n",
        "          x = keras.layers.Dense(units=n_units, \n",
        "                                 activation=\"relu\", \n",
        "                                 name=\"hidden_layer\"+str(i+1), \n",
        "                                 kernel_regularizer=l1(l1_ratio))(input_layer)\n",
        "      else:\n",
        "          x = keras.layers.Dense(units=n_units, \n",
        "                                 activation=\"relu\", \n",
        "                                 name=\"hidden_layer\"+str(i+1),\n",
        "                                 kernel_regularizer=l1(l1_ratio))(x)\n",
        "  output_units=10\n",
        "  out = keras.layers.Dense(units=output_units, activation=\"softmax\", name=\"output\")(x)\n",
        "\n",
        "  model = keras.models.Model(inputs=[input_layer], outputs=[out])\n",
        "  return model"
      ],
      "execution_count": 0,
      "outputs": []
    },
    {
      "metadata": {
        "id": "in_Nn7PxpUEh",
        "colab_type": "code",
        "colab": {}
      },
      "cell_type": "code",
      "source": [
        "## 超參數設定\n",
        "\"\"\"\n",
        "Set your hyper-parameters\n",
        "\"\"\"\n",
        "LEARNING_RATE = 1e-3\n",
        "EPOCHS = 30\n",
        "BATCH_SIZE = 256\n",
        "MOMENTUM = 0.95\n",
        "L1_EXP = [1e-2, 1e-4, 1e-8, 1e-12]"
      ],
      "execution_count": 0,
      "outputs": []
    },
    {
      "metadata": {
        "scrolled": true,
        "id": "Zw1d4xUMpUEk",
        "colab_type": "code",
        "colab": {
          "base_uri": "https://localhost:8080/",
          "height": 5651
        },
        "outputId": "3548a371-a125-46b1-a7f8-ce4beb066310"
      },
      "cell_type": "code",
      "source": [
        "results = {}\n",
        "\"\"\"\n",
        "Set your training loop\n",
        "\"\"\"\n",
        "for regulizer_ratio in L1_EXP:\n",
        "    keras.backend.clear_session() # 把舊的 Graph 清掉\n",
        "    print(\"Experiment with Regulizer = %.6f\" % (regulizer_ratio))\n",
        "    model = build_mlp(input_shape=x_train.shape[1:], l1_ratio=regulizer_ratio)\n",
        "    model.summary()\n",
        "    optimizer = keras.optimizers.SGD(lr=LEARNING_RATE, nesterov=True, momentum=MOMENTUM)\n",
        "    model.compile(loss=\"categorical_crossentropy\", metrics=[\"accuracy\"], optimizer=optimizer)\n",
        "\n",
        "    model.fit(x_train, y_train, \n",
        "              epochs=EPOCHS, \n",
        "              batch_size=BATCH_SIZE, \n",
        "              validation_data=(x_test, y_test), \n",
        "              shuffle=True)\n",
        "    \n",
        "    # Collect results\n",
        "    train_loss = model.history.history[\"loss\"]\n",
        "    valid_loss = model.history.history[\"val_loss\"]\n",
        "    train_acc = model.history.history[\"acc\"]\n",
        "    valid_acc = model.history.history[\"val_acc\"]\n",
        "    \n",
        "    exp_name_tag = \"exp-l1-%s\" % str(regulizer_ratio)\n",
        "    results[exp_name_tag] = {'train-loss': train_loss,\n",
        "                             'valid-loss': valid_loss,\n",
        "                             'train-acc': train_acc,\n",
        "                             'valid-acc': valid_acc}"
      ],
      "execution_count": 20,
      "outputs": [
        {
          "output_type": "stream",
          "text": [
            "Experiment with Regulizer = 0.010000\n",
            "_________________________________________________________________\n",
            "Layer (type)                 Output Shape              Param #   \n",
            "=================================================================\n",
            "input_1 (InputLayer)         (None, 3072)              0         \n",
            "_________________________________________________________________\n",
            "hidden_layer1 (Dense)        (None, 512)               1573376   \n",
            "_________________________________________________________________\n",
            "hidden_layer2 (Dense)        (None, 256)               131328    \n",
            "_________________________________________________________________\n",
            "hidden_layer3 (Dense)        (None, 128)               32896     \n",
            "_________________________________________________________________\n",
            "output (Dense)               (None, 10)                1290      \n",
            "=================================================================\n",
            "Total params: 1,738,890\n",
            "Trainable params: 1,738,890\n",
            "Non-trainable params: 0\n",
            "_________________________________________________________________\n",
            "WARNING:tensorflow:From /usr/local/lib/python3.6/dist-packages/tensorflow/python/ops/math_ops.py:3066: to_int32 (from tensorflow.python.ops.math_ops) is deprecated and will be removed in a future version.\n",
            "Instructions for updating:\n",
            "Use tf.cast instead.\n",
            "Train on 50000 samples, validate on 10000 samples\n",
            "Epoch 1/30\n",
            "50000/50000 [==============================] - 14s 289us/step - loss: 198.7392 - acc: 0.2365 - val_loss: 41.2175 - val_acc: 0.2379\n",
            "Epoch 2/30\n",
            "50000/50000 [==============================] - 14s 281us/step - loss: 19.1765 - acc: 0.1150 - val_loss: 7.3198 - val_acc: 0.1000\n",
            "Epoch 3/30\n",
            "50000/50000 [==============================] - 14s 279us/step - loss: 4.1216 - acc: 0.0975 - val_loss: 2.6500 - val_acc: 0.1000\n",
            "Epoch 4/30\n",
            "50000/50000 [==============================] - 14s 280us/step - loss: 2.4866 - acc: 0.0983 - val_loss: 2.4625 - val_acc: 0.1000\n",
            "Epoch 5/30\n",
            "50000/50000 [==============================] - 14s 281us/step - loss: 2.4626 - acc: 0.0983 - val_loss: 2.4627 - val_acc: 0.1000\n",
            "Epoch 6/30\n",
            "50000/50000 [==============================] - 14s 280us/step - loss: 2.4626 - acc: 0.0984 - val_loss: 2.4625 - val_acc: 0.1000\n",
            "Epoch 7/30\n",
            "50000/50000 [==============================] - 14s 282us/step - loss: 2.4626 - acc: 0.0960 - val_loss: 2.4626 - val_acc: 0.1000\n",
            "Epoch 8/30\n",
            "50000/50000 [==============================] - 14s 282us/step - loss: 2.4626 - acc: 0.0972 - val_loss: 2.4626 - val_acc: 0.1000\n",
            "Epoch 9/30\n",
            "50000/50000 [==============================] - 14s 284us/step - loss: 2.4626 - acc: 0.0997 - val_loss: 2.4626 - val_acc: 0.1000\n",
            "Epoch 10/30\n",
            "50000/50000 [==============================] - 14s 282us/step - loss: 2.4626 - acc: 0.0964 - val_loss: 2.4626 - val_acc: 0.1000\n",
            "Epoch 11/30\n",
            "50000/50000 [==============================] - 14s 284us/step - loss: 2.4626 - acc: 0.0973 - val_loss: 2.4626 - val_acc: 0.1000\n",
            "Epoch 12/30\n",
            "50000/50000 [==============================] - 14s 284us/step - loss: 2.4626 - acc: 0.0992 - val_loss: 2.4626 - val_acc: 0.1000\n",
            "Epoch 13/30\n",
            "50000/50000 [==============================] - 14s 280us/step - loss: 2.4626 - acc: 0.0966 - val_loss: 2.4626 - val_acc: 0.1000\n",
            "Epoch 14/30\n",
            "50000/50000 [==============================] - 14s 283us/step - loss: 2.4626 - acc: 0.0968 - val_loss: 2.4627 - val_acc: 0.1000\n",
            "Epoch 15/30\n",
            "50000/50000 [==============================] - 14s 282us/step - loss: 2.4626 - acc: 0.0974 - val_loss: 2.4626 - val_acc: 0.1000\n",
            "Epoch 16/30\n",
            "50000/50000 [==============================] - 14s 280us/step - loss: 2.4626 - acc: 0.0969 - val_loss: 2.4626 - val_acc: 0.1000\n",
            "Epoch 17/30\n",
            "50000/50000 [==============================] - 14s 285us/step - loss: 2.4626 - acc: 0.0981 - val_loss: 2.4627 - val_acc: 0.1000\n",
            "Epoch 18/30\n",
            "50000/50000 [==============================] - 14s 281us/step - loss: 2.4626 - acc: 0.0971 - val_loss: 2.4626 - val_acc: 0.1000\n",
            "Epoch 19/30\n",
            "50000/50000 [==============================] - 14s 284us/step - loss: 2.4626 - acc: 0.0978 - val_loss: 2.4626 - val_acc: 0.1000\n",
            "Epoch 20/30\n",
            "50000/50000 [==============================] - 14s 288us/step - loss: 2.4626 - acc: 0.0967 - val_loss: 2.4626 - val_acc: 0.1000\n",
            "Epoch 21/30\n",
            "50000/50000 [==============================] - 15s 291us/step - loss: 2.4626 - acc: 0.0962 - val_loss: 2.4626 - val_acc: 0.1000\n",
            "Epoch 22/30\n",
            "50000/50000 [==============================] - 14s 284us/step - loss: 2.4626 - acc: 0.0968 - val_loss: 2.4625 - val_acc: 0.1000\n",
            "Epoch 23/30\n",
            "50000/50000 [==============================] - 14s 284us/step - loss: 2.4626 - acc: 0.0964 - val_loss: 2.4626 - val_acc: 0.1000\n",
            "Epoch 24/30\n",
            "50000/50000 [==============================] - 14s 284us/step - loss: 2.4626 - acc: 0.0990 - val_loss: 2.4627 - val_acc: 0.1000\n",
            "Epoch 25/30\n",
            "50000/50000 [==============================] - 14s 284us/step - loss: 2.4626 - acc: 0.0991 - val_loss: 2.4626 - val_acc: 0.1000\n",
            "Epoch 26/30\n",
            "50000/50000 [==============================] - 14s 283us/step - loss: 2.4626 - acc: 0.0983 - val_loss: 2.4627 - val_acc: 0.1000\n",
            "Epoch 27/30\n",
            "50000/50000 [==============================] - 14s 285us/step - loss: 2.4626 - acc: 0.0972 - val_loss: 2.4626 - val_acc: 0.1000\n",
            "Epoch 28/30\n",
            "50000/50000 [==============================] - 14s 284us/step - loss: 2.4626 - acc: 0.0970 - val_loss: 2.4625 - val_acc: 0.1000\n",
            "Epoch 29/30\n",
            "50000/50000 [==============================] - 14s 287us/step - loss: 2.4626 - acc: 0.0980 - val_loss: 2.4626 - val_acc: 0.1000\n",
            "Epoch 30/30\n",
            "50000/50000 [==============================] - 14s 286us/step - loss: 2.4626 - acc: 0.0966 - val_loss: 2.4626 - val_acc: 0.1000\n",
            "Experiment with Regulizer = 0.000100\n",
            "_________________________________________________________________\n",
            "Layer (type)                 Output Shape              Param #   \n",
            "=================================================================\n",
            "input_1 (InputLayer)         (None, 3072)              0         \n",
            "_________________________________________________________________\n",
            "hidden_layer1 (Dense)        (None, 512)               1573376   \n",
            "_________________________________________________________________\n",
            "hidden_layer2 (Dense)        (None, 256)               131328    \n",
            "_________________________________________________________________\n",
            "hidden_layer3 (Dense)        (None, 128)               32896     \n",
            "_________________________________________________________________\n",
            "output (Dense)               (None, 10)                1290      \n",
            "=================================================================\n",
            "Total params: 1,738,890\n",
            "Trainable params: 1,738,890\n",
            "Non-trainable params: 0\n",
            "_________________________________________________________________\n",
            "Train on 50000 samples, validate on 10000 samples\n",
            "Epoch 1/30\n",
            "50000/50000 [==============================] - 15s 292us/step - loss: 6.0134 - acc: 0.2705 - val_loss: 5.8002 - val_acc: 0.3544\n",
            "Epoch 2/30\n",
            "50000/50000 [==============================] - 14s 280us/step - loss: 5.7129 - acc: 0.3672 - val_loss: 5.6356 - val_acc: 0.3868\n",
            "Epoch 3/30\n",
            "50000/50000 [==============================] - 14s 282us/step - loss: 5.5648 - acc: 0.3941 - val_loss: 5.5045 - val_acc: 0.4050\n",
            "Epoch 4/30\n",
            "50000/50000 [==============================] - 14s 279us/step - loss: 5.4451 - acc: 0.4152 - val_loss: 5.3994 - val_acc: 0.4179\n",
            "Epoch 5/30\n",
            "50000/50000 [==============================] - 14s 279us/step - loss: 5.3358 - acc: 0.4323 - val_loss: 5.3081 - val_acc: 0.4336\n",
            "Epoch 6/30\n",
            "50000/50000 [==============================] - 14s 281us/step - loss: 5.2356 - acc: 0.4453 - val_loss: 5.2057 - val_acc: 0.4391\n",
            "Epoch 7/30\n",
            "50000/50000 [==============================] - 14s 280us/step - loss: 5.1421 - acc: 0.4565 - val_loss: 5.1213 - val_acc: 0.4479\n",
            "Epoch 8/30\n",
            "50000/50000 [==============================] - 14s 282us/step - loss: 5.0526 - acc: 0.4671 - val_loss: 5.0202 - val_acc: 0.4643\n",
            "Epoch 9/30\n",
            "50000/50000 [==============================] - 14s 283us/step - loss: 4.9651 - acc: 0.4768 - val_loss: 4.9556 - val_acc: 0.4617\n",
            "Epoch 10/30\n",
            "50000/50000 [==============================] - 14s 281us/step - loss: 4.8826 - acc: 0.4841 - val_loss: 4.8880 - val_acc: 0.4658\n",
            "Epoch 11/30\n",
            "50000/50000 [==============================] - 14s 281us/step - loss: 4.7995 - acc: 0.4927 - val_loss: 4.7867 - val_acc: 0.4805\n",
            "Epoch 12/30\n",
            "50000/50000 [==============================] - 14s 282us/step - loss: 4.7198 - acc: 0.5007 - val_loss: 4.7185 - val_acc: 0.4817\n",
            "Epoch 13/30\n",
            "50000/50000 [==============================] - 14s 284us/step - loss: 4.6432 - acc: 0.5042 - val_loss: 4.6480 - val_acc: 0.4926\n",
            "Epoch 14/30\n",
            "50000/50000 [==============================] - 14s 282us/step - loss: 4.5684 - acc: 0.5122 - val_loss: 4.5827 - val_acc: 0.4974\n",
            "Epoch 15/30\n",
            "50000/50000 [==============================] - 14s 279us/step - loss: 4.4945 - acc: 0.5178 - val_loss: 4.5209 - val_acc: 0.4905\n",
            "Epoch 16/30\n",
            "50000/50000 [==============================] - 14s 279us/step - loss: 4.4199 - acc: 0.5253 - val_loss: 4.4455 - val_acc: 0.5029\n",
            "Epoch 17/30\n",
            "50000/50000 [==============================] - 14s 280us/step - loss: 4.3475 - acc: 0.5313 - val_loss: 4.3972 - val_acc: 0.4938\n",
            "Epoch 18/30\n",
            "50000/50000 [==============================] - 14s 282us/step - loss: 4.2786 - acc: 0.5344 - val_loss: 4.3582 - val_acc: 0.4948\n",
            "Epoch 19/30\n",
            "50000/50000 [==============================] - 14s 281us/step - loss: 4.2101 - acc: 0.5397 - val_loss: 4.2563 - val_acc: 0.5095\n",
            "Epoch 20/30\n",
            "50000/50000 [==============================] - 14s 282us/step - loss: 4.1435 - acc: 0.5442 - val_loss: 4.2191 - val_acc: 0.5046\n",
            "Epoch 21/30\n",
            "50000/50000 [==============================] - 14s 281us/step - loss: 4.0793 - acc: 0.5486 - val_loss: 4.1474 - val_acc: 0.5080\n",
            "Epoch 22/30\n",
            "50000/50000 [==============================] - 14s 278us/step - loss: 4.0156 - acc: 0.5531 - val_loss: 4.1635 - val_acc: 0.4910\n",
            "Epoch 23/30\n",
            "50000/50000 [==============================] - 14s 279us/step - loss: 3.9532 - acc: 0.5581 - val_loss: 4.0507 - val_acc: 0.5079\n",
            "Epoch 24/30\n",
            "50000/50000 [==============================] - 14s 280us/step - loss: 3.8917 - acc: 0.5598 - val_loss: 3.9911 - val_acc: 0.5087\n",
            "Epoch 25/30\n",
            "50000/50000 [==============================] - 14s 279us/step - loss: 3.8279 - acc: 0.5653 - val_loss: 3.9257 - val_acc: 0.5228\n",
            "Epoch 26/30\n",
            "50000/50000 [==============================] - 14s 280us/step - loss: 3.7674 - acc: 0.5703 - val_loss: 3.9146 - val_acc: 0.5071\n",
            "Epoch 27/30\n",
            "50000/50000 [==============================] - 14s 281us/step - loss: 3.7119 - acc: 0.5733 - val_loss: 3.8344 - val_acc: 0.5212\n",
            "Epoch 28/30\n",
            "50000/50000 [==============================] - 14s 279us/step - loss: 3.6527 - acc: 0.5768 - val_loss: 3.7576 - val_acc: 0.5302\n",
            "Epoch 29/30\n",
            "50000/50000 [==============================] - 14s 282us/step - loss: 3.5950 - acc: 0.5812 - val_loss: 3.7243 - val_acc: 0.5224\n",
            "Epoch 30/30\n",
            "50000/50000 [==============================] - 14s 286us/step - loss: 3.5385 - acc: 0.5833 - val_loss: 3.6808 - val_acc: 0.5196\n",
            "Experiment with Regulizer = 0.000000\n",
            "_________________________________________________________________\n",
            "Layer (type)                 Output Shape              Param #   \n",
            "=================================================================\n",
            "input_1 (InputLayer)         (None, 3072)              0         \n",
            "_________________________________________________________________\n",
            "hidden_layer1 (Dense)        (None, 512)               1573376   \n",
            "_________________________________________________________________\n",
            "hidden_layer2 (Dense)        (None, 256)               131328    \n",
            "_________________________________________________________________\n",
            "hidden_layer3 (Dense)        (None, 128)               32896     \n",
            "_________________________________________________________________\n",
            "output (Dense)               (None, 10)                1290      \n",
            "=================================================================\n",
            "Total params: 1,738,890\n",
            "Trainable params: 1,738,890\n",
            "Non-trainable params: 0\n",
            "_________________________________________________________________\n",
            "Train on 50000 samples, validate on 10000 samples\n",
            "Epoch 1/30\n",
            "50000/50000 [==============================] - 14s 286us/step - loss: 2.0244 - acc: 0.2690 - val_loss: 1.8656 - val_acc: 0.3443\n",
            "Epoch 2/30\n",
            "50000/50000 [==============================] - 14s 276us/step - loss: 1.8096 - acc: 0.3657 - val_loss: 1.7595 - val_acc: 0.3821\n",
            "Epoch 3/30\n",
            "50000/50000 [==============================] - 14s 277us/step - loss: 1.7216 - acc: 0.3975 - val_loss: 1.6914 - val_acc: 0.4070\n",
            "Epoch 4/30\n",
            "50000/50000 [==============================] - 14s 279us/step - loss: 1.6605 - acc: 0.4176 - val_loss: 1.6314 - val_acc: 0.4290\n",
            "Epoch 5/30\n",
            "50000/50000 [==============================] - 14s 286us/step - loss: 1.6128 - acc: 0.4333 - val_loss: 1.5962 - val_acc: 0.4431\n",
            "Epoch 6/30\n",
            "50000/50000 [==============================] - 14s 276us/step - loss: 1.5725 - acc: 0.4487 - val_loss: 1.5635 - val_acc: 0.4513\n",
            "Epoch 7/30\n",
            "50000/50000 [==============================] - 14s 277us/step - loss: 1.5366 - acc: 0.4578 - val_loss: 1.5436 - val_acc: 0.4567\n",
            "Epoch 8/30\n",
            "50000/50000 [==============================] - 14s 276us/step - loss: 1.5072 - acc: 0.4692 - val_loss: 1.5229 - val_acc: 0.4625\n",
            "Epoch 9/30\n",
            "50000/50000 [==============================] - 14s 275us/step - loss: 1.4788 - acc: 0.4785 - val_loss: 1.4935 - val_acc: 0.4734\n",
            "Epoch 10/30\n",
            "50000/50000 [==============================] - 14s 277us/step - loss: 1.4531 - acc: 0.4895 - val_loss: 1.4841 - val_acc: 0.4765\n",
            "Epoch 11/30\n",
            "50000/50000 [==============================] - 14s 278us/step - loss: 1.4278 - acc: 0.4970 - val_loss: 1.4554 - val_acc: 0.4867\n",
            "Epoch 12/30\n",
            "50000/50000 [==============================] - 14s 276us/step - loss: 1.4042 - acc: 0.5050 - val_loss: 1.4675 - val_acc: 0.4832\n",
            "Epoch 13/30\n",
            "50000/50000 [==============================] - 14s 275us/step - loss: 1.3831 - acc: 0.5103 - val_loss: 1.4470 - val_acc: 0.4891\n",
            "Epoch 14/30\n",
            "50000/50000 [==============================] - 14s 275us/step - loss: 1.3637 - acc: 0.5187 - val_loss: 1.4145 - val_acc: 0.4975\n",
            "Epoch 15/30\n",
            "50000/50000 [==============================] - 14s 277us/step - loss: 1.3435 - acc: 0.5252 - val_loss: 1.4237 - val_acc: 0.4963\n",
            "Epoch 16/30\n",
            "50000/50000 [==============================] - 14s 279us/step - loss: 1.3231 - acc: 0.5341 - val_loss: 1.4027 - val_acc: 0.5019\n",
            "Epoch 17/30\n",
            "50000/50000 [==============================] - 14s 276us/step - loss: 1.3050 - acc: 0.5401 - val_loss: 1.4058 - val_acc: 0.5060\n",
            "Epoch 18/30\n",
            "50000/50000 [==============================] - 14s 275us/step - loss: 1.2897 - acc: 0.5445 - val_loss: 1.3816 - val_acc: 0.5101\n",
            "Epoch 19/30\n",
            "50000/50000 [==============================] - 14s 278us/step - loss: 1.2737 - acc: 0.5512 - val_loss: 1.4008 - val_acc: 0.5040\n",
            "Epoch 20/30\n",
            "50000/50000 [==============================] - 14s 276us/step - loss: 1.2566 - acc: 0.5571 - val_loss: 1.3728 - val_acc: 0.5112\n",
            "Epoch 21/30\n",
            "50000/50000 [==============================] - 14s 275us/step - loss: 1.2429 - acc: 0.5608 - val_loss: 1.3914 - val_acc: 0.5089\n",
            "Epoch 22/30\n",
            "50000/50000 [==============================] - 14s 280us/step - loss: 1.2256 - acc: 0.5690 - val_loss: 1.4212 - val_acc: 0.5005\n",
            "Epoch 23/30\n",
            "50000/50000 [==============================] - 14s 274us/step - loss: 1.2085 - acc: 0.5759 - val_loss: 1.3671 - val_acc: 0.5136\n",
            "Epoch 24/30\n",
            "50000/50000 [==============================] - 14s 276us/step - loss: 1.1955 - acc: 0.5770 - val_loss: 1.3442 - val_acc: 0.5243\n",
            "Epoch 25/30\n",
            "50000/50000 [==============================] - 14s 276us/step - loss: 1.1831 - acc: 0.5832 - val_loss: 1.3448 - val_acc: 0.5237\n",
            "Epoch 26/30\n",
            "50000/50000 [==============================] - 14s 276us/step - loss: 1.1675 - acc: 0.5889 - val_loss: 1.3506 - val_acc: 0.5203\n",
            "Epoch 27/30\n",
            "50000/50000 [==============================] - 14s 285us/step - loss: 1.1512 - acc: 0.5922 - val_loss: 1.3819 - val_acc: 0.5112\n",
            "Epoch 28/30\n",
            "50000/50000 [==============================] - 14s 278us/step - loss: 1.1397 - acc: 0.5980 - val_loss: 1.3576 - val_acc: 0.5234\n",
            "Epoch 29/30\n",
            "50000/50000 [==============================] - 14s 276us/step - loss: 1.1278 - acc: 0.6018 - val_loss: 1.3411 - val_acc: 0.5295\n",
            "Epoch 30/30\n",
            "50000/50000 [==============================] - 14s 274us/step - loss: 1.1121 - acc: 0.6102 - val_loss: 1.3487 - val_acc: 0.5174\n",
            "Experiment with Regulizer = 0.000000\n",
            "_________________________________________________________________\n",
            "Layer (type)                 Output Shape              Param #   \n",
            "=================================================================\n",
            "input_1 (InputLayer)         (None, 3072)              0         \n",
            "_________________________________________________________________\n",
            "hidden_layer1 (Dense)        (None, 512)               1573376   \n",
            "_________________________________________________________________\n",
            "hidden_layer2 (Dense)        (None, 256)               131328    \n",
            "_________________________________________________________________\n",
            "hidden_layer3 (Dense)        (None, 128)               32896     \n",
            "_________________________________________________________________\n",
            "output (Dense)               (None, 10)                1290      \n",
            "=================================================================\n",
            "Total params: 1,738,890\n",
            "Trainable params: 1,738,890\n",
            "Non-trainable params: 0\n",
            "_________________________________________________________________\n",
            "Train on 50000 samples, validate on 10000 samples\n",
            "Epoch 1/30\n",
            "50000/50000 [==============================] - 14s 275us/step - loss: 2.0706 - acc: 0.2585 - val_loss: 1.9046 - val_acc: 0.3331\n",
            "Epoch 2/30\n",
            "50000/50000 [==============================] - 13s 267us/step - loss: 1.8352 - acc: 0.3599 - val_loss: 1.7844 - val_acc: 0.3806\n",
            "Epoch 3/30\n",
            "50000/50000 [==============================] - 13s 268us/step - loss: 1.7423 - acc: 0.3927 - val_loss: 1.7023 - val_acc: 0.4060\n",
            "Epoch 4/30\n",
            "50000/50000 [==============================] - 13s 266us/step - loss: 1.6773 - acc: 0.4141 - val_loss: 1.6579 - val_acc: 0.4225\n",
            "Epoch 5/30\n",
            "50000/50000 [==============================] - 13s 267us/step - loss: 1.6268 - acc: 0.4310 - val_loss: 1.6114 - val_acc: 0.4360\n",
            "Epoch 6/30\n",
            "50000/50000 [==============================] - 13s 266us/step - loss: 1.5842 - acc: 0.4447 - val_loss: 1.5850 - val_acc: 0.4418\n",
            "Epoch 7/30\n",
            "50000/50000 [==============================] - 13s 266us/step - loss: 1.5492 - acc: 0.4567 - val_loss: 1.5500 - val_acc: 0.4573\n",
            "Epoch 8/30\n",
            "50000/50000 [==============================] - 16s 311us/step - loss: 1.5188 - acc: 0.4685 - val_loss: 1.5290 - val_acc: 0.4601\n",
            "Epoch 9/30\n",
            "50000/50000 [==============================] - 16s 317us/step - loss: 1.4892 - acc: 0.4790 - val_loss: 1.5136 - val_acc: 0.4708\n",
            "Epoch 10/30\n",
            "50000/50000 [==============================] - 13s 265us/step - loss: 1.4643 - acc: 0.4861 - val_loss: 1.4845 - val_acc: 0.4805\n",
            "Epoch 11/30\n",
            "50000/50000 [==============================] - 13s 267us/step - loss: 1.4390 - acc: 0.4925 - val_loss: 1.4700 - val_acc: 0.4801\n",
            "Epoch 12/30\n",
            "50000/50000 [==============================] - 13s 267us/step - loss: 1.4172 - acc: 0.5038 - val_loss: 1.4716 - val_acc: 0.4779\n",
            "Epoch 13/30\n",
            "50000/50000 [==============================] - 13s 269us/step - loss: 1.3955 - acc: 0.5090 - val_loss: 1.4416 - val_acc: 0.4943\n",
            "Epoch 14/30\n",
            "50000/50000 [==============================] - 14s 272us/step - loss: 1.3760 - acc: 0.5172 - val_loss: 1.4281 - val_acc: 0.4948\n",
            "Epoch 15/30\n",
            "50000/50000 [==============================] - 13s 270us/step - loss: 1.3561 - acc: 0.5232 - val_loss: 1.4233 - val_acc: 0.4940\n",
            "Epoch 16/30\n",
            "50000/50000 [==============================] - 13s 268us/step - loss: 1.3378 - acc: 0.5266 - val_loss: 1.4275 - val_acc: 0.4926\n",
            "Epoch 17/30\n",
            "50000/50000 [==============================] - 14s 271us/step - loss: 1.3225 - acc: 0.5335 - val_loss: 1.4062 - val_acc: 0.4959\n",
            "Epoch 18/30\n",
            "50000/50000 [==============================] - 18s 368us/step - loss: 1.3033 - acc: 0.5408 - val_loss: 1.3926 - val_acc: 0.5091\n",
            "Epoch 19/30\n",
            "50000/50000 [==============================] - 27s 532us/step - loss: 1.2874 - acc: 0.5459 - val_loss: 1.3753 - val_acc: 0.5088\n",
            "Epoch 20/30\n",
            "50000/50000 [==============================] - 27s 531us/step - loss: 1.2712 - acc: 0.5504 - val_loss: 1.3748 - val_acc: 0.5134\n",
            "Epoch 21/30\n",
            "50000/50000 [==============================] - 26s 526us/step - loss: 1.2564 - acc: 0.5554 - val_loss: 1.3803 - val_acc: 0.5109\n",
            "Epoch 22/30\n",
            "50000/50000 [==============================] - 27s 532us/step - loss: 1.2442 - acc: 0.5600 - val_loss: 1.3829 - val_acc: 0.5109\n",
            "Epoch 23/30\n",
            "50000/50000 [==============================] - 26s 524us/step - loss: 1.2255 - acc: 0.5711 - val_loss: 1.4230 - val_acc: 0.5051\n",
            "Epoch 24/30\n",
            "50000/50000 [==============================] - 27s 532us/step - loss: 1.2124 - acc: 0.5708 - val_loss: 1.3831 - val_acc: 0.5159\n",
            "Epoch 25/30\n",
            "50000/50000 [==============================] - 26s 521us/step - loss: 1.1973 - acc: 0.5790 - val_loss: 1.3761 - val_acc: 0.5100\n",
            "Epoch 26/30\n",
            "50000/50000 [==============================] - 26s 526us/step - loss: 1.1843 - acc: 0.5834 - val_loss: 1.3748 - val_acc: 0.5107\n",
            "Epoch 27/30\n",
            "50000/50000 [==============================] - 27s 534us/step - loss: 1.1707 - acc: 0.5875 - val_loss: 1.3481 - val_acc: 0.5246\n",
            "Epoch 28/30\n",
            "50000/50000 [==============================] - 27s 535us/step - loss: 1.1552 - acc: 0.5928 - val_loss: 1.3849 - val_acc: 0.5108\n",
            "Epoch 29/30\n",
            "50000/50000 [==============================] - 27s 534us/step - loss: 1.1439 - acc: 0.5958 - val_loss: 1.3584 - val_acc: 0.5197\n",
            "Epoch 30/30\n",
            "50000/50000 [==============================] - 26s 526us/step - loss: 1.1288 - acc: 0.6018 - val_loss: 1.3516 - val_acc: 0.5200\n"
          ],
          "name": "stdout"
        }
      ]
    },
    {
      "metadata": {
        "id": "KEzgXtIZCjjO",
        "colab_type": "code",
        "colab": {}
      },
      "cell_type": "code",
      "source": [
        "results_l1 = {}\n",
        "for key in results.keys():\n",
        "  new_key = key.replace(\"l2\", \"l1\")\n",
        "  results_l1[new_key] = results[key]"
      ],
      "execution_count": 0,
      "outputs": []
    },
    {
      "metadata": {
        "id": "ckIC_BiaC9mj",
        "colab_type": "code",
        "colab": {}
      },
      "cell_type": "code",
      "source": [
        "results_l2 = results"
      ],
      "execution_count": 0,
      "outputs": []
    },
    {
      "metadata": {
        "id": "eFoqNSEsDC2T",
        "colab_type": "code",
        "colab": {}
      },
      "cell_type": "code",
      "source": [
        "results = results_l1"
      ],
      "execution_count": 0,
      "outputs": []
    },
    {
      "metadata": {
        "id": "z3gkNO6ypUEm",
        "colab_type": "code",
        "colab": {
          "base_uri": "https://localhost:8080/",
          "height": 762
        },
        "outputId": "a1c9492b-8caa-4bfa-c449-422fc24c72c6"
      },
      "cell_type": "code",
      "source": [
        "import matplotlib.pyplot as plt\n",
        "%matplotlib inline\n",
        "\"\"\"\n",
        "plot the results\n",
        "\"\"\"\n",
        "import matplotlib.pyplot as plt\n",
        "%matplotlib inline\n",
        "color_bar = [\"r\", \"g\", \"b\", \"y\", \"m\", \"k\"]\n",
        "\n",
        "plt.figure(figsize=(8,6))\n",
        "for i, cond in enumerate(results.keys()):\n",
        "    plt.plot(range(len(results[cond]['train-loss'])),results[cond]['train-loss'], '-', label=cond+'train', color=color_bar[i])\n",
        "    plt.plot(range(len(results[cond]['valid-loss'])),results[cond]['valid-loss'], '--', label=cond+'val', color=color_bar[i])\n",
        "plt.title(\"Loss\")\n",
        "plt.ylim([0, 10])\n",
        "plt.legend()\n",
        "plt.show()\n",
        "\n",
        "plt.figure(figsize=(8,6))\n",
        "for i, cond in enumerate(results.keys()):\n",
        "    plt.plot(range(len(results[cond]['train-acc'])),results[cond]['train-acc'], '-', label=cond+'train', color=color_bar[i])\n",
        "    plt.plot(range(len(results[cond]['valid-acc'])),results[cond]['valid-acc'], '--', label=cond+'val', color=color_bar[i])\n",
        "plt.title(\"Accuracy\")\n",
        "plt.legend()\n",
        "plt.show()"
      ],
      "execution_count": 32,
      "outputs": [
        {
          "output_type": "display_data",
          "data": {
            "image/png": "[encoded data removed]",
            "text/plain": [
              "<Figure size 576x432 with 1 Axes>"
            ]
          },
          "metadata": {
            "tags": []
          }
        },
        {
          "output_type": "display_data",
          "data": {
            "image/png": "[encoded data removed]",
            "text/plain": [
              "<Figure size 576x432 with 1 Axes>"
            ]
          },
          "metadata": {
            "tags": []
          }
        }
      ]
    },
    {
      "metadata": {
        "id": "euLjwEdaCFjS",
        "colab_type": "code",
        "colab": {}
      },
      "cell_type": "code",
      "source": [
        ""
      ],
      "execution_count": 0,
      "outputs": []
    }
  ]
}