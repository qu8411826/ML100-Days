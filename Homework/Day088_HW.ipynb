{
  "nbformat": 4,
  "nbformat_minor": 0,
  "metadata": {
    "colab": {
      "name": "Day088_HW.ipynb",
      "version": "0.3.2",
      "provenance": [],
      "include_colab_link": true
    },
    "kernelspec": {
      "name": "python3",
      "display_name": "Python 3"
    },
    "accelerator": "GPU"
  },
  "cells": [
    {
      "cell_type": "markdown",
      "metadata": {
        "id": "view-in-github",
        "colab_type": "text"
      },
      "source": [
        "<a href=\"https://colab.research.google.com/github/d823944/ML100-Days/blob/master/Homework/Day088_HW.ipynb\" target=\"_parent\"><img src=\"https://colab.research.google.com/assets/colab-badge.svg\" alt=\"Open In Colab\"/></a>"
      ]
    },
    {
      "metadata": {
        "id": "Q5oO-Jyurh2J",
        "colab_type": "code",
        "outputId": "2f9f18c5-edce-4de3-8328-64ea41dd2369",
        "colab": {
          "base_uri": "https://localhost:8080/",
          "height": 51
        }
      },
      "cell_type": "code",
      "source": [
        "import os\n",
        "import keras\n",
        "import matplotlib.pyplot as plt\n",
        "%matplotlib inline\n",
        "\n",
        "# Check GPU\n",
        "import tensorflow as tf\n",
        "tf.test.gpu_device_name()"
      ],
      "execution_count": 0,
      "outputs": [
        {
          "output_type": "stream",
          "text": [
            "Using TensorFlow backend.\n"
          ],
          "name": "stderr"
        },
        {
          "output_type": "execute_result",
          "data": {
            "text/plain": [
              "'/device:GPU:0'"
            ]
          },
          "metadata": {
            "tags": []
          },
          "execution_count": 1
        }
      ]
    },
    {
      "metadata": {
        "id": "4G1zgE2hrnve",
        "colab_type": "code",
        "outputId": "1e68a911-294d-4b6d-b6a6-ecad48355b93",
        "colab": {
          "base_uri": "https://localhost:8080/",
          "height": 51
        }
      },
      "cell_type": "code",
      "source": [
        "## 資料前處理\n",
        "def preproc_x(x, flatten=True):\n",
        "    x = x / 255.\n",
        "    if flatten:\n",
        "        x = x.reshape((len(x), -1))\n",
        "    return x\n",
        "\n",
        "def preproc_y(y, num_classes=10):\n",
        "    if y.shape[-1] == 1:\n",
        "        y = keras.utils.to_categorical(y, num_classes)\n",
        "    return y \n",
        "\n",
        "train, test = keras.datasets.cifar10.load_data()\n",
        "\n",
        "x_train, y_train = train\n",
        "x_test, y_test = test\n",
        "\n",
        "# Preproc the inputs\n",
        "x_train = preproc_x(x_train)\n",
        "x_test = preproc_x(x_test)\n",
        "\n",
        "# Preprc the outputs\n",
        "y_train = preproc_y(y_train)\n",
        "y_test = preproc_y(y_test)"
      ],
      "execution_count": 0,
      "outputs": [
        {
          "output_type": "stream",
          "text": [
            "Downloading data from https://www.cs.toronto.edu/~kriz/cifar-10-python.tar.gz\n",
            "170500096/170498071 [==============================] - 24s 0us/step\n"
          ],
          "name": "stdout"
        }
      ]
    },
    {
      "metadata": {
        "id": "9c46ON5orvUL",
        "colab_type": "code",
        "colab": {}
      },
      "cell_type": "code",
      "source": [
        "#from keras.layers import BatchNormalization\n",
        "\n",
        "\n",
        "# import BatchNormalization\n",
        "from keras.models import Sequential\n",
        "from keras.layers.normalization import BatchNormalization\n",
        "from keras.layers import Dense, Activation, Dropout\n",
        "\n",
        "\n",
        "def build_mlp(input_shape, output_units=10, num_neurons=[256, 256, 256]):\n",
        "    \"\"\"\n",
        "    TO DO:\n",
        "    Build your own model\n",
        "    \"\"\"\n",
        "    # instantiate model\n",
        "    model = Sequential()\n",
        "\n",
        "    # we can think of this chunk as the input layer\n",
        "    for i, n_units in enumerate(num_neurons):\n",
        "        if i == 0:\n",
        "            model.add(Dense(num_neurons[i], input_shape=input_shape))\n",
        "        else:\n",
        "            model.add(Dense(num_neurons[i]))\n",
        "                      \n",
        "        model.add(BatchNormalization())\n",
        "        model.add(Activation('relu'))\n",
        "        model.add(Dropout(0.5))\n",
        "                      \n",
        "    model.add(Dense(output_units))\n",
        "    model.add(BatchNormalization())\n",
        "    model.add(Activation('softmax'))\n",
        "    \n",
        "    return model"
      ],
      "execution_count": 0,
      "outputs": []
    },
    {
      "metadata": {
        "id": "QrRNanqpuXK3",
        "colab_type": "code",
        "colab": {}
      },
      "cell_type": "code",
      "source": [
        "## 超參數設定\n",
        "LEARNING_RATE = 1e-3\n",
        "EPOCHS = 25\n",
        "BATCH_SIZE = 1024\n",
        "MOMENTUM = 0.95"
      ],
      "execution_count": 0,
      "outputs": []
    },
    {
      "metadata": {
        "id": "tlWy20b3uY_6",
        "colab_type": "code",
        "colab": {}
      },
      "cell_type": "code",
      "source": [
        "# 載入 Callbacks\n",
        "from keras.callbacks import Callback\n",
        "\n",
        "# Record_fp_tp\n",
        "class Record_fp_tp(Callback):\n",
        "    \"\"\"Define a callback function to collect tp/tn, named Record_fp_tp.\n",
        "    \"\"\"\n",
        "    def on_train_begin(self, epoch, logs = {}):\n",
        "        logs = logs or {}\n",
        "        record_items = [\"val_auc\", \"val_f1sc\", \"val_fp\", \"val_fn\", \"val_tp\", \"val_tn\"]\n",
        "        for i in record_items:\n",
        "            if i not in self.params['metrics']:\n",
        "                self.params['metrics'].append(i)\n",
        "                \n",
        "    def on_epoch_end(self, epoch, logs = {}, thres=0.5):\n",
        "        logs = logs or {}\n",
        "        y_true = self.validation_data[1].argmax(axis = 1)\n",
        "        y_pred = self.model.predict(self.validation_data[0])\n",
        "        y_pred = (y_pred[:, 1] >= thres) * 1\n",
        "        \n",
        "        from sklearn.metrics import recall_score\n",
        "        # True positive rate, Recall, Sensitivity \n",
        "        logs['val_tp'] = recall_score(y_true, y_pred, average='weighted')\n",
        "        \n",
        "rec_tptn = Record_fp_tp()"
      ],
      "execution_count": 0,
      "outputs": []
    },
    {
      "metadata": {
        "id": "UdS8C31ntoXM",
        "colab_type": "code",
        "outputId": "3b45be1d-a5d3-4818-eae5-901edeca642a",
        "colab": {
          "base_uri": "https://localhost:8080/",
          "height": 1533
        }
      },
      "cell_type": "code",
      "source": [
        "model = build_mlp(input_shape=x_train.shape[1:])\n",
        "model.summary()\n",
        "optimizer = keras.optimizers.SGD(lr=LEARNING_RATE, nesterov=True, momentum=MOMENTUM)\n",
        "model.compile(loss=\"categorical_crossentropy\", metrics=[\"accuracy\"], optimizer=optimizer)\n",
        "\n",
        "\"\"\"\n",
        "To do:\n",
        "Fit the model with rec_tptn callback_fn\n",
        "\"\"\"\n",
        "model.fit(x_train, y_train, \n",
        "          epochs=EPOCHS, \n",
        "          batch_size=BATCH_SIZE, \n",
        "          validation_data=(x_test, y_test), \n",
        "          shuffle=True,\n",
        "          callbacks=[rec_tptn])\n",
        "\n",
        "# Collect results\n",
        "train_loss = model.history.history[\"loss\"]\n",
        "valid_loss = model.history.history[\"val_loss\"]\n",
        "train_acc = model.history.history[\"acc\"]\n",
        "valid_acc = model.history.history[\"val_acc\"]\n",
        "\n",
        "\"\"\"\n",
        "To do:\n",
        "Collect tp/tn from model history\n",
        "\"\"\"\n",
        "valid_tp = model.history.history[\"val_tp\"]\n",
        "valid_tn = [acc * 2 - tp for (acc, tp) in zip(valid_acc, valid_tp)]"
      ],
      "execution_count": 0,
      "outputs": [
        {
          "output_type": "stream",
          "text": [
            "_________________________________________________________________\n",
            "Layer (type)                 Output Shape              Param #   \n",
            "=================================================================\n",
            "dense_77 (Dense)             (None, 256)               786688    \n",
            "_________________________________________________________________\n",
            "batch_normalization_77 (Batc (None, 256)               1024      \n",
            "_________________________________________________________________\n",
            "activation_77 (Activation)   (None, 256)               0         \n",
            "_________________________________________________________________\n",
            "dropout_58 (Dropout)         (None, 256)               0         \n",
            "_________________________________________________________________\n",
            "dense_78 (Dense)             (None, 256)               65792     \n",
            "_________________________________________________________________\n",
            "batch_normalization_78 (Batc (None, 256)               1024      \n",
            "_________________________________________________________________\n",
            "activation_78 (Activation)   (None, 256)               0         \n",
            "_________________________________________________________________\n",
            "dropout_59 (Dropout)         (None, 256)               0         \n",
            "_________________________________________________________________\n",
            "dense_79 (Dense)             (None, 256)               65792     \n",
            "_________________________________________________________________\n",
            "batch_normalization_79 (Batc (None, 256)               1024      \n",
            "_________________________________________________________________\n",
            "activation_79 (Activation)   (None, 256)               0         \n",
            "_________________________________________________________________\n",
            "dropout_60 (Dropout)         (None, 256)               0         \n",
            "_________________________________________________________________\n",
            "dense_80 (Dense)             (None, 10)                2570      \n",
            "_________________________________________________________________\n",
            "batch_normalization_80 (Batc (None, 10)                40        \n",
            "_________________________________________________________________\n",
            "activation_80 (Activation)   (None, 10)                0         \n",
            "=================================================================\n",
            "Total params: 923,954\n",
            "Trainable params: 922,398\n",
            "Non-trainable params: 1,556\n",
            "_________________________________________________________________\n",
            "Train on 50000 samples, validate on 10000 samples\n",
            "Epoch 1/25\n",
            "50000/50000 [==============================] - 7s 140us/step - loss: 2.6097 - acc: 0.1177 - val_loss: 2.2958 - val_acc: 0.1487\n",
            "Epoch 2/25\n",
            "50000/50000 [==============================] - 2s 36us/step - loss: 2.3539 - acc: 0.1669 - val_loss: 2.1162 - val_acc: 0.2210\n",
            "Epoch 3/25\n",
            "50000/50000 [==============================] - 2s 36us/step - loss: 2.2223 - acc: 0.1975 - val_loss: 2.0181 - val_acc: 0.2668\n",
            "Epoch 4/25\n",
            "50000/50000 [==============================] - 2s 36us/step - loss: 2.1489 - acc: 0.2166 - val_loss: 1.9892 - val_acc: 0.2905\n",
            "Epoch 5/25\n",
            "50000/50000 [==============================] - 2s 37us/step - loss: 2.0998 - acc: 0.2296 - val_loss: 1.9561 - val_acc: 0.3123\n",
            "Epoch 6/25\n",
            "50000/50000 [==============================] - 2s 36us/step - loss: 2.0679 - acc: 0.2443 - val_loss: 1.9335 - val_acc: 0.3283\n",
            "Epoch 7/25\n",
            "50000/50000 [==============================] - 2s 36us/step - loss: 2.0463 - acc: 0.2512 - val_loss: 1.9253 - val_acc: 0.3279\n",
            "Epoch 8/25\n",
            "50000/50000 [==============================] - 2s 36us/step - loss: 2.0276 - acc: 0.2574 - val_loss: 1.9093 - val_acc: 0.3369\n",
            "Epoch 9/25\n",
            "50000/50000 [==============================] - 2s 36us/step - loss: 2.0093 - acc: 0.2654 - val_loss: 1.9007 - val_acc: 0.3391\n",
            "Epoch 10/25\n",
            "50000/50000 [==============================] - 2s 36us/step - loss: 1.9938 - acc: 0.2725 - val_loss: 1.8988 - val_acc: 0.3438\n",
            "Epoch 11/25\n",
            "50000/50000 [==============================] - 2s 36us/step - loss: 1.9833 - acc: 0.2764 - val_loss: 1.8746 - val_acc: 0.3517\n",
            "Epoch 12/25\n",
            "50000/50000 [==============================] - 2s 36us/step - loss: 1.9693 - acc: 0.2837 - val_loss: 1.8697 - val_acc: 0.3549\n",
            "Epoch 13/25\n",
            "50000/50000 [==============================] - 2s 36us/step - loss: 1.9615 - acc: 0.2902 - val_loss: 1.8597 - val_acc: 0.3563\n",
            "Epoch 14/25\n",
            "50000/50000 [==============================] - 2s 36us/step - loss: 1.9510 - acc: 0.2914 - val_loss: 1.8519 - val_acc: 0.3566\n",
            "Epoch 15/25\n",
            "50000/50000 [==============================] - 2s 36us/step - loss: 1.9380 - acc: 0.2987 - val_loss: 1.8423 - val_acc: 0.3600\n",
            "Epoch 16/25\n",
            "50000/50000 [==============================] - 2s 36us/step - loss: 1.9336 - acc: 0.3005 - val_loss: 1.8385 - val_acc: 0.3613\n",
            "Epoch 17/25\n",
            "50000/50000 [==============================] - 2s 36us/step - loss: 1.9215 - acc: 0.3042 - val_loss: 1.8263 - val_acc: 0.3650\n",
            "Epoch 18/25\n",
            "50000/50000 [==============================] - 2s 36us/step - loss: 1.9126 - acc: 0.3055 - val_loss: 1.8212 - val_acc: 0.3668\n",
            "Epoch 19/25\n",
            "50000/50000 [==============================] - 2s 36us/step - loss: 1.9044 - acc: 0.3124 - val_loss: 1.8127 - val_acc: 0.3712\n",
            "Epoch 20/25\n",
            "50000/50000 [==============================] - 2s 36us/step - loss: 1.8953 - acc: 0.3138 - val_loss: 1.7997 - val_acc: 0.3780\n",
            "Epoch 21/25\n",
            "50000/50000 [==============================] - 2s 36us/step - loss: 1.8889 - acc: 0.3157 - val_loss: 1.8025 - val_acc: 0.3765\n",
            "Epoch 22/25\n",
            "50000/50000 [==============================] - 2s 36us/step - loss: 1.8826 - acc: 0.3226 - val_loss: 1.7857 - val_acc: 0.3833\n",
            "Epoch 23/25\n",
            "50000/50000 [==============================] - 2s 36us/step - loss: 1.8781 - acc: 0.3255 - val_loss: 1.7808 - val_acc: 0.3833\n",
            "Epoch 24/25\n",
            "50000/50000 [==============================] - 2s 36us/step - loss: 1.8663 - acc: 0.3264 - val_loss: 1.7775 - val_acc: 0.3843\n",
            "Epoch 25/25\n",
            "50000/50000 [==============================] - 2s 36us/step - loss: 1.8634 - acc: 0.3275 - val_loss: 1.7658 - val_acc: 0.3872\n"
          ],
          "name": "stdout"
        }
      ]
    },
    {
      "metadata": {
        "id": "pGfSRvRSwMKO",
        "colab_type": "code",
        "outputId": "b9d687c2-46ed-451f-dbb1-57578a1d11c3",
        "colab": {
          "base_uri": "https://localhost:8080/",
          "height": 806
        }
      },
      "cell_type": "code",
      "source": [
        "import matplotlib.pyplot as plt\n",
        "%matplotlib inline\n",
        "\n",
        "plt.plot(range(len(train_loss)), train_loss, label=\"train loss\")\n",
        "plt.plot(range(len(valid_loss)), valid_loss, label=\"valid loss\")\n",
        "plt.legend()\n",
        "plt.title(\"Loss\")\n",
        "plt.show()\n",
        "\n",
        "plt.plot(range(len(train_acc)), train_acc, label=\"train accuracy\")\n",
        "plt.plot(range(len(valid_acc)), valid_acc, label=\"valid accuracy\")\n",
        "plt.legend()\n",
        "plt.title(\"Accuracy\")\n",
        "plt.show()\n",
        "\n",
        "plt.plot(range(len(valid_tp)), valid_tp, label=\"valid tp\", color=\"navy\")\n",
        "plt.plot(range(len(valid_tn)), valid_tn, label=\"valid tn\", color=\"red\")\n",
        "plt.legend()\n",
        "plt.title(\"True positives and True Negatives\")\n",
        "plt.show()"
      ],
      "execution_count": 0,
      "outputs": [
        {
          "output_type": "display_data",
          "data": {
            "image/png": "[encoded data removed]",
            "text/plain": [
              "<Figure size 432x288 with 1 Axes>"
            ]
          },
          "metadata": {
            "tags": []
          }
        },
        {
          "output_type": "display_data",
          "data": {
            "image/png": "[encoded data removed]",
            "text/plain": [
              "<Figure size 432x288 with 1 Axes>"
            ]
          },
          "metadata": {
            "tags": []
          }
        },
        {
          "output_type": "display_data",
          "data": {
            "image/png": "[encoded data removed]",
            "text/plain": [
              "<Figure size 432x288 with 1 Axes>"
            ]
          },
          "metadata": {
            "tags": []
          }
        }
      ]
    },
    {
      "metadata": {
        "id": "oN1M3THi3w_X",
        "colab_type": "code",
        "colab": {}
      },
      "cell_type": "code",
      "source": [
        ""
      ],
      "execution_count": 0,
      "outputs": []
    }
  ]
}