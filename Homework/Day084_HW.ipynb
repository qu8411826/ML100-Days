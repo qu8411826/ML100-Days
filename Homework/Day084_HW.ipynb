{
  "nbformat": 4,
  "nbformat_minor": 0,
  "metadata": {
    "colab": {
      "name": "Day084_HW.ipynb",
      "version": "0.3.2",
      "provenance": [],
      "include_colab_link": true
    },
    "language_info": {
      "codemirror_mode": {
        "name": "ipython",
        "version": 3
      },
      "file_extension": ".py",
      "mimetype": "text/x-python",
      "name": "python",
      "nbconvert_exporter": "python",
      "pygments_lexer": "ipython3",
      "version": "3.6.1"
    },
    "kernelspec": {
      "name": "python3",
      "display_name": "Python 3"
    },
    "accelerator": "TPU"
  },
  "cells": [
    {
      "cell_type": "markdown",
      "metadata": {
        "id": "view-in-github",
        "colab_type": "text"
      },
      "source": [
        "<a href=\"https://colab.research.google.com/github/qu8411826/ML100-Days/blob/master/Homework/Day084_HW.ipynb\" target=\"_parent\"><img src=\"https://colab.research.google.com/assets/colab-badge.svg\" alt=\"Open In Colab\"/></a>"
      ]
    },
    {
      "metadata": {
        "id": "DwWHFfWHg0Js",
        "colab_type": "text"
      },
      "cell_type": "markdown",
      "source": [
        "## Work\n",
        "請結合前面的知識與程式碼，比較不同的 regularization 的組合對訓練的結果與影響：如 dropout, regularizers, batch-normalization 等"
      ]
    },
    {
      "metadata": {
        "id": "cRY5qXNvg0Jt",
        "colab_type": "code",
        "colab": {
          "base_uri": "https://localhost:8080/",
          "height": 34
        },
        "outputId": "d8534cef-437f-436c-82d7-3f394c2d3895"
      },
      "cell_type": "code",
      "source": [
        "import os\n",
        "import keras\n",
        "import itertools\n",
        "# Disable GPU\n",
        "os.environ[\"CUDA_VISIBLE_DEVICES\"] = \"\""
      ],
      "execution_count": 1,
      "outputs": [
        {
          "output_type": "stream",
          "text": [
            "Using TensorFlow backend.\n"
          ],
          "name": "stderr"
        }
      ]
    },
    {
      "metadata": {
        "id": "G_JC1-vvg0Jx",
        "colab_type": "code",
        "colab": {
          "base_uri": "https://localhost:8080/",
          "height": 52
        },
        "outputId": "d47a0e8e-0672-474e-d13d-5fa067e9a7f3"
      },
      "cell_type": "code",
      "source": [
        "train, test = keras.datasets.cifar10.load_data()"
      ],
      "execution_count": 2,
      "outputs": [
        {
          "output_type": "stream",
          "text": [
            "Downloading data from https://www.cs.toronto.edu/~kriz/cifar-10-python.tar.gz\n",
            "170500096/170498071 [==============================] - 4s 0us/step\n"
          ],
          "name": "stdout"
        }
      ]
    },
    {
      "metadata": {
        "id": "VhweS5HTg0J0",
        "colab_type": "code",
        "colab": {}
      },
      "cell_type": "code",
      "source": [
        "## 資料前處理\n",
        "def preproc_x(x, flatten=True):\n",
        "    x = x / 255.\n",
        "    if flatten:\n",
        "        x = x.reshape((len(x), -1))\n",
        "    return x\n",
        "\n",
        "def preproc_y(y, num_classes=10):\n",
        "    if y.shape[-1] == 1:\n",
        "        y = keras.utils.to_categorical(y, num_classes)\n",
        "    return y    "
      ],
      "execution_count": 0,
      "outputs": []
    },
    {
      "metadata": {
        "id": "edEKetFDg0J1",
        "colab_type": "code",
        "colab": {}
      },
      "cell_type": "code",
      "source": [
        "x_train, y_train = train\n",
        "x_test, y_test = test\n",
        "\n",
        "# Preproc the inputs\n",
        "x_train = preproc_x(x_train)\n",
        "x_test = preproc_x(x_test)\n",
        "\n",
        "# Preprc the outputs\n",
        "y_train = preproc_y(y_train)\n",
        "y_test = preproc_y(y_test)"
      ],
      "execution_count": 0,
      "outputs": []
    },
    {
      "metadata": {
        "id": "AR_Fc0Aig0J3",
        "colab_type": "code",
        "colab": {}
      },
      "cell_type": "code",
      "source": [
        "# Hint 1 : 在 Dense 層中增加 Regularizers\n",
        "# Hint 2 : 增加 Dropout 層並設定 dropout ratio \n",
        "# Hint 3 : 增加 Batch-normalization 層\n",
        "from keras.layers import BatchNormalization\n",
        "from keras.regularizers import l1, l2, l1_l2\n",
        "from keras.layers import Dropout\n",
        "\n",
        "def build_mlp(input_shape, output_units=10, num_neurons=[512, 256, 128]):\n",
        "    input_layer = keras.layers.Input(input_shape)\n",
        "    \n",
        "    for i, n_units in enumerate(num_neurons):\n",
        "        if i == 0:\n",
        "            x = keras.layers.Dense(units=n_units, \n",
        "                                   activation=\"relu\", \n",
        "                                   name=\"hidden_layer\"+str(i+1),\n",
        "                                   kernel_regularizer=l1(l1_ratio))(input_layer)\n",
        "            x = Dropout(drop_ratio)(x)\n",
        "            x = BatchNormalization()(x)\n",
        "        else:\n",
        "            x = keras.layers.Dense(units=n_units, \n",
        "                                   activation=\"relu\", \n",
        "                                   name=\"hidden_layer\"+str(i+1),\n",
        "                                   kernel_regularizer=l1(l1_ratio))(x)\n",
        "            x = BatchNormalization()(x)\n",
        "    \n",
        "    out = keras.layers.Dense(units=output_units, activation=\"softmax\", name=\"output\")(x)\n",
        "    \n",
        "    model = keras.models.Model(inputs=[input_layer], outputs=[out])\n",
        "    return model"
      ],
      "execution_count": 0,
      "outputs": []
    },
    {
      "metadata": {
        "id": "i2tGNledg0J5",
        "colab_type": "code",
        "colab": {
          "base_uri": "https://localhost:8080/",
          "height": 582
        },
        "outputId": "2815aa7b-b249-4f1a-9716-93639a9513e2"
      },
      "cell_type": "code",
      "source": [
        "## 超參數設定\n",
        "\"\"\"\n",
        "Set your hyper-parameters\n",
        "\"\"\"\n",
        "LEARNING_RATE = 1e-3\n",
        "EPOCHS = 50\n",
        "l1_ratio = 0.01\n",
        "Batch_Size = 32\n",
        "MOMENTUM = 0.95\n",
        "drop_ratio = 0.25\n",
        "\n",
        "model = build_mlp(input_shape=x_train.shape[1:])\n",
        "model.summary()"
      ],
      "execution_count": 6,
      "outputs": [
        {
          "output_type": "stream",
          "text": [
            "WARNING:tensorflow:From /usr/local/lib/python3.6/dist-packages/tensorflow/python/framework/op_def_library.py:263: colocate_with (from tensorflow.python.framework.ops) is deprecated and will be removed in a future version.\n",
            "Instructions for updating:\n",
            "Colocations handled automatically by placer.\n",
            "WARNING:tensorflow:From /usr/local/lib/python3.6/dist-packages/keras/backend/tensorflow_backend.py:3445: calling dropout (from tensorflow.python.ops.nn_ops) with keep_prob is deprecated and will be removed in a future version.\n",
            "Instructions for updating:\n",
            "Please use `rate` instead of `keep_prob`. Rate should be set to `rate = 1 - keep_prob`.\n",
            "_________________________________________________________________\n",
            "Layer (type)                 Output Shape              Param #   \n",
            "=================================================================\n",
            "input_1 (InputLayer)         (None, 3072)              0         \n",
            "_________________________________________________________________\n",
            "hidden_layer1 (Dense)        (None, 512)               1573376   \n",
            "_________________________________________________________________\n",
            "dropout_1 (Dropout)          (None, 512)               0         \n",
            "_________________________________________________________________\n",
            "batch_normalization_1 (Batch (None, 512)               2048      \n",
            "_________________________________________________________________\n",
            "hidden_layer2 (Dense)        (None, 256)               131328    \n",
            "_________________________________________________________________\n",
            "batch_normalization_2 (Batch (None, 256)               1024      \n",
            "_________________________________________________________________\n",
            "hidden_layer3 (Dense)        (None, 128)               32896     \n",
            "_________________________________________________________________\n",
            "batch_normalization_3 (Batch (None, 128)               512       \n",
            "_________________________________________________________________\n",
            "output (Dense)               (None, 10)                1290      \n",
            "=================================================================\n",
            "Total params: 1,742,474\n",
            "Trainable params: 1,740,682\n",
            "Non-trainable params: 1,792\n",
            "_________________________________________________________________\n"
          ],
          "name": "stdout"
        }
      ]
    },
    {
      "metadata": {
        "scrolled": true,
        "id": "bN7CuKfpg0J9",
        "colab_type": "code",
        "colab": {
          "base_uri": "https://localhost:8080/",
          "height": 1867
        },
        "outputId": "c77ae401-1a7e-45fe-c6a2-02d4e50a5f24"
      },
      "cell_type": "code",
      "source": [
        "results = {}\n",
        "\"\"\"\n",
        "Write your training loop and record results\n",
        "\"\"\"\n",
        "optimizer = keras.optimizers.SGD(lr=LEARNING_RATE, nesterov=True, momentum=MOMENTUM)\n",
        "model.compile(loss=\"categorical_crossentropy\", metrics=[\"accuracy\"], optimizer=optimizer)\n",
        "model.fit(x_train, y_train,\n",
        "          epochs=EPOCHS,\n",
        "          batch_size=Batch_Size,\n",
        "          validation_data=(x_test, y_test),\n",
        "          shuffle=True)\n",
        "\n",
        "# Collect results\n",
        "train_loss = model.history.history[\"loss\"]\n",
        "valid_loss = model.history.history[\"val_loss\"]\n",
        "train_acc = model.history.history[\"acc\"]\n",
        "valid_acc = model.history.history[\"val_acc\"]"
      ],
      "execution_count": 7,
      "outputs": [
        {
          "output_type": "stream",
          "text": [
            "WARNING:tensorflow:From /usr/local/lib/python3.6/dist-packages/tensorflow/python/ops/math_ops.py:3066: to_int32 (from tensorflow.python.ops.math_ops) is deprecated and will be removed in a future version.\n",
            "Instructions for updating:\n",
            "Use tf.cast instead.\n",
            "Train on 50000 samples, validate on 10000 samples\n",
            "Epoch 1/50\n",
            "50000/50000 [==============================] - 54s 1ms/step - loss: 33.0548 - acc: 0.1961 - val_loss: 4.0255 - val_acc: 0.1512\n",
            "Epoch 2/50\n",
            "50000/50000 [==============================] - 53s 1ms/step - loss: 3.1677 - acc: 0.1866 - val_loss: 2.8715 - val_acc: 0.1376\n",
            "Epoch 3/50\n",
            "50000/50000 [==============================] - 53s 1ms/step - loss: 2.8781 - acc: 0.1917 - val_loss: 3.3839 - val_acc: 0.1474\n",
            "Epoch 4/50\n",
            "50000/50000 [==============================] - 52s 1ms/step - loss: 2.6825 - acc: 0.1883 - val_loss: 2.9006 - val_acc: 0.1241\n",
            "Epoch 5/50\n",
            "50000/50000 [==============================] - 52s 1ms/step - loss: 2.7169 - acc: 0.1940 - val_loss: 2.7251 - val_acc: 0.1556\n",
            "Epoch 6/50\n",
            "50000/50000 [==============================] - 52s 1ms/step - loss: 2.6844 - acc: 0.1736 - val_loss: 8.5185 - val_acc: 0.1000\n",
            "Epoch 7/50\n",
            "50000/50000 [==============================] - 51s 1ms/step - loss: 3.0963 - acc: 0.1370 - val_loss: 5.8227 - val_acc: 0.1004\n",
            "Epoch 8/50\n",
            "50000/50000 [==============================] - 51s 1ms/step - loss: 2.7828 - acc: 0.1300 - val_loss: 2.6690 - val_acc: 0.1000\n",
            "Epoch 9/50\n",
            "50000/50000 [==============================] - 51s 1ms/step - loss: 2.5260 - acc: 0.1155 - val_loss: 3.0440 - val_acc: 0.1000\n",
            "Epoch 10/50\n",
            "50000/50000 [==============================] - 51s 1ms/step - loss: 2.5555 - acc: 0.1219 - val_loss: 2.4300 - val_acc: 0.1553\n",
            "Epoch 11/50\n",
            "50000/50000 [==============================] - 51s 1ms/step - loss: 2.5847 - acc: 0.1012 - val_loss: 2.4630 - val_acc: 0.1000\n",
            "Epoch 12/50\n",
            "50000/50000 [==============================] - 52s 1ms/step - loss: 2.4631 - acc: 0.0978 - val_loss: 2.4629 - val_acc: 0.1000\n",
            "Epoch 13/50\n",
            "50000/50000 [==============================] - 52s 1ms/step - loss: 2.4631 - acc: 0.0979 - val_loss: 2.4629 - val_acc: 0.1000\n",
            "Epoch 14/50\n",
            "50000/50000 [==============================] - 51s 1ms/step - loss: 2.4631 - acc: 0.0986 - val_loss: 2.4630 - val_acc: 0.1000\n",
            "Epoch 15/50\n",
            "50000/50000 [==============================] - 52s 1ms/step - loss: 2.4632 - acc: 0.0989 - val_loss: 2.4629 - val_acc: 0.1000\n",
            "Epoch 16/50\n",
            "50000/50000 [==============================] - 53s 1ms/step - loss: 2.4631 - acc: 0.0990 - val_loss: 2.4631 - val_acc: 0.1000\n",
            "Epoch 17/50\n",
            "50000/50000 [==============================] - 55s 1ms/step - loss: 2.4631 - acc: 0.0995 - val_loss: 2.4630 - val_acc: 0.1000\n",
            "Epoch 18/50\n",
            "50000/50000 [==============================] - 52s 1ms/step - loss: 2.4631 - acc: 0.0989 - val_loss: 2.4632 - val_acc: 0.1000\n",
            "Epoch 19/50\n",
            "50000/50000 [==============================] - 50s 1ms/step - loss: 2.4631 - acc: 0.1008 - val_loss: 2.4631 - val_acc: 0.1000\n",
            "Epoch 20/50\n",
            "50000/50000 [==============================] - 55s 1ms/step - loss: 2.4632 - acc: 0.0979 - val_loss: 2.4630 - val_acc: 0.1000\n",
            "Epoch 21/50\n",
            "50000/50000 [==============================] - 53s 1ms/step - loss: 2.4631 - acc: 0.0987 - val_loss: 2.4630 - val_acc: 0.1000\n",
            "Epoch 22/50\n",
            "50000/50000 [==============================] - 57s 1ms/step - loss: 2.4631 - acc: 0.0991 - val_loss: 2.4631 - val_acc: 0.1000\n",
            "Epoch 23/50\n",
            "50000/50000 [==============================] - 52s 1ms/step - loss: 2.4631 - acc: 0.0987 - val_loss: 2.4630 - val_acc: 0.1000\n",
            "Epoch 24/50\n",
            "50000/50000 [==============================] - 52s 1ms/step - loss: 2.4631 - acc: 0.0983 - val_loss: 2.4631 - val_acc: 0.1000\n",
            "Epoch 25/50\n",
            "50000/50000 [==============================] - 54s 1ms/step - loss: 2.4631 - acc: 0.0984 - val_loss: 2.4629 - val_acc: 0.1000\n",
            "Epoch 26/50\n",
            "50000/50000 [==============================] - 54s 1ms/step - loss: 2.4631 - acc: 0.0968 - val_loss: 2.4629 - val_acc: 0.1000\n",
            "Epoch 27/50\n",
            "50000/50000 [==============================] - 53s 1ms/step - loss: 2.4632 - acc: 0.0979 - val_loss: 2.4629 - val_acc: 0.1000\n",
            "Epoch 28/50\n",
            "50000/50000 [==============================] - 53s 1ms/step - loss: 2.4631 - acc: 0.0992 - val_loss: 2.4629 - val_acc: 0.1000\n",
            "Epoch 29/50\n",
            "50000/50000 [==============================] - 53s 1ms/step - loss: 2.4631 - acc: 0.0972 - val_loss: 2.4629 - val_acc: 0.1000\n",
            "Epoch 30/50\n",
            "50000/50000 [==============================] - 53s 1ms/step - loss: 2.4631 - acc: 0.0982 - val_loss: 2.4630 - val_acc: 0.1000\n",
            "Epoch 31/50\n",
            "50000/50000 [==============================] - 54s 1ms/step - loss: 2.4631 - acc: 0.0976 - val_loss: 2.4629 - val_acc: 0.1000\n",
            "Epoch 32/50\n",
            "50000/50000 [==============================] - 55s 1ms/step - loss: 2.4630 - acc: 0.1011 - val_loss: 2.4630 - val_acc: 0.1000\n",
            "Epoch 33/50\n",
            "50000/50000 [==============================] - 54s 1ms/step - loss: 2.4632 - acc: 0.0977 - val_loss: 2.4628 - val_acc: 0.1000\n",
            "Epoch 34/50\n",
            "50000/50000 [==============================] - 54s 1ms/step - loss: 2.4631 - acc: 0.0982 - val_loss: 2.4630 - val_acc: 0.1000\n",
            "Epoch 35/50\n",
            "50000/50000 [==============================] - 54s 1ms/step - loss: 2.4632 - acc: 0.0969 - val_loss: 2.4629 - val_acc: 0.1000\n",
            "Epoch 36/50\n",
            "50000/50000 [==============================] - 55s 1ms/step - loss: 2.4631 - acc: 0.0980 - val_loss: 2.4629 - val_acc: 0.1000\n",
            "Epoch 37/50\n",
            "50000/50000 [==============================] - 55s 1ms/step - loss: 2.4631 - acc: 0.0982 - val_loss: 2.4630 - val_acc: 0.1000\n",
            "Epoch 38/50\n",
            "50000/50000 [==============================] - 55s 1ms/step - loss: 2.4631 - acc: 0.0993 - val_loss: 2.4630 - val_acc: 0.1000\n",
            "Epoch 39/50\n",
            "50000/50000 [==============================] - 55s 1ms/step - loss: 2.4631 - acc: 0.0971 - val_loss: 2.4627 - val_acc: 0.1000\n",
            "Epoch 40/50\n",
            "50000/50000 [==============================] - 55s 1ms/step - loss: 2.4631 - acc: 0.0990 - val_loss: 2.4631 - val_acc: 0.1000\n",
            "Epoch 41/50\n",
            "50000/50000 [==============================] - 56s 1ms/step - loss: 2.4632 - acc: 0.0974 - val_loss: 2.4629 - val_acc: 0.1000\n",
            "Epoch 42/50\n",
            "50000/50000 [==============================] - 56s 1ms/step - loss: 2.4631 - acc: 0.0980 - val_loss: 2.4629 - val_acc: 0.1000\n",
            "Epoch 43/50\n",
            "50000/50000 [==============================] - 56s 1ms/step - loss: 2.4631 - acc: 0.0986 - val_loss: 2.4629 - val_acc: 0.1000\n",
            "Epoch 44/50\n",
            "50000/50000 [==============================] - 55s 1ms/step - loss: 2.4631 - acc: 0.0986 - val_loss: 2.4630 - val_acc: 0.1000\n",
            "Epoch 45/50\n",
            "50000/50000 [==============================] - 55s 1ms/step - loss: 2.4631 - acc: 0.0986 - val_loss: 2.4628 - val_acc: 0.1000\n",
            "Epoch 46/50\n",
            "50000/50000 [==============================] - 55s 1ms/step - loss: 2.4631 - acc: 0.0979 - val_loss: 2.4629 - val_acc: 0.1000\n",
            "Epoch 47/50\n",
            "50000/50000 [==============================] - 54s 1ms/step - loss: 2.4630 - acc: 0.0988 - val_loss: 2.4631 - val_acc: 0.1000\n",
            "Epoch 48/50\n",
            "50000/50000 [==============================] - 54s 1ms/step - loss: 2.4631 - acc: 0.0992 - val_loss: 2.4631 - val_acc: 0.1000\n",
            "Epoch 49/50\n",
            "50000/50000 [==============================] - 54s 1ms/step - loss: 2.4631 - acc: 0.0998 - val_loss: 2.4630 - val_acc: 0.1000\n",
            "Epoch 50/50\n",
            "50000/50000 [==============================] - 55s 1ms/step - loss: 2.4631 - acc: 0.0976 - val_loss: 2.4630 - val_acc: 0.1000\n"
          ],
          "name": "stdout"
        }
      ]
    },
    {
      "metadata": {
        "id": "ltZ08tPBg0J_",
        "colab_type": "code",
        "colab": {
          "base_uri": "https://localhost:8080/",
          "height": 545
        },
        "outputId": "6a8d83e1-43ec-41c4-8f90-f6c2deefd5ca"
      },
      "cell_type": "code",
      "source": [
        "import matplotlib.pyplot as plt\n",
        "%matplotlib inline\n",
        "\n",
        "plt.plot(range(len(train_loss)), train_loss, label=\"train loss\")\n",
        "plt.plot(range(len(valid_loss)), valid_loss, label=\"valid loss\")\n",
        "plt.legend()\n",
        "plt.title(\"Loss\")\n",
        "plt.show()\n",
        "\n",
        "plt.plot(range(len(train_acc)), train_acc, label=\"train accuracy\")\n",
        "plt.plot(range(len(valid_acc)), valid_acc, label=\"valid accuracy\")\n",
        "plt.legend()\n",
        "plt.title(\"Accuracy\")\n",
        "plt.show()"
      ],
      "execution_count": 12,
      "outputs": [
        {
          "output_type": "display_data",
          "data": {
            "image/png": "[encoded data removed]",
            "text/plain": [
              "<Figure size 432x288 with 1 Axes>"
            ]
          },
          "metadata": {
            "tags": []
          }
        },
        {
          "output_type": "display_data",
          "data": {
            "image/png": "[encoded data removed]",
            "text/plain": [
              "<Figure size 432x288 with 1 Axes>"
            ]
          },
          "metadata": {
            "tags": []
          }
        }
      ]
    },
    {
      "metadata": {
        "id": "56dtVlsGpgpd",
        "colab_type": "code",
        "colab": {
          "base_uri": "https://localhost:8080/",
          "height": 457
        },
        "outputId": "d63b6e75-d51c-429e-9db6-673600bb524c"
      },
      "cell_type": "code",
      "source": [
        "LEARNING_RATE = 1e-3\n",
        "EPOCHS = 50\n",
        "l1_ratio = 0.0001\n",
        "Batch_Size = 256\n",
        "MOMENTUM = 0.95\n",
        "drop_ratio = 0.25\n",
        "\n",
        "model = build_mlp(input_shape=x_train.shape[1:])\n",
        "model.summary()"
      ],
      "execution_count": 13,
      "outputs": [
        {
          "output_type": "stream",
          "text": [
            "_________________________________________________________________\n",
            "Layer (type)                 Output Shape              Param #   \n",
            "=================================================================\n",
            "input_2 (InputLayer)         (None, 3072)              0         \n",
            "_________________________________________________________________\n",
            "hidden_layer1 (Dense)        (None, 512)               1573376   \n",
            "_________________________________________________________________\n",
            "dropout_2 (Dropout)          (None, 512)               0         \n",
            "_________________________________________________________________\n",
            "batch_normalization_4 (Batch (None, 512)               2048      \n",
            "_________________________________________________________________\n",
            "hidden_layer2 (Dense)        (None, 256)               131328    \n",
            "_________________________________________________________________\n",
            "batch_normalization_5 (Batch (None, 256)               1024      \n",
            "_________________________________________________________________\n",
            "hidden_layer3 (Dense)        (None, 128)               32896     \n",
            "_________________________________________________________________\n",
            "batch_normalization_6 (Batch (None, 128)               512       \n",
            "_________________________________________________________________\n",
            "output (Dense)               (None, 10)                1290      \n",
            "=================================================================\n",
            "Total params: 1,742,474\n",
            "Trainable params: 1,740,682\n",
            "Non-trainable params: 1,792\n",
            "_________________________________________________________________\n"
          ],
          "name": "stdout"
        }
      ]
    },
    {
      "metadata": {
        "id": "QVeI14a_tBCD",
        "colab_type": "code",
        "colab": {
          "base_uri": "https://localhost:8080/",
          "height": 1814
        },
        "outputId": "5e07599d-561a-489d-85c0-4bbee8776d73"
      },
      "cell_type": "code",
      "source": [
        "optimizer = keras.optimizers.SGD(lr=LEARNING_RATE, nesterov=True, momentum=MOMENTUM)\n",
        "model.compile(loss=\"categorical_crossentropy\", metrics=[\"accuracy\"], optimizer=optimizer)\n",
        "model.fit(x_train, y_train,\n",
        "          epochs=EPOCHS,\n",
        "          batch_size=Batch_Size,\n",
        "          validation_data=(x_test, y_test),\n",
        "          shuffle=True)\n",
        "\n",
        "# Collect results\n",
        "train_loss = model.history.history[\"loss\"]\n",
        "valid_loss = model.history.history[\"val_loss\"]\n",
        "train_acc = model.history.history[\"acc\"]\n",
        "valid_acc = model.history.history[\"val_acc\"]"
      ],
      "execution_count": 14,
      "outputs": [
        {
          "output_type": "stream",
          "text": [
            "Train on 50000 samples, validate on 10000 samples\n",
            "Epoch 1/50\n",
            "50000/50000 [==============================] - 32s 634us/step - loss: 6.0682 - acc: 0.2859 - val_loss: 5.7761 - val_acc: 0.3476\n",
            "Epoch 2/50\n",
            "50000/50000 [==============================] - 28s 564us/step - loss: 5.6731 - acc: 0.3739 - val_loss: 5.5646 - val_acc: 0.4006\n",
            "Epoch 3/50\n",
            "50000/50000 [==============================] - 28s 557us/step - loss: 5.5084 - acc: 0.4062 - val_loss: 5.4245 - val_acc: 0.4293\n",
            "Epoch 4/50\n",
            "50000/50000 [==============================] - 30s 590us/step - loss: 5.3825 - acc: 0.4298 - val_loss: 5.2866 - val_acc: 0.4494\n",
            "Epoch 5/50\n",
            "50000/50000 [==============================] - 29s 585us/step - loss: 5.2744 - acc: 0.4431 - val_loss: 5.2236 - val_acc: 0.4448\n",
            "Epoch 6/50\n",
            "50000/50000 [==============================] - 29s 574us/step - loss: 5.1932 - acc: 0.4513 - val_loss: 5.1634 - val_acc: 0.4527\n",
            "Epoch 7/50\n",
            "50000/50000 [==============================] - 29s 577us/step - loss: 5.0987 - acc: 0.4620 - val_loss: 5.0441 - val_acc: 0.4670\n",
            "Epoch 8/50\n",
            "50000/50000 [==============================] - 28s 563us/step - loss: 5.0129 - acc: 0.4688 - val_loss: 4.9919 - val_acc: 0.4633\n",
            "Epoch 9/50\n",
            "50000/50000 [==============================] - 30s 606us/step - loss: 4.9431 - acc: 0.4715 - val_loss: 4.8991 - val_acc: 0.4755\n",
            "Epoch 10/50\n",
            "50000/50000 [==============================] - 28s 568us/step - loss: 4.8634 - acc: 0.4790 - val_loss: 4.8325 - val_acc: 0.4762\n",
            "Epoch 11/50\n",
            "50000/50000 [==============================] - 28s 566us/step - loss: 4.7968 - acc: 0.4808 - val_loss: 4.7729 - val_acc: 0.4774\n",
            "Epoch 12/50\n",
            "50000/50000 [==============================] - 28s 568us/step - loss: 4.7247 - acc: 0.4874 - val_loss: 4.7551 - val_acc: 0.4598\n",
            "Epoch 13/50\n",
            "50000/50000 [==============================] - 36s 713us/step - loss: 4.6553 - acc: 0.4872 - val_loss: 4.6502 - val_acc: 0.4784\n",
            "Epoch 14/50\n",
            "50000/50000 [==============================] - 41s 821us/step - loss: 4.5958 - acc: 0.4898 - val_loss: 4.5827 - val_acc: 0.4767\n",
            "Epoch 15/50\n",
            "50000/50000 [==============================] - 37s 748us/step - loss: 4.5357 - acc: 0.4898 - val_loss: 4.5439 - val_acc: 0.4775\n",
            "Epoch 16/50\n",
            "50000/50000 [==============================] - 28s 559us/step - loss: 4.4647 - acc: 0.4941 - val_loss: 4.4940 - val_acc: 0.4769\n",
            "Epoch 17/50\n",
            "50000/50000 [==============================] - 27s 549us/step - loss: 4.3970 - acc: 0.5007 - val_loss: 4.4099 - val_acc: 0.4908\n",
            "Epoch 18/50\n",
            "50000/50000 [==============================] - 28s 560us/step - loss: 4.3350 - acc: 0.5007 - val_loss: 4.3505 - val_acc: 0.4840\n",
            "Epoch 19/50\n",
            "50000/50000 [==============================] - 28s 567us/step - loss: 4.2816 - acc: 0.4991 - val_loss: 4.3189 - val_acc: 0.4835\n",
            "Epoch 20/50\n",
            "50000/50000 [==============================] - 28s 560us/step - loss: 4.2186 - acc: 0.5025 - val_loss: 4.2566 - val_acc: 0.4857\n",
            "Epoch 21/50\n",
            "50000/50000 [==============================] - 28s 556us/step - loss: 4.1498 - acc: 0.5069 - val_loss: 4.1821 - val_acc: 0.4870\n",
            "Epoch 22/50\n",
            "50000/50000 [==============================] - 28s 561us/step - loss: 4.0856 - acc: 0.5111 - val_loss: 4.1591 - val_acc: 0.4781\n",
            "Epoch 23/50\n",
            "50000/50000 [==============================] - 28s 564us/step - loss: 4.0279 - acc: 0.5115 - val_loss: 4.0394 - val_acc: 0.4994\n",
            "Epoch 24/50\n",
            "50000/50000 [==============================] - 28s 568us/step - loss: 3.9762 - acc: 0.5140 - val_loss: 4.0730 - val_acc: 0.4812\n",
            "Epoch 25/50\n",
            "50000/50000 [==============================] - 29s 574us/step - loss: 3.9287 - acc: 0.5127 - val_loss: 3.9813 - val_acc: 0.4901\n",
            "Epoch 26/50\n",
            "50000/50000 [==============================] - 28s 568us/step - loss: 3.8651 - acc: 0.5163 - val_loss: 3.9374 - val_acc: 0.4842\n",
            "Epoch 27/50\n",
            "50000/50000 [==============================] - 29s 572us/step - loss: 3.8234 - acc: 0.5134 - val_loss: 3.8624 - val_acc: 0.4960\n",
            "Epoch 28/50\n",
            "50000/50000 [==============================] - 29s 572us/step - loss: 3.7582 - acc: 0.5188 - val_loss: 3.8237 - val_acc: 0.4926\n",
            "Epoch 29/50\n",
            "50000/50000 [==============================] - 28s 562us/step - loss: 3.7145 - acc: 0.5173 - val_loss: 3.7766 - val_acc: 0.4876\n",
            "Epoch 30/50\n",
            "50000/50000 [==============================] - 28s 565us/step - loss: 3.6651 - acc: 0.5181 - val_loss: 3.7234 - val_acc: 0.4896\n",
            "Epoch 31/50\n",
            "50000/50000 [==============================] - 32s 637us/step - loss: 3.6187 - acc: 0.5198 - val_loss: 3.6895 - val_acc: 0.4880\n",
            "Epoch 32/50\n",
            "50000/50000 [==============================] - 41s 813us/step - loss: 3.5692 - acc: 0.5197 - val_loss: 3.6372 - val_acc: 0.4940\n",
            "Epoch 33/50\n",
            "50000/50000 [==============================] - 41s 821us/step - loss: 3.5152 - acc: 0.5273 - val_loss: 3.5728 - val_acc: 0.4946\n",
            "Epoch 34/50\n",
            "50000/50000 [==============================] - 41s 817us/step - loss: 3.4640 - acc: 0.5239 - val_loss: 3.5925 - val_acc: 0.4814\n",
            "Epoch 35/50\n",
            "50000/50000 [==============================] - 42s 837us/step - loss: 3.4218 - acc: 0.5245 - val_loss: 3.5091 - val_acc: 0.4856\n",
            "Epoch 36/50\n",
            "50000/50000 [==============================] - 41s 819us/step - loss: 3.3843 - acc: 0.5209 - val_loss: 3.4305 - val_acc: 0.5000\n",
            "Epoch 37/50\n",
            "50000/50000 [==============================] - 41s 824us/step - loss: 3.3253 - acc: 0.5297 - val_loss: 3.4041 - val_acc: 0.4912\n",
            "Epoch 38/50\n",
            "50000/50000 [==============================] - 41s 829us/step - loss: 3.2818 - acc: 0.5307 - val_loss: 3.4071 - val_acc: 0.4794\n",
            "Epoch 39/50\n",
            "50000/50000 [==============================] - 41s 825us/step - loss: 3.2495 - acc: 0.5270 - val_loss: 3.3534 - val_acc: 0.4871\n",
            "Epoch 40/50\n",
            "50000/50000 [==============================] - 42s 834us/step - loss: 3.2065 - acc: 0.5230 - val_loss: 3.2929 - val_acc: 0.4959\n",
            "Epoch 41/50\n",
            "50000/50000 [==============================] - 41s 818us/step - loss: 3.1582 - acc: 0.5280 - val_loss: 3.2516 - val_acc: 0.4881\n",
            "Epoch 42/50\n",
            "50000/50000 [==============================] - 39s 785us/step - loss: 3.1266 - acc: 0.5249 - val_loss: 3.1907 - val_acc: 0.4977\n",
            "Epoch 43/50\n",
            "50000/50000 [==============================] - 39s 788us/step - loss: 3.0782 - acc: 0.5287 - val_loss: 3.1544 - val_acc: 0.4986\n",
            "Epoch 44/50\n",
            "50000/50000 [==============================] - 39s 785us/step - loss: 3.0303 - acc: 0.5332 - val_loss: 3.1228 - val_acc: 0.4928\n",
            "Epoch 45/50\n",
            "50000/50000 [==============================] - 38s 770us/step - loss: 2.9860 - acc: 0.5325 - val_loss: 3.0784 - val_acc: 0.4976\n",
            "Epoch 46/50\n",
            "50000/50000 [==============================] - 39s 787us/step - loss: 2.9585 - acc: 0.5306 - val_loss: 3.1751 - val_acc: 0.4609\n",
            "Epoch 47/50\n",
            "50000/50000 [==============================] - 39s 790us/step - loss: 2.9243 - acc: 0.5283 - val_loss: 2.9850 - val_acc: 0.5051\n",
            "Epoch 48/50\n",
            "50000/50000 [==============================] - 40s 799us/step - loss: 2.8763 - acc: 0.5336 - val_loss: 2.9690 - val_acc: 0.4943\n",
            "Epoch 49/50\n",
            "50000/50000 [==============================] - 40s 801us/step - loss: 2.8380 - acc: 0.5322 - val_loss: 2.9720 - val_acc: 0.4843\n",
            "Epoch 50/50\n",
            "50000/50000 [==============================] - 41s 815us/step - loss: 2.8159 - acc: 0.5289 - val_loss: 2.9245 - val_acc: 0.4902\n"
          ],
          "name": "stdout"
        }
      ]
    },
    {
      "metadata": {
        "id": "Zg_oR06XtG3i",
        "colab_type": "code",
        "colab": {
          "base_uri": "https://localhost:8080/",
          "height": 545
        },
        "outputId": "647e8790-cf17-450f-a0d4-d525bdfb9aef"
      },
      "cell_type": "code",
      "source": [
        "import matplotlib.pyplot as plt\n",
        "%matplotlib inline\n",
        "\n",
        "plt.plot(range(len(train_loss)), train_loss, label=\"train loss\")\n",
        "plt.plot(range(len(valid_loss)), valid_loss, label=\"valid loss\")\n",
        "plt.legend()\n",
        "plt.title(\"Loss\")\n",
        "plt.show()\n",
        "\n",
        "plt.plot(range(len(train_acc)), train_acc, label=\"train accuracy\")\n",
        "plt.plot(range(len(valid_acc)), valid_acc, label=\"valid accuracy\")\n",
        "plt.legend()\n",
        "plt.title(\"Accuracy\")\n",
        "plt.show()"
      ],
      "execution_count": 15,
      "outputs": [
        {
          "output_type": "display_data",
          "data": {
            "image/png": "[encoded data removed]",
            "text/plain": [
              "<Figure size 432x288 with 1 Axes>"
            ]
          },
          "metadata": {
            "tags": []
          }
        },
        {
          "output_type": "display_data",
          "data": {
            "image/png": "[encoded data removed]",
            "text/plain": [
              "<Figure size 432x288 with 1 Axes>"
            ]
          },
          "metadata": {
            "tags": []
          }
        }
      ]
    },
    {
      "metadata": {
        "id": "VTGvghVE2ciF",
        "colab_type": "code",
        "colab": {}
      },
      "cell_type": "code",
      "source": [
        ""
      ],
      "execution_count": 0,
      "outputs": []
    }
  ]
}