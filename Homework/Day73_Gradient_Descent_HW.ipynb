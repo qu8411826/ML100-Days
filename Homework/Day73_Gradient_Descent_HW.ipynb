{
  "nbformat": 4,
  "nbformat_minor": 0,
  "metadata": {
    "colab": {
      "name": "Day73_Gradient_Descent_HW.ipynb",
      "version": "0.3.2",
      "provenance": [],
      "include_colab_link": true
    },
    "kernelspec": {
      "name": "python3",
      "display_name": "Python 3"
    },
    "accelerator": "GPU"
  },
  "cells": [
    {
      "cell_type": "markdown",
      "metadata": {
        "id": "view-in-github",
        "colab_type": "text"
      },
      "source": [
        "<a href=\"https://colab.research.google.com/github/qu8411826/ML100-Days/blob/master/Homework/Day73_Gradient_Descent_HW.ipynb\" target=\"_parent\"><img src=\"https://colab.research.google.com/assets/colab-badge.svg\" alt=\"Open In Colab\"/></a>"
      ]
    },
    {
      "metadata": {
        "id": "aQF5mBmhokmQ",
        "colab_type": "text"
      },
      "cell_type": "markdown",
      "source": [
        "# Find the local minima of the function y=(x+5)² starting from the point x=3"
      ]
    },
    {
      "metadata": {
        "id": "H_iQtHPAokmR",
        "colab_type": "text"
      },
      "cell_type": "markdown",
      "source": [
        "\n",
        "Step 1 : Initialize x =3. Then, find the gradient of the function, dy/dx = 2*(x+5).\n",
        "\n",
        "Step 2 : Move in the direction of the negative of the gradient. We use a learning rate. Let us assume the learning rate → 0.01\n",
        "\n",
        "Step 3 : Let’s perform 2 iterations of gradient descent\n",
        "\n",
        "Step 4 : We can observe that the X value is slowly decreasing and should converge to -5 (the local minima). However, how many iterations should we perform?"
      ]
    },
    {
      "metadata": {
        "id": "P8AtUNELokmS",
        "colab_type": "text"
      },
      "cell_type": "markdown",
      "source": [
        "# 作業:\n",
        "    請嘗試使用不同的組合驗證 learning rate 對所需 iteration 的影響\n",
        "    lr = [0.1, 0.0001]\n",
        "    主要驗證 Lr 對於grandient 收斂的速度\n",
        "    "
      ]
    },
    {
      "metadata": {
        "id": "wi-OH4a6okmS",
        "colab_type": "code",
        "colab": {}
      },
      "cell_type": "code",
      "source": [
        "cur_x = 3 # The algorithm starts at x=3\n",
        "precision = 0.000001 #This tells us when to stop the algorithm\n",
        "max_iters = 10000 # maximum number of iterations\n",
        "df = lambda x: 2*(x+5) #Gradient of our function "
      ],
      "execution_count": 0,
      "outputs": []
    },
    {
      "metadata": {
        "scrolled": false,
        "id": "lBy6dBKmokmV",
        "colab_type": "code",
        "colab": {}
      },
      "cell_type": "code",
      "source": [
        "'''\n",
        "MUST RESET\n",
        "# Learning rate\n",
        "#iteration counter\n",
        "#Step size  \n",
        "'''\n",
        "while previous_step_size > precision and iters < max_iters:\n",
        "  '''\n",
        "  算法迭代更新\n",
        "  '''\n",
        "    print(\"the learning rate is\",lr, \"\\nIteration\",iters,\"\\nX value is\",cur_x) #Print iterations\n"
      ],
      "execution_count": 0,
      "outputs": []
    },
    {
      "metadata": {
        "id": "Q2Lf9ONXokmX",
        "colab_type": "code",
        "colab": {
          "base_uri": "https://localhost:8080/",
          "height": 390
        },
        "outputId": "f21ede01-4132-44cd-d3bc-7557df46de17"
      },
      "cell_type": "code",
      "source": [
        "\n",
        "import matplotlib.pyplot as plt\n",
        "import numpy as np\n",
        "%matplotlib inline \n",
        "\n",
        "colors = ['blue', 'red']\n",
        "for i, lr in enumerate([0.1, 0.001]):\n",
        "  iters = 0\n",
        "  iters_history = [iters]\n",
        "  cur_x = 3 # The algorithm starts at x=3\n",
        "  x_history = [cur_x]\n",
        "  previous_step_size = 1 #\n",
        "  while previous_step_size > precision and iters < max_iters:\n",
        "      prev_x = cur_x #Store current x value in prev_x\n",
        "      cur_x = cur_x - lr * df(prev_x) #Gradient descent\n",
        "      previous_step_size = abs(cur_x - prev_x) # 取較大的值, Change in x\n",
        "      iters = iters+1 #iteration count\n",
        "#      print(\"Iteration\",iters,\"\\nX value is\",cur_x) #Print iterations\n",
        "       # Store parameters for plotting\n",
        "      iters_history.append(iters)\n",
        "      x_history.append(cur_x)\n",
        "  print(\"the learning rate is\",lr, \"\\nIteration\",iters,\"\\nX value is\",cur_x) #Print iterations\n",
        "  plt.plot(iters_history, x_history, ms=3, lw=1.5, color=colors[i])\n",
        "plt.xlabel(r'$iters$', fontsize=16)\n",
        "plt.ylabel(r'$x$', fontsize=16)\n",
        "plt.show()"
      ],
      "execution_count": 12,
      "outputs": [
        {
          "output_type": "stream",
          "text": [
            "the learning rate is 0.1 \n",
            "Iteration 66 \n",
            "X value is -4.999996786123911\n",
            "the learning rate is 0.001 \n",
            "Iteration 4837 \n",
            "X value is -4.999501668667748\n"
          ],
          "name": "stdout"
        },
        {
          "output_type": "display_data",
          "data": {
            "image/png": "[encoded data removed]",
            "text/plain": [
              "<Figure size 432x288 with 1 Axes>"
            ]
          },
          "metadata": {
            "tags": []
          }
        }
      ]
    }
  ]
}