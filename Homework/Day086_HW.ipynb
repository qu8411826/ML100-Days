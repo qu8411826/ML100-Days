{
  "nbformat": 4,
  "nbformat_minor": 0,
  "metadata": {
    "colab": {
      "name": "Day086_CB_ModelCheckPoint.ipynb",
      "version": "0.3.2",
      "provenance": [],
      "include_colab_link": true
    },
    "language_info": {
      "codemirror_mode": {
        "name": "ipython",
        "version": 3
      },
      "file_extension": ".py",
      "mimetype": "text/x-python",
      "name": "python",
      "nbconvert_exporter": "python",
      "pygments_lexer": "ipython3",
      "version": "3.6.5"
    },
    "kernelspec": {
      "name": "python3",
      "display_name": "Python 3"
    },
    "accelerator": "TPU"
  },
  "cells": [
    {
      "cell_type": "markdown",
      "metadata": {
        "id": "view-in-github",
        "colab_type": "text"
      },
      "source": [
        "<a href=\"https://colab.research.google.com/github/qu8411826/ML100-Days/blob/master/Homework/Day086_HW.ipynb\" target=\"_parent\"><img src=\"https://colab.research.google.com/assets/colab-badge.svg\" alt=\"Open In Colab\"/></a>"
      ]
    },
    {
      "metadata": {
        "id": "KVjlXorD1McN",
        "colab_type": "code",
        "colab": {
          "base_uri": "https://localhost:8080/",
          "height": 34
        },
        "outputId": "9d47ecbb-a9a1-4c3c-b8e6-37c991715f8c"
      },
      "cell_type": "code",
      "source": [
        "import os\n",
        "import keras\n",
        "\n",
        "# Disable GPU\n",
        "os.environ[\"CUDA_VISIBLE_DEVICES\"] = \"\""
      ],
      "execution_count": 1,
      "outputs": [
        {
          "output_type": "stream",
          "text": [
            "Using TensorFlow backend.\n"
          ],
          "name": "stderr"
        }
      ]
    },
    {
      "metadata": {
        "id": "bHHAqNog1McT",
        "colab_type": "code",
        "colab": {}
      },
      "cell_type": "code",
      "source": [
        "train, test = keras.datasets.cifar10.load_data()"
      ],
      "execution_count": 0,
      "outputs": []
    },
    {
      "metadata": {
        "id": "edzjZP_41McV",
        "colab_type": "code",
        "colab": {}
      },
      "cell_type": "code",
      "source": [
        "## 資料前處理\n",
        "def preproc_x(x, flatten=True):\n",
        "    x = x / 255.\n",
        "    if flatten:\n",
        "        x = x.reshape((len(x), -1))\n",
        "    return x\n",
        "\n",
        "def preproc_y(y, num_classes=10):\n",
        "    if y.shape[-1] == 1:\n",
        "        y = keras.utils.to_categorical(y, num_classes)\n",
        "    return y    "
      ],
      "execution_count": 0,
      "outputs": []
    },
    {
      "metadata": {
        "id": "x1rhUFvk1McX",
        "colab_type": "code",
        "colab": {}
      },
      "cell_type": "code",
      "source": [
        "x_train, y_train = train\n",
        "x_test, y_test = test\n",
        "\n",
        "# Preproc the inputs\n",
        "x_train = preproc_x(x_train)\n",
        "x_test = preproc_x(x_test)\n",
        "\n",
        "# Preprc the outputs\n",
        "y_train = preproc_y(y_train)\n",
        "y_test = preproc_y(y_test)"
      ],
      "execution_count": 0,
      "outputs": []
    },
    {
      "metadata": {
        "id": "urpxgagK1McY",
        "colab_type": "code",
        "colab": {}
      },
      "cell_type": "code",
      "source": [
        "from keras.layers import BatchNormalization\n",
        "def build_mlp(input_shape, output_units=10, num_neurons=[512, 256, 128]):\n",
        "    input_layer = keras.layers.Input(input_shape)\n",
        "    \n",
        "    for i, n_units in enumerate(num_neurons):\n",
        "        if i == 0:\n",
        "            x = keras.layers.Dense(units=n_units, \n",
        "                                   activation=\"relu\", \n",
        "                                   name=\"hidden_layer\"+str(i+1))(input_layer)\n",
        "            x = BatchNormalization()(x)\n",
        "        else:\n",
        "            x = keras.layers.Dense(units=n_units, \n",
        "                                   activation=\"relu\", \n",
        "                                   name=\"hidden_layer\"+str(i+1))(x)\n",
        "            x = BatchNormalization()(x)\n",
        "    \n",
        "    out = keras.layers.Dense(units=output_units, activation=\"softmax\", name=\"output\")(x)\n",
        "    \n",
        "    model = keras.models.Model(inputs=[input_layer], outputs=[out])\n",
        "    return model"
      ],
      "execution_count": 0,
      "outputs": []
    },
    {
      "metadata": {
        "id": "qgG0dGy11Mca",
        "colab_type": "code",
        "colab": {}
      },
      "cell_type": "code",
      "source": [
        "## 超參數設定\n",
        "LEARNING_RATE = 1e-3\n",
        "EPOCHS = 50\n",
        "BATCH_SIZE = 1024\n",
        "MOMENTUM = 0.95"
      ],
      "execution_count": 0,
      "outputs": []
    },
    {
      "metadata": {
        "id": "Qzzyt7QB1Mcc",
        "colab_type": "code",
        "colab": {}
      },
      "cell_type": "code",
      "source": [
        "# 載入 Callbacks\n",
        "from keras.callbacks import ModelCheckpoint\n",
        "\n",
        "model_ckpt = ModelCheckpoint(filepath=\"./tmp.h5\", \n",
        "                             monitor=\"val_loss\", \n",
        "                             save_best_only=True)"
      ],
      "execution_count": 0,
      "outputs": []
    },
    {
      "metadata": {
        "scrolled": true,
        "id": "0JJiFoWe1Mce",
        "colab_type": "code",
        "colab": {
          "base_uri": "https://localhost:8080/",
          "height": 2342
        },
        "outputId": "c9295c51-1798-4a0e-ecb6-5c8f0331c54f"
      },
      "cell_type": "code",
      "source": [
        "model = build_mlp(input_shape=x_train.shape[1:])\n",
        "model.summary()\n",
        "optimizer = keras.optimizers.SGD(lr=LEARNING_RATE, nesterov=True, momentum=MOMENTUM)\n",
        "model.compile(loss=\"categorical_crossentropy\", metrics=[\"accuracy\"], optimizer=optimizer)\n",
        "\n",
        "model.fit(x_train, y_train, \n",
        "          epochs=EPOCHS, \n",
        "          batch_size=BATCH_SIZE, \n",
        "          validation_data=(x_test, y_test), \n",
        "          shuffle=True,\n",
        "          callbacks=[model_ckpt]\n",
        "         )\n",
        "\n",
        "# Collect results\n",
        "train_loss = model.history.history[\"loss\"]\n",
        "valid_loss = model.history.history[\"val_loss\"]\n",
        "train_acc = model.history.history[\"acc\"]\n",
        "valid_acc = model.history.history[\"val_acc\"]\n",
        "\n",
        "# Load back\n",
        "model = keras.models.load_model(\"./tmp.h5\")\n",
        "loss_loadback, acc_loadback = model.evaluate(x_test, y_test)"
      ],
      "execution_count": 8,
      "outputs": [
        {
          "output_type": "stream",
          "text": [
            "WARNING:tensorflow:From /usr/local/lib/python3.6/dist-packages/tensorflow/python/framework/op_def_library.py:263: colocate_with (from tensorflow.python.framework.ops) is deprecated and will be removed in a future version.\n",
            "Instructions for updating:\n",
            "Colocations handled automatically by placer.\n",
            "_________________________________________________________________\n",
            "Layer (type)                 Output Shape              Param #   \n",
            "=================================================================\n",
            "input_1 (InputLayer)         (None, 3072)              0         \n",
            "_________________________________________________________________\n",
            "hidden_layer1 (Dense)        (None, 512)               1573376   \n",
            "_________________________________________________________________\n",
            "batch_normalization_1 (Batch (None, 512)               2048      \n",
            "_________________________________________________________________\n",
            "hidden_layer2 (Dense)        (None, 256)               131328    \n",
            "_________________________________________________________________\n",
            "batch_normalization_2 (Batch (None, 256)               1024      \n",
            "_________________________________________________________________\n",
            "hidden_layer3 (Dense)        (None, 128)               32896     \n",
            "_________________________________________________________________\n",
            "batch_normalization_3 (Batch (None, 128)               512       \n",
            "_________________________________________________________________\n",
            "output (Dense)               (None, 10)                1290      \n",
            "=================================================================\n",
            "Total params: 1,742,474\n",
            "Trainable params: 1,740,682\n",
            "Non-trainable params: 1,792\n",
            "_________________________________________________________________\n",
            "WARNING:tensorflow:From /usr/local/lib/python3.6/dist-packages/tensorflow/python/ops/math_ops.py:3066: to_int32 (from tensorflow.python.ops.math_ops) is deprecated and will be removed in a future version.\n",
            "Instructions for updating:\n",
            "Use tf.cast instead.\n",
            "Train on 50000 samples, validate on 10000 samples\n",
            "Epoch 1/50\n",
            "50000/50000 [==============================] - 10s 209us/step - loss: 2.2374 - acc: 0.2700 - val_loss: 2.2138 - val_acc: 0.3125\n",
            "Epoch 2/50\n",
            "50000/50000 [==============================] - 10s 193us/step - loss: 1.7496 - acc: 0.3911 - val_loss: 1.8195 - val_acc: 0.3755\n",
            "Epoch 3/50\n",
            "50000/50000 [==============================] - 10s 199us/step - loss: 1.6252 - acc: 0.4340 - val_loss: 1.7046 - val_acc: 0.4100\n",
            "Epoch 4/50\n",
            "50000/50000 [==============================] - 10s 193us/step - loss: 1.5509 - acc: 0.4609 - val_loss: 1.6446 - val_acc: 0.4276\n",
            "Epoch 5/50\n",
            "50000/50000 [==============================] - 10s 192us/step - loss: 1.4975 - acc: 0.4798 - val_loss: 1.5973 - val_acc: 0.4413\n",
            "Epoch 6/50\n",
            "50000/50000 [==============================] - 10s 197us/step - loss: 1.4515 - acc: 0.4961 - val_loss: 1.5709 - val_acc: 0.4504\n",
            "Epoch 7/50\n",
            "50000/50000 [==============================] - 10s 191us/step - loss: 1.4132 - acc: 0.5084 - val_loss: 1.5500 - val_acc: 0.4548\n",
            "Epoch 8/50\n",
            "50000/50000 [==============================] - 10s 201us/step - loss: 1.3763 - acc: 0.5211 - val_loss: 1.5296 - val_acc: 0.4658\n",
            "Epoch 9/50\n",
            "50000/50000 [==============================] - 10s 193us/step - loss: 1.3437 - acc: 0.5354 - val_loss: 1.5173 - val_acc: 0.4700\n",
            "Epoch 10/50\n",
            "50000/50000 [==============================] - 10s 200us/step - loss: 1.3143 - acc: 0.5448 - val_loss: 1.5060 - val_acc: 0.4767\n",
            "Epoch 11/50\n",
            "50000/50000 [==============================] - 10s 197us/step - loss: 1.2877 - acc: 0.5546 - val_loss: 1.4957 - val_acc: 0.4804\n",
            "Epoch 12/50\n",
            "50000/50000 [==============================] - 10s 194us/step - loss: 1.2587 - acc: 0.5637 - val_loss: 1.4938 - val_acc: 0.4820\n",
            "Epoch 13/50\n",
            "50000/50000 [==============================] - 10s 193us/step - loss: 1.2329 - acc: 0.5749 - val_loss: 1.4855 - val_acc: 0.4815\n",
            "Epoch 14/50\n",
            "50000/50000 [==============================] - 10s 193us/step - loss: 1.2079 - acc: 0.5827 - val_loss: 1.4763 - val_acc: 0.4841\n",
            "Epoch 15/50\n",
            "50000/50000 [==============================] - 10s 195us/step - loss: 1.1833 - acc: 0.5913 - val_loss: 1.4703 - val_acc: 0.4852\n",
            "Epoch 16/50\n",
            "50000/50000 [==============================] - 10s 196us/step - loss: 1.1571 - acc: 0.6034 - val_loss: 1.4720 - val_acc: 0.4919\n",
            "Epoch 17/50\n",
            "50000/50000 [==============================] - 10s 195us/step - loss: 1.1361 - acc: 0.6111 - val_loss: 1.4712 - val_acc: 0.4875\n",
            "Epoch 18/50\n",
            "50000/50000 [==============================] - 10s 194us/step - loss: 1.1132 - acc: 0.6191 - val_loss: 1.4626 - val_acc: 0.4920\n",
            "Epoch 19/50\n",
            "50000/50000 [==============================] - 10s 194us/step - loss: 1.0890 - acc: 0.6285 - val_loss: 1.4492 - val_acc: 0.4981\n",
            "Epoch 20/50\n",
            "50000/50000 [==============================] - 10s 195us/step - loss: 1.0669 - acc: 0.6365 - val_loss: 1.4655 - val_acc: 0.4908\n",
            "Epoch 21/50\n",
            "50000/50000 [==============================] - 10s 193us/step - loss: 1.0475 - acc: 0.6432 - val_loss: 1.4594 - val_acc: 0.4974\n",
            "Epoch 22/50\n",
            "50000/50000 [==============================] - 10s 194us/step - loss: 1.0246 - acc: 0.6510 - val_loss: 1.4712 - val_acc: 0.4953\n",
            "Epoch 23/50\n",
            "50000/50000 [==============================] - 10s 194us/step - loss: 1.0046 - acc: 0.6608 - val_loss: 1.4680 - val_acc: 0.5004\n",
            "Epoch 24/50\n",
            "50000/50000 [==============================] - 10s 193us/step - loss: 0.9821 - acc: 0.6682 - val_loss: 1.4723 - val_acc: 0.4986\n",
            "Epoch 25/50\n",
            "50000/50000 [==============================] - 10s 193us/step - loss: 0.9635 - acc: 0.6745 - val_loss: 1.4771 - val_acc: 0.4915\n",
            "Epoch 26/50\n",
            "50000/50000 [==============================] - 10s 195us/step - loss: 0.9426 - acc: 0.6837 - val_loss: 1.4622 - val_acc: 0.5015\n",
            "Epoch 27/50\n",
            "50000/50000 [==============================] - 10s 194us/step - loss: 0.9219 - acc: 0.6915 - val_loss: 1.4809 - val_acc: 0.4991\n",
            "Epoch 28/50\n",
            "50000/50000 [==============================] - 10s 194us/step - loss: 0.9024 - acc: 0.6986 - val_loss: 1.4793 - val_acc: 0.4948\n",
            "Epoch 29/50\n",
            "50000/50000 [==============================] - 10s 194us/step - loss: 0.8840 - acc: 0.7072 - val_loss: 1.4755 - val_acc: 0.4994\n",
            "Epoch 30/50\n",
            "50000/50000 [==============================] - 15s 291us/step - loss: 0.8618 - acc: 0.7155 - val_loss: 1.4884 - val_acc: 0.5035\n",
            "Epoch 31/50\n",
            "50000/50000 [==============================] - 20s 396us/step - loss: 0.8405 - acc: 0.7228 - val_loss: 1.5057 - val_acc: 0.4941\n",
            "Epoch 32/50\n",
            "50000/50000 [==============================] - 20s 392us/step - loss: 0.8236 - acc: 0.7303 - val_loss: 1.5095 - val_acc: 0.4976\n",
            "Epoch 33/50\n",
            "50000/50000 [==============================] - 20s 401us/step - loss: 0.8042 - acc: 0.7344 - val_loss: 1.5036 - val_acc: 0.4949\n",
            "Epoch 34/50\n",
            "50000/50000 [==============================] - 20s 400us/step - loss: 0.7851 - acc: 0.7446 - val_loss: 1.4996 - val_acc: 0.5001\n",
            "Epoch 35/50\n",
            "50000/50000 [==============================] - 20s 407us/step - loss: 0.7634 - acc: 0.7517 - val_loss: 1.5118 - val_acc: 0.5005\n",
            "Epoch 36/50\n",
            "50000/50000 [==============================] - 22s 445us/step - loss: 0.7459 - acc: 0.7591 - val_loss: 1.5360 - val_acc: 0.4952\n",
            "Epoch 37/50\n",
            "50000/50000 [==============================] - 20s 403us/step - loss: 0.7268 - acc: 0.7686 - val_loss: 1.5392 - val_acc: 0.4995\n",
            "Epoch 38/50\n",
            "50000/50000 [==============================] - 20s 405us/step - loss: 0.7090 - acc: 0.7754 - val_loss: 1.5540 - val_acc: 0.4996\n",
            "Epoch 39/50\n",
            "50000/50000 [==============================] - 20s 398us/step - loss: 0.6892 - acc: 0.7825 - val_loss: 1.5466 - val_acc: 0.4961\n",
            "Epoch 40/50\n",
            "50000/50000 [==============================] - 20s 406us/step - loss: 0.6683 - acc: 0.7911 - val_loss: 1.5522 - val_acc: 0.4957\n",
            "Epoch 41/50\n",
            "50000/50000 [==============================] - 20s 404us/step - loss: 0.6517 - acc: 0.7977 - val_loss: 1.5745 - val_acc: 0.4912\n",
            "Epoch 42/50\n",
            "50000/50000 [==============================] - 21s 423us/step - loss: 0.6329 - acc: 0.8048 - val_loss: 1.5624 - val_acc: 0.4987\n",
            "Epoch 43/50\n",
            "50000/50000 [==============================] - 20s 407us/step - loss: 0.6150 - acc: 0.8128 - val_loss: 1.5947 - val_acc: 0.4946\n",
            "Epoch 44/50\n",
            "50000/50000 [==============================] - 20s 401us/step - loss: 0.5963 - acc: 0.8201 - val_loss: 1.5983 - val_acc: 0.4890\n",
            "Epoch 45/50\n",
            "50000/50000 [==============================] - 20s 402us/step - loss: 0.5790 - acc: 0.8283 - val_loss: 1.6037 - val_acc: 0.4978\n",
            "Epoch 46/50\n",
            "50000/50000 [==============================] - 20s 400us/step - loss: 0.5629 - acc: 0.8349 - val_loss: 1.6314 - val_acc: 0.4873\n",
            "Epoch 47/50\n",
            "50000/50000 [==============================] - 20s 397us/step - loss: 0.5469 - acc: 0.8407 - val_loss: 1.6291 - val_acc: 0.4912\n",
            "Epoch 48/50\n",
            "50000/50000 [==============================] - 27s 532us/step - loss: 0.5281 - acc: 0.8467 - val_loss: 1.6497 - val_acc: 0.4901\n",
            "Epoch 49/50\n",
            "50000/50000 [==============================] - 30s 605us/step - loss: 0.5132 - acc: 0.8535 - val_loss: 1.6474 - val_acc: 0.4917\n",
            "Epoch 50/50\n",
            "50000/50000 [==============================] - 31s 619us/step - loss: 0.4959 - acc: 0.8612 - val_loss: 1.6731 - val_acc: 0.4881\n",
            "10000/10000 [==============================] - 5s 512us/step\n"
          ],
          "name": "stdout"
        }
      ]
    },
    {
      "metadata": {
        "id": "0Dj6TkpK1Mcg",
        "colab_type": "code",
        "colab": {},
        "outputId": "75bac8b1-8774-4bc1-8e23-9ad2ab3934fd"
      },
      "cell_type": "code",
      "source": [
        "import matplotlib.pyplot as plt\n",
        "%matplotlib inline\n",
        "\n",
        "plt.plot(range(len(train_loss)), train_loss, label=\"train loss\")\n",
        "plt.plot(range(len(valid_loss)), valid_loss, label=\"valid loss\")\n",
        "plt.hlines(y=loss_loadback, xmin=0, xmax=len(train_loss), colors='r', linestyles='--')\n",
        "plt.legend()\n",
        "plt.title(\"Loss\")\n",
        "plt.show()\n",
        "\n",
        "plt.plot(range(len(train_acc)), train_acc, label=\"train accuracy\")\n",
        "plt.plot(range(len(valid_acc)), valid_acc, label=\"valid accuracy\")\n",
        "plt.hlines(y=acc_loadback, xmin=0, xmax=len(train_loss), colors='r', linestyles='--')\n",
        "plt.legend()\n",
        "plt.title(\"Accuracy\")\n",
        "plt.show()"
      ],
      "execution_count": 0,
      "outputs": [
        {
          "output_type": "display_data",
          "data": {
            "image/png": "[encoded data removed]",
            "text/plain": [
              "<Figure size 432x288 with 1 Axes>"
            ]
          },
          "metadata": {
            "tags": []
          }
        },
        {
          "output_type": "display_data",
          "data": {
            "image/png": "[encoded data removed]",
            "text/plain": [
              "<Figure size 432x288 with 1 Axes>"
            ]
          },
          "metadata": {
            "tags": []
          }
        }
      ]
    },
    {
      "metadata": {
        "id": "JZeLuVM51Mcj",
        "colab_type": "text"
      },
      "cell_type": "markdown",
      "source": [
        "## Work\n",
        "1. 試比較 save_best_only 與否的差異\n",
        "2. 請僅存入將 save_weights_only 設定為 True, 並嘗試 reset ipynb 並將模型與權重重新建回並預測 x_test"
      ]
    },
    {
      "metadata": {
        "id": "BdKganQg5yr2",
        "colab_type": "code",
        "colab": {}
      },
      "cell_type": "code",
      "source": [
        "# 載入 Callbacks\n",
        "from keras.callbacks import ModelCheckpoint\n",
        "\"\"\"\n",
        "Set model checkpoint callbacks\n",
        "\"\"\"\n",
        "from keras.callbacks import ModelCheckpoint\n",
        "\n",
        "model_ckpt = ModelCheckpoint(filepath=\"./tmp.h5\", \n",
        "                             monitor=\"val_loss\", \n",
        "                             save_best_only=False,\n",
        "                             save_weights_only=True)"
      ],
      "execution_count": 0,
      "outputs": []
    },
    {
      "metadata": {
        "id": "D-a8A4lz5zyy",
        "colab_type": "code",
        "colab": {
          "base_uri": "https://localhost:8080/",
          "height": 2219
        },
        "outputId": "4af13c8f-7257-4fce-e257-4f052a38e3a1"
      },
      "cell_type": "code",
      "source": [
        "\"\"\"\n",
        "Write your training loop and show the results\n",
        "\"\"\"\n",
        "model = build_mlp(input_shape=x_train.shape[1:])\n",
        "model.summary()\n",
        "optimizer = keras.optimizers.SGD(lr=LEARNING_RATE, nesterov=True, momentum=MOMENTUM)\n",
        "model.compile(loss=\"categorical_crossentropy\", metrics=[\"accuracy\"], optimizer=optimizer)\n",
        "\n",
        "model.fit(x_train, y_train, \n",
        "          epochs=EPOCHS, \n",
        "          batch_size=BATCH_SIZE, \n",
        "          validation_data=(x_test, y_test), \n",
        "          shuffle=True,\n",
        "          callbacks=[model_ckpt]\n",
        "         )\n",
        "\n",
        "# Collect results\n",
        "train_loss = model.history.history[\"loss\"]\n",
        "valid_loss = model.history.history[\"val_loss\"]\n",
        "train_acc = model.history.history[\"acc\"]\n",
        "valid_acc = model.history.history[\"val_acc\"]"
      ],
      "execution_count": 10,
      "outputs": [
        {
          "output_type": "stream",
          "text": [
            "_________________________________________________________________\n",
            "Layer (type)                 Output Shape              Param #   \n",
            "=================================================================\n",
            "input_2 (InputLayer)         (None, 3072)              0         \n",
            "_________________________________________________________________\n",
            "hidden_layer1 (Dense)        (None, 512)               1573376   \n",
            "_________________________________________________________________\n",
            "batch_normalization_4 (Batch (None, 512)               2048      \n",
            "_________________________________________________________________\n",
            "hidden_layer2 (Dense)        (None, 256)               131328    \n",
            "_________________________________________________________________\n",
            "batch_normalization_5 (Batch (None, 256)               1024      \n",
            "_________________________________________________________________\n",
            "hidden_layer3 (Dense)        (None, 128)               32896     \n",
            "_________________________________________________________________\n",
            "batch_normalization_6 (Batch (None, 128)               512       \n",
            "_________________________________________________________________\n",
            "output (Dense)               (None, 10)                1290      \n",
            "=================================================================\n",
            "Total params: 1,742,474\n",
            "Trainable params: 1,740,682\n",
            "Non-trainable params: 1,792\n",
            "_________________________________________________________________\n",
            "Train on 50000 samples, validate on 10000 samples\n",
            "Epoch 1/50\n",
            "50000/50000 [==============================] - 35s 698us/step - loss: 2.2335 - acc: 0.2693 - val_loss: 2.1281 - val_acc: 0.3107\n",
            "Epoch 2/50\n",
            "50000/50000 [==============================] - 31s 617us/step - loss: 1.7647 - acc: 0.3868 - val_loss: 1.8093 - val_acc: 0.3932\n",
            "Epoch 3/50\n",
            "50000/50000 [==============================] - 29s 584us/step - loss: 1.6359 - acc: 0.4282 - val_loss: 1.6980 - val_acc: 0.4185\n",
            "Epoch 4/50\n",
            "50000/50000 [==============================] - 30s 602us/step - loss: 1.5629 - acc: 0.4524 - val_loss: 1.6424 - val_acc: 0.4366\n",
            "Epoch 5/50\n",
            "50000/50000 [==============================] - 30s 601us/step - loss: 1.5051 - acc: 0.4733 - val_loss: 1.6038 - val_acc: 0.4424\n",
            "Epoch 6/50\n",
            "50000/50000 [==============================] - 31s 614us/step - loss: 1.4589 - acc: 0.4916 - val_loss: 1.5769 - val_acc: 0.4503\n",
            "Epoch 7/50\n",
            "50000/50000 [==============================] - 30s 599us/step - loss: 1.4167 - acc: 0.5055 - val_loss: 1.5491 - val_acc: 0.4641\n",
            "Epoch 8/50\n",
            "50000/50000 [==============================] - 30s 597us/step - loss: 1.3828 - acc: 0.5185 - val_loss: 1.5464 - val_acc: 0.4603\n",
            "Epoch 9/50\n",
            "50000/50000 [==============================] - 30s 606us/step - loss: 1.3483 - acc: 0.5316 - val_loss: 1.5186 - val_acc: 0.4719\n",
            "Epoch 10/50\n",
            "50000/50000 [==============================] - 30s 609us/step - loss: 1.3178 - acc: 0.5420 - val_loss: 1.4983 - val_acc: 0.4782\n",
            "Epoch 11/50\n",
            "50000/50000 [==============================] - 30s 598us/step - loss: 1.2905 - acc: 0.5521 - val_loss: 1.4907 - val_acc: 0.4792\n",
            "Epoch 12/50\n",
            "50000/50000 [==============================] - 30s 594us/step - loss: 1.2631 - acc: 0.5626 - val_loss: 1.4805 - val_acc: 0.4870\n",
            "Epoch 13/50\n",
            "50000/50000 [==============================] - 30s 593us/step - loss: 1.2371 - acc: 0.5707 - val_loss: 1.4819 - val_acc: 0.4863\n",
            "Epoch 14/50\n",
            "50000/50000 [==============================] - 30s 594us/step - loss: 1.2111 - acc: 0.5818 - val_loss: 1.4766 - val_acc: 0.4870\n",
            "Epoch 15/50\n",
            "50000/50000 [==============================] - 30s 602us/step - loss: 1.1870 - acc: 0.5922 - val_loss: 1.4610 - val_acc: 0.4934\n",
            "Epoch 16/50\n",
            "50000/50000 [==============================] - 29s 583us/step - loss: 1.1628 - acc: 0.6019 - val_loss: 1.4563 - val_acc: 0.4989\n",
            "Epoch 17/50\n",
            "50000/50000 [==============================] - 29s 585us/step - loss: 1.1393 - acc: 0.6092 - val_loss: 1.4611 - val_acc: 0.4975\n",
            "Epoch 18/50\n",
            "50000/50000 [==============================] - 27s 545us/step - loss: 1.1158 - acc: 0.6187 - val_loss: 1.4632 - val_acc: 0.4977\n",
            "Epoch 19/50\n",
            "50000/50000 [==============================] - 28s 569us/step - loss: 1.0946 - acc: 0.6275 - val_loss: 1.4551 - val_acc: 0.5022\n",
            "Epoch 20/50\n",
            "50000/50000 [==============================] - 30s 591us/step - loss: 1.0722 - acc: 0.6357 - val_loss: 1.4497 - val_acc: 0.5041\n",
            "Epoch 21/50\n",
            "50000/50000 [==============================] - 29s 583us/step - loss: 1.0508 - acc: 0.6437 - val_loss: 1.4508 - val_acc: 0.4984\n",
            "Epoch 22/50\n",
            "50000/50000 [==============================] - 29s 581us/step - loss: 1.0314 - acc: 0.6518 - val_loss: 1.4485 - val_acc: 0.5040\n",
            "Epoch 23/50\n",
            "50000/50000 [==============================] - 29s 586us/step - loss: 1.0103 - acc: 0.6596 - val_loss: 1.4620 - val_acc: 0.5025\n",
            "Epoch 24/50\n",
            "50000/50000 [==============================] - 30s 602us/step - loss: 0.9893 - acc: 0.6679 - val_loss: 1.4657 - val_acc: 0.5015\n",
            "Epoch 25/50\n",
            "50000/50000 [==============================] - 29s 587us/step - loss: 0.9677 - acc: 0.6757 - val_loss: 1.4764 - val_acc: 0.4961\n",
            "Epoch 26/50\n",
            "50000/50000 [==============================] - 30s 592us/step - loss: 0.9467 - acc: 0.6830 - val_loss: 1.4653 - val_acc: 0.5024\n",
            "Epoch 27/50\n",
            "50000/50000 [==============================] - 18s 368us/step - loss: 0.9270 - acc: 0.6915 - val_loss: 1.4670 - val_acc: 0.5056\n",
            "Epoch 28/50\n",
            "50000/50000 [==============================] - 18s 367us/step - loss: 0.9064 - acc: 0.6989 - val_loss: 1.4648 - val_acc: 0.5075\n",
            "Epoch 29/50\n",
            "50000/50000 [==============================] - 19s 371us/step - loss: 0.8878 - acc: 0.7057 - val_loss: 1.4903 - val_acc: 0.4975\n",
            "Epoch 30/50\n",
            "50000/50000 [==============================] - 18s 369us/step - loss: 0.8683 - acc: 0.7134 - val_loss: 1.4865 - val_acc: 0.4961\n",
            "Epoch 31/50\n",
            "50000/50000 [==============================] - 18s 367us/step - loss: 0.8497 - acc: 0.7219 - val_loss: 1.4906 - val_acc: 0.5045\n",
            "Epoch 32/50\n",
            "50000/50000 [==============================] - 18s 368us/step - loss: 0.8281 - acc: 0.7278 - val_loss: 1.4867 - val_acc: 0.5017\n",
            "Epoch 33/50\n",
            "50000/50000 [==============================] - 19s 375us/step - loss: 0.8096 - acc: 0.7369 - val_loss: 1.4867 - val_acc: 0.5037\n",
            "Epoch 34/50\n",
            "50000/50000 [==============================] - 19s 373us/step - loss: 0.7885 - acc: 0.7450 - val_loss: 1.4940 - val_acc: 0.5006\n",
            "Epoch 35/50\n",
            "50000/50000 [==============================] - 19s 374us/step - loss: 0.7699 - acc: 0.7540 - val_loss: 1.5010 - val_acc: 0.5047\n",
            "Epoch 36/50\n",
            "50000/50000 [==============================] - 18s 368us/step - loss: 0.7531 - acc: 0.7599 - val_loss: 1.5269 - val_acc: 0.5006\n",
            "Epoch 37/50\n",
            "50000/50000 [==============================] - 19s 372us/step - loss: 0.7336 - acc: 0.7672 - val_loss: 1.5293 - val_acc: 0.5008\n",
            "Epoch 38/50\n",
            "50000/50000 [==============================] - 19s 377us/step - loss: 0.7133 - acc: 0.7757 - val_loss: 1.5424 - val_acc: 0.4987\n",
            "Epoch 39/50\n",
            "50000/50000 [==============================] - 19s 371us/step - loss: 0.6955 - acc: 0.7813 - val_loss: 1.5574 - val_acc: 0.4960\n",
            "Epoch 40/50\n",
            "50000/50000 [==============================] - 19s 374us/step - loss: 0.6776 - acc: 0.7893 - val_loss: 1.5422 - val_acc: 0.5019\n",
            "Epoch 41/50\n",
            "50000/50000 [==============================] - 19s 375us/step - loss: 0.6585 - acc: 0.7962 - val_loss: 1.5691 - val_acc: 0.4975\n",
            "Epoch 42/50\n",
            "50000/50000 [==============================] - 19s 376us/step - loss: 0.6405 - acc: 0.8044 - val_loss: 1.5633 - val_acc: 0.4978\n",
            "Epoch 43/50\n",
            "50000/50000 [==============================] - 19s 382us/step - loss: 0.6205 - acc: 0.8123 - val_loss: 1.5850 - val_acc: 0.5000\n",
            "Epoch 44/50\n",
            "50000/50000 [==============================] - 19s 374us/step - loss: 0.6030 - acc: 0.8194 - val_loss: 1.5996 - val_acc: 0.4957\n",
            "Epoch 45/50\n",
            "50000/50000 [==============================] - 19s 380us/step - loss: 0.5859 - acc: 0.8264 - val_loss: 1.5910 - val_acc: 0.4967\n",
            "Epoch 46/50\n",
            "50000/50000 [==============================] - 19s 382us/step - loss: 0.5695 - acc: 0.8327 - val_loss: 1.6272 - val_acc: 0.4955\n",
            "Epoch 47/50\n",
            "50000/50000 [==============================] - 19s 381us/step - loss: 0.5518 - acc: 0.8416 - val_loss: 1.6347 - val_acc: 0.4903\n",
            "Epoch 48/50\n",
            "50000/50000 [==============================] - 19s 381us/step - loss: 0.5340 - acc: 0.8472 - val_loss: 1.6421 - val_acc: 0.4914\n",
            "Epoch 49/50\n",
            "50000/50000 [==============================] - 19s 378us/step - loss: 0.5179 - acc: 0.8534 - val_loss: 1.6460 - val_acc: 0.4912\n",
            "Epoch 50/50\n",
            "50000/50000 [==============================] - 19s 379us/step - loss: 0.5028 - acc: 0.8573 - val_loss: 1.6493 - val_acc: 0.4939\n"
          ],
          "name": "stdout"
        }
      ]
    },
    {
      "metadata": {
        "id": "uxxgK8XM525C",
        "colab_type": "code",
        "colab": {
          "base_uri": "https://localhost:8080/",
          "height": 34
        },
        "outputId": "f4fd64dc-06cc-416b-8d02-18faf9b9e424"
      },
      "cell_type": "code",
      "source": [
        "# Load back\n",
        "model.load_weights(\"./tmp.h5\")\n",
        "loss_loadback, acc_loadback = model.evaluate(x_test, y_test)"
      ],
      "execution_count": 11,
      "outputs": [
        {
          "output_type": "stream",
          "text": [
            "10000/10000 [==============================] - 3s 330us/step\n"
          ],
          "name": "stdout"
        }
      ]
    },
    {
      "metadata": {
        "id": "WD_66ke359EV",
        "colab_type": "code",
        "colab": {
          "base_uri": "https://localhost:8080/",
          "height": 545
        },
        "outputId": "ae001b77-1bc6-49eb-b26e-c0b9f9e94743"
      },
      "cell_type": "code",
      "source": [
        "import matplotlib.pyplot as plt\n",
        "%matplotlib inline\n",
        "\n",
        "plt.plot(range(len(train_loss)), train_loss, label=\"train loss\")\n",
        "plt.plot(range(len(valid_loss)), valid_loss, label=\"valid loss\")\n",
        "plt.hlines(y=loss_loadback, xmin=0, xmax=len(train_loss), colors='r', linestyles='--')\n",
        "plt.legend()\n",
        "plt.title(\"Loss\")\n",
        "plt.show()\n",
        "\n",
        "plt.plot(range(len(train_acc)), train_acc, label=\"train accuracy\")\n",
        "plt.plot(range(len(valid_acc)), valid_acc, label=\"valid accuracy\")\n",
        "plt.hlines(y=acc_loadback, xmin=0, xmax=len(train_loss), colors='r', linestyles='--')\n",
        "plt.legend()\n",
        "plt.title(\"Accuracy\")\n",
        "plt.show()\n"
      ],
      "execution_count": 12,
      "outputs": [
        {
          "output_type": "display_data",
          "data": {
            "image/png": "[encoded data removed]",
            "text/plain": [
              "<Figure size 432x288 with 1 Axes>"
            ]
          },
          "metadata": {
            "tags": []
          }
        },
        {
          "output_type": "display_data",
          "data": {
            "image/png": "[encoded data removed]",
            "text/plain": [
              "<Figure size 432x288 with 1 Axes>"
            ]
          },
          "metadata": {
            "tags": []
          }
        }
      ]
    },
    {
      "metadata": {
        "id": "MgBH-ZYV5_f4",
        "colab_type": "code",
        "colab": {}
      },
      "cell_type": "code",
      "source": [
        ""
      ],
      "execution_count": 0,
      "outputs": []
    }
  ]
}