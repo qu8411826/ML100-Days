{
 "cells": [
  {
   "cell_type": "markdown",
   "metadata": {},
   "source": [
    "# PCA 範例\n",
    "* 以 PCA + 邏輯斯迴歸判斷手寫辨識資料集, 觀察不同 component 下正確率的變化"
   ]
  },
  {
   "cell_type": "code",
   "execution_count": 1,
   "metadata": {},
   "outputs": [],
   "source": [
    "# 載入套件\n",
    "import numpy as np\n",
    "import matplotlib.pyplot as plt\n",
    "import pandas as pd\n",
    "\n",
    "from sklearn import datasets\n",
    "from sklearn.decomposition import PCA\n",
    "from sklearn.linear_model import SGDClassifier\n",
    "from sklearn.pipeline import Pipeline\n",
    "from sklearn.model_selection import GridSearchCV\n",
    "import warnings\n",
    "warnings.filterwarnings(\"ignore\")"
   ]
  },
  {
   "cell_type": "code",
   "execution_count": 2,
   "metadata": {},
   "outputs": [],
   "source": [
    "# 定義 PCA 與隨後的羅吉斯迴歸函數\n",
    "# penalty 改為 L1, max_iter 改為 100\n",
    "logistic = SGDClassifier(loss='log', penalty='l1', max_iter=100, tol=1e-5, random_state=0)\n",
    "pca = PCA()\n",
    "pipe = Pipeline(steps=[('pca', pca), ('logistic', logistic)])\n",
    "\n",
    "# 載入手寫數字辨識集\n",
    "digits = datasets.load_digits()\n",
    "X_digits = digits.data\n",
    "y_digits = digits.target"
   ]
  },
  {
   "cell_type": "code",
   "execution_count": 71,
   "metadata": {},
   "outputs": [
    {
     "data": {
      "text/plain": [
       "array([1.00000000e-04, 1.58489319e-04, 2.51188643e-04, 3.98107171e-04,\n",
       "       6.30957344e-04, 1.00000000e-03, 1.58489319e-03, 2.51188643e-03,\n",
       "       3.98107171e-03, 6.30957344e-03, 1.00000000e-02, 1.58489319e-02,\n",
       "       2.51188643e-02, 3.98107171e-02, 6.30957344e-02, 1.00000000e-01,\n",
       "       1.58489319e-01, 2.51188643e-01, 3.98107171e-01, 6.30957344e-01,\n",
       "       1.00000000e+00, 1.58489319e+00, 2.51188643e+00, 3.98107171e+00,\n",
       "       6.30957344e+00, 1.00000000e+01])"
      ]
     },
     "execution_count": 71,
     "metadata": {},
     "output_type": "execute_result"
    }
   ],
   "source": [
    "np.logspace(-4, 1, 26)"
   ]
  },
  {
   "cell_type": "markdown",
   "metadata": {},
   "source": [
    "# 作業\n",
    "* 將參數 penalty 改為 L1, max_iter 改為 100, 觀察 PCA 與羅吉斯迴歸做手寫辨識的效果"
   ]
  },
  {
   "cell_type": "code",
   "execution_count": 72,
   "metadata": {},
   "outputs": [
    {
     "name": "stdout",
     "output_type": "stream",
     "text": [
      "Best parameter (CV score=0.913):\n",
      "{'logistic__alpha': 0.00015848931924611142, 'pca__n_components': 30}\n"
     ]
    }
   ],
   "source": [
    "# 執行 GridSearchCV 跑出最佳參數\n",
    "param_grid = {\n",
    "    'pca__n_components': [4, 10, 20, 30, 40, 50, 64],\n",
    "    'logistic__alpha': np.logspace(-4, 1, 26),\n",
    "}\n",
    "search = GridSearchCV(pipe, param_grid, iid=False, cv=5, return_train_score=False)\n",
    "search.fit(X_digits, y_digits)\n",
    "print(\"Best parameter (CV score=%0.3f):\" % search.best_score_)\n",
    "print(search.best_params_)"
   ]
  },
  {
   "cell_type": "code",
   "execution_count": 73,
   "metadata": {},
   "outputs": [
    {
     "data": {
      "image/png": "[encoded data removed]",
      "text/plain": [
       "<Figure size 432x432 with 2 Axes>"
      ]
     },
     "metadata": {
      "needs_background": "light"
     },
     "output_type": "display_data"
    }
   ],
   "source": [
    "# 繪製不同 components 的 PCA explained variance ratio\n",
    "pca.fit(X_digits)\n",
    "\n",
    "fig, (ax0, ax1) = plt.subplots(nrows=2, sharex=True, figsize=(6, 6))\n",
    "ax0.plot(pca.explained_variance_ratio_, linewidth=2)\n",
    "ax0.set_ylabel('PCA explained variance')\n",
    "\n",
    "ax0.axvline(search.best_estimator_.named_steps['pca'].n_components, linestyle=':', label='n_components chosen')\n",
    "ax0.legend(prop=dict(size=12))\n",
    "\n",
    "# 繪製 7 個不同採樣點的 accuracy\n",
    "results = pd.DataFrame(search.cv_results_)\n",
    "components_col = 'param_pca__n_components'\n",
    "best_clfs = results.groupby(components_col).apply(lambda g: g.nlargest(1, 'mean_test_score'))\n",
    "\n",
    "best_clfs.plot(x=components_col, y='mean_test_score', yerr='std_test_score', legend=False, ax=ax1)\n",
    "ax1.set_ylabel('Classification accuracy (val)')\n",
    "ax1.set_xlabel('n_components')\n",
    "plt.tight_layout()\n",
    "plt.show()"
   ]
  },
  {
   "cell_type": "code",
   "execution_count": 74,
   "metadata": {},
   "outputs": [
    {
     "data": {
      "text/plain": [
       "param_pca__n_components    \n",
       "4                        70    0.773537\n",
       "10                       78    0.889189\n",
       "20                       79    0.910901\n",
       "30                       10    0.913250\n",
       "40                       74    0.912625\n",
       "50                       12    0.902152\n",
       "64                       13    0.905491\n",
       "Name: mean_test_score, dtype: float64"
      ]
     },
     "execution_count": 74,
     "metadata": {},
     "output_type": "execute_result"
    }
   ],
   "source": [
    "best_clfs['mean_test_score']"
   ]
  },
  {
   "cell_type": "code",
   "execution_count": 75,
   "metadata": {},
   "outputs": [
    {
     "data": {
      "text/plain": [
       "MultiIndex(levels=[[4, 10, 20, 30, 40, 50, 64], [10, 12, 13, 70, 74, 78, 79]],\n",
       "           labels=[[0, 1, 2, 3, 4, 5, 6], [3, 5, 6, 0, 4, 1, 2]],\n",
       "           names=['param_pca__n_components', None])"
      ]
     },
     "execution_count": 75,
     "metadata": {},
     "output_type": "execute_result"
    }
   ],
   "source": [
    "best_clfs.index"
   ]
  },
  {
   "cell_type": "code",
   "execution_count": 76,
   "metadata": {},
   "outputs": [
    {
     "data": {
      "text/plain": [
       "Index(['mean_fit_time', 'std_fit_time', 'mean_score_time', 'std_score_time',\n",
       "       'param_logistic__alpha', 'param_pca__n_components', 'params',\n",
       "       'split0_test_score', 'split1_test_score', 'split2_test_score',\n",
       "       'split3_test_score', 'split4_test_score', 'mean_test_score',\n",
       "       'std_test_score', 'rank_test_score'],\n",
       "      dtype='object')"
      ]
     },
     "execution_count": 76,
     "metadata": {},
     "output_type": "execute_result"
    }
   ],
   "source": [
    "results.columns"
   ]
  },
  {
   "cell_type": "code",
   "execution_count": 77,
   "metadata": {},
   "outputs": [
    {
     "data": {
      "text/html": [
       "<div>\n",
       "<style scoped>\n",
       "    .dataframe tbody tr th:only-of-type {\n",
       "        vertical-align: middle;\n",
       "    }\n",
       "\n",
       "    .dataframe tbody tr th {\n",
       "        vertical-align: top;\n",
       "    }\n",
       "\n",
       "    .dataframe thead th {\n",
       "        text-align: right;\n",
       "    }\n",
       "</style>\n",
       "<table border=\"1\" class=\"dataframe\">\n",
       "  <thead>\n",
       "    <tr style=\"text-align: right;\">\n",
       "      <th></th>\n",
       "      <th>param_pca__n_components</th>\n",
       "      <th>mean_test_score</th>\n",
       "      <th>split1_test_score</th>\n",
       "    </tr>\n",
       "  </thead>\n",
       "  <tbody>\n",
       "    <tr>\n",
       "      <th>0</th>\n",
       "      <td>4</td>\n",
       "      <td>0.671824</td>\n",
       "      <td>0.582873</td>\n",
       "    </tr>\n",
       "    <tr>\n",
       "      <th>1</th>\n",
       "      <td>10</td>\n",
       "      <td>0.874736</td>\n",
       "      <td>0.839779</td>\n",
       "    </tr>\n",
       "    <tr>\n",
       "      <th>2</th>\n",
       "      <td>20</td>\n",
       "      <td>0.903739</td>\n",
       "      <td>0.859116</td>\n",
       "    </tr>\n",
       "    <tr>\n",
       "      <th>3</th>\n",
       "      <td>30</td>\n",
       "      <td>0.910452</td>\n",
       "      <td>0.872928</td>\n",
       "    </tr>\n",
       "    <tr>\n",
       "      <th>4</th>\n",
       "      <td>40</td>\n",
       "      <td>0.907737</td>\n",
       "      <td>0.864641</td>\n",
       "    </tr>\n",
       "    <tr>\n",
       "      <th>5</th>\n",
       "      <td>50</td>\n",
       "      <td>0.901036</td>\n",
       "      <td>0.839779</td>\n",
       "    </tr>\n",
       "    <tr>\n",
       "      <th>6</th>\n",
       "      <td>64</td>\n",
       "      <td>0.905425</td>\n",
       "      <td>0.870166</td>\n",
       "    </tr>\n",
       "    <tr>\n",
       "      <th>7</th>\n",
       "      <td>4</td>\n",
       "      <td>0.673954</td>\n",
       "      <td>0.585635</td>\n",
       "    </tr>\n",
       "    <tr>\n",
       "      <th>8</th>\n",
       "      <td>10</td>\n",
       "      <td>0.874759</td>\n",
       "      <td>0.831492</td>\n",
       "    </tr>\n",
       "    <tr>\n",
       "      <th>9</th>\n",
       "      <td>20</td>\n",
       "      <td>0.900956</td>\n",
       "      <td>0.864641</td>\n",
       "    </tr>\n",
       "    <tr>\n",
       "      <th>10</th>\n",
       "      <td>30</td>\n",
       "      <td>0.913250</td>\n",
       "      <td>0.864641</td>\n",
       "    </tr>\n",
       "    <tr>\n",
       "      <th>11</th>\n",
       "      <td>40</td>\n",
       "      <td>0.909407</td>\n",
       "      <td>0.867403</td>\n",
       "    </tr>\n",
       "    <tr>\n",
       "      <th>12</th>\n",
       "      <td>50</td>\n",
       "      <td>0.902152</td>\n",
       "      <td>0.837017</td>\n",
       "    </tr>\n",
       "    <tr>\n",
       "      <th>13</th>\n",
       "      <td>64</td>\n",
       "      <td>0.905491</td>\n",
       "      <td>0.850829</td>\n",
       "    </tr>\n",
       "    <tr>\n",
       "      <th>14</th>\n",
       "      <td>4</td>\n",
       "      <td>0.670101</td>\n",
       "      <td>0.582873</td>\n",
       "    </tr>\n",
       "    <tr>\n",
       "      <th>15</th>\n",
       "      <td>10</td>\n",
       "      <td>0.869726</td>\n",
       "      <td>0.837017</td>\n",
       "    </tr>\n",
       "    <tr>\n",
       "      <th>16</th>\n",
       "      <td>20</td>\n",
       "      <td>0.900362</td>\n",
       "      <td>0.853591</td>\n",
       "    </tr>\n",
       "    <tr>\n",
       "      <th>17</th>\n",
       "      <td>30</td>\n",
       "      <td>0.912113</td>\n",
       "      <td>0.864641</td>\n",
       "    </tr>\n",
       "    <tr>\n",
       "      <th>18</th>\n",
       "      <td>40</td>\n",
       "      <td>0.909338</td>\n",
       "      <td>0.870166</td>\n",
       "    </tr>\n",
       "    <tr>\n",
       "      <th>19</th>\n",
       "      <td>50</td>\n",
       "      <td>0.895536</td>\n",
       "      <td>0.831492</td>\n",
       "    </tr>\n",
       "    <tr>\n",
       "      <th>20</th>\n",
       "      <td>64</td>\n",
       "      <td>0.900992</td>\n",
       "      <td>0.859116</td>\n",
       "    </tr>\n",
       "    <tr>\n",
       "      <th>21</th>\n",
       "      <td>4</td>\n",
       "      <td>0.680145</td>\n",
       "      <td>0.585635</td>\n",
       "    </tr>\n",
       "    <tr>\n",
       "      <th>22</th>\n",
       "      <td>10</td>\n",
       "      <td>0.876386</td>\n",
       "      <td>0.837017</td>\n",
       "    </tr>\n",
       "    <tr>\n",
       "      <th>23</th>\n",
       "      <td>20</td>\n",
       "      <td>0.900393</td>\n",
       "      <td>0.850829</td>\n",
       "    </tr>\n",
       "    <tr>\n",
       "      <th>24</th>\n",
       "      <td>30</td>\n",
       "      <td>0.906551</td>\n",
       "      <td>0.867403</td>\n",
       "    </tr>\n",
       "    <tr>\n",
       "      <th>25</th>\n",
       "      <td>40</td>\n",
       "      <td>0.906009</td>\n",
       "      <td>0.872928</td>\n",
       "    </tr>\n",
       "    <tr>\n",
       "      <th>26</th>\n",
       "      <td>50</td>\n",
       "      <td>0.896625</td>\n",
       "      <td>0.837017</td>\n",
       "    </tr>\n",
       "    <tr>\n",
       "      <th>27</th>\n",
       "      <td>64</td>\n",
       "      <td>0.897125</td>\n",
       "      <td>0.850829</td>\n",
       "    </tr>\n",
       "    <tr>\n",
       "      <th>28</th>\n",
       "      <td>4</td>\n",
       "      <td>0.664433</td>\n",
       "      <td>0.577348</td>\n",
       "    </tr>\n",
       "    <tr>\n",
       "      <th>29</th>\n",
       "      <td>10</td>\n",
       "      <td>0.874185</td>\n",
       "      <td>0.834254</td>\n",
       "    </tr>\n",
       "    <tr>\n",
       "      <th>...</th>\n",
       "      <td>...</td>\n",
       "      <td>...</td>\n",
       "      <td>...</td>\n",
       "    </tr>\n",
       "    <tr>\n",
       "      <th>152</th>\n",
       "      <td>50</td>\n",
       "      <td>0.185048</td>\n",
       "      <td>0.099448</td>\n",
       "    </tr>\n",
       "    <tr>\n",
       "      <th>153</th>\n",
       "      <td>64</td>\n",
       "      <td>0.185048</td>\n",
       "      <td>0.099448</td>\n",
       "    </tr>\n",
       "    <tr>\n",
       "      <th>154</th>\n",
       "      <td>4</td>\n",
       "      <td>0.100164</td>\n",
       "      <td>0.099448</td>\n",
       "    </tr>\n",
       "    <tr>\n",
       "      <th>155</th>\n",
       "      <td>10</td>\n",
       "      <td>0.099066</td>\n",
       "      <td>0.099448</td>\n",
       "    </tr>\n",
       "    <tr>\n",
       "      <th>156</th>\n",
       "      <td>20</td>\n",
       "      <td>0.099066</td>\n",
       "      <td>0.099448</td>\n",
       "    </tr>\n",
       "    <tr>\n",
       "      <th>157</th>\n",
       "      <td>30</td>\n",
       "      <td>0.099066</td>\n",
       "      <td>0.099448</td>\n",
       "    </tr>\n",
       "    <tr>\n",
       "      <th>158</th>\n",
       "      <td>40</td>\n",
       "      <td>0.099066</td>\n",
       "      <td>0.099448</td>\n",
       "    </tr>\n",
       "    <tr>\n",
       "      <th>159</th>\n",
       "      <td>50</td>\n",
       "      <td>0.099066</td>\n",
       "      <td>0.099448</td>\n",
       "    </tr>\n",
       "    <tr>\n",
       "      <th>160</th>\n",
       "      <td>64</td>\n",
       "      <td>0.099066</td>\n",
       "      <td>0.099448</td>\n",
       "    </tr>\n",
       "    <tr>\n",
       "      <th>161</th>\n",
       "      <td>4</td>\n",
       "      <td>0.100164</td>\n",
       "      <td>0.099448</td>\n",
       "    </tr>\n",
       "    <tr>\n",
       "      <th>162</th>\n",
       "      <td>10</td>\n",
       "      <td>0.100164</td>\n",
       "      <td>0.099448</td>\n",
       "    </tr>\n",
       "    <tr>\n",
       "      <th>163</th>\n",
       "      <td>20</td>\n",
       "      <td>0.100164</td>\n",
       "      <td>0.099448</td>\n",
       "    </tr>\n",
       "    <tr>\n",
       "      <th>164</th>\n",
       "      <td>30</td>\n",
       "      <td>0.100164</td>\n",
       "      <td>0.099448</td>\n",
       "    </tr>\n",
       "    <tr>\n",
       "      <th>165</th>\n",
       "      <td>40</td>\n",
       "      <td>0.100164</td>\n",
       "      <td>0.099448</td>\n",
       "    </tr>\n",
       "    <tr>\n",
       "      <th>166</th>\n",
       "      <td>50</td>\n",
       "      <td>0.100164</td>\n",
       "      <td>0.099448</td>\n",
       "    </tr>\n",
       "    <tr>\n",
       "      <th>167</th>\n",
       "      <td>64</td>\n",
       "      <td>0.100164</td>\n",
       "      <td>0.099448</td>\n",
       "    </tr>\n",
       "    <tr>\n",
       "      <th>168</th>\n",
       "      <td>4</td>\n",
       "      <td>0.100164</td>\n",
       "      <td>0.099448</td>\n",
       "    </tr>\n",
       "    <tr>\n",
       "      <th>169</th>\n",
       "      <td>10</td>\n",
       "      <td>0.100164</td>\n",
       "      <td>0.099448</td>\n",
       "    </tr>\n",
       "    <tr>\n",
       "      <th>170</th>\n",
       "      <td>20</td>\n",
       "      <td>0.100164</td>\n",
       "      <td>0.099448</td>\n",
       "    </tr>\n",
       "    <tr>\n",
       "      <th>171</th>\n",
       "      <td>30</td>\n",
       "      <td>0.100164</td>\n",
       "      <td>0.099448</td>\n",
       "    </tr>\n",
       "    <tr>\n",
       "      <th>172</th>\n",
       "      <td>40</td>\n",
       "      <td>0.100164</td>\n",
       "      <td>0.099448</td>\n",
       "    </tr>\n",
       "    <tr>\n",
       "      <th>173</th>\n",
       "      <td>50</td>\n",
       "      <td>0.100164</td>\n",
       "      <td>0.099448</td>\n",
       "    </tr>\n",
       "    <tr>\n",
       "      <th>174</th>\n",
       "      <td>64</td>\n",
       "      <td>0.100164</td>\n",
       "      <td>0.099448</td>\n",
       "    </tr>\n",
       "    <tr>\n",
       "      <th>175</th>\n",
       "      <td>4</td>\n",
       "      <td>0.100164</td>\n",
       "      <td>0.099448</td>\n",
       "    </tr>\n",
       "    <tr>\n",
       "      <th>176</th>\n",
       "      <td>10</td>\n",
       "      <td>0.100164</td>\n",
       "      <td>0.099448</td>\n",
       "    </tr>\n",
       "    <tr>\n",
       "      <th>177</th>\n",
       "      <td>20</td>\n",
       "      <td>0.100164</td>\n",
       "      <td>0.099448</td>\n",
       "    </tr>\n",
       "    <tr>\n",
       "      <th>178</th>\n",
       "      <td>30</td>\n",
       "      <td>0.100164</td>\n",
       "      <td>0.099448</td>\n",
       "    </tr>\n",
       "    <tr>\n",
       "      <th>179</th>\n",
       "      <td>40</td>\n",
       "      <td>0.100164</td>\n",
       "      <td>0.099448</td>\n",
       "    </tr>\n",
       "    <tr>\n",
       "      <th>180</th>\n",
       "      <td>50</td>\n",
       "      <td>0.100164</td>\n",
       "      <td>0.099448</td>\n",
       "    </tr>\n",
       "    <tr>\n",
       "      <th>181</th>\n",
       "      <td>64</td>\n",
       "      <td>0.100164</td>\n",
       "      <td>0.099448</td>\n",
       "    </tr>\n",
       "  </tbody>\n",
       "</table>\n",
       "<p>182 rows × 3 columns</p>\n",
       "</div>"
      ],
      "text/plain": [
       "    param_pca__n_components  mean_test_score  split1_test_score\n",
       "0                         4         0.671824           0.582873\n",
       "1                        10         0.874736           0.839779\n",
       "2                        20         0.903739           0.859116\n",
       "3                        30         0.910452           0.872928\n",
       "4                        40         0.907737           0.864641\n",
       "5                        50         0.901036           0.839779\n",
       "6                        64         0.905425           0.870166\n",
       "7                         4         0.673954           0.585635\n",
       "8                        10         0.874759           0.831492\n",
       "9                        20         0.900956           0.864641\n",
       "10                       30         0.913250           0.864641\n",
       "11                       40         0.909407           0.867403\n",
       "12                       50         0.902152           0.837017\n",
       "13                       64         0.905491           0.850829\n",
       "14                        4         0.670101           0.582873\n",
       "15                       10         0.869726           0.837017\n",
       "16                       20         0.900362           0.853591\n",
       "17                       30         0.912113           0.864641\n",
       "18                       40         0.909338           0.870166\n",
       "19                       50         0.895536           0.831492\n",
       "20                       64         0.900992           0.859116\n",
       "21                        4         0.680145           0.585635\n",
       "22                       10         0.876386           0.837017\n",
       "23                       20         0.900393           0.850829\n",
       "24                       30         0.906551           0.867403\n",
       "25                       40         0.906009           0.872928\n",
       "26                       50         0.896625           0.837017\n",
       "27                       64         0.897125           0.850829\n",
       "28                        4         0.664433           0.577348\n",
       "29                       10         0.874185           0.834254\n",
       "..                      ...              ...                ...\n",
       "152                      50         0.185048           0.099448\n",
       "153                      64         0.185048           0.099448\n",
       "154                       4         0.100164           0.099448\n",
       "155                      10         0.099066           0.099448\n",
       "156                      20         0.099066           0.099448\n",
       "157                      30         0.099066           0.099448\n",
       "158                      40         0.099066           0.099448\n",
       "159                      50         0.099066           0.099448\n",
       "160                      64         0.099066           0.099448\n",
       "161                       4         0.100164           0.099448\n",
       "162                      10         0.100164           0.099448\n",
       "163                      20         0.100164           0.099448\n",
       "164                      30         0.100164           0.099448\n",
       "165                      40         0.100164           0.099448\n",
       "166                      50         0.100164           0.099448\n",
       "167                      64         0.100164           0.099448\n",
       "168                       4         0.100164           0.099448\n",
       "169                      10         0.100164           0.099448\n",
       "170                      20         0.100164           0.099448\n",
       "171                      30         0.100164           0.099448\n",
       "172                      40         0.100164           0.099448\n",
       "173                      50         0.100164           0.099448\n",
       "174                      64         0.100164           0.099448\n",
       "175                       4         0.100164           0.099448\n",
       "176                      10         0.100164           0.099448\n",
       "177                      20         0.100164           0.099448\n",
       "178                      30         0.100164           0.099448\n",
       "179                      40         0.100164           0.099448\n",
       "180                      50         0.100164           0.099448\n",
       "181                      64         0.100164           0.099448\n",
       "\n",
       "[182 rows x 3 columns]"
      ]
     },
     "execution_count": 77,
     "metadata": {},
     "output_type": "execute_result"
    }
   ],
   "source": [
    "results[['param_pca__n_components','mean_test_score','split1_test_score']]"
   ]
  },
  {
   "cell_type": "code",
   "execution_count": 78,
   "metadata": {},
   "outputs": [
    {
     "data": {
      "text/plain": [
       "<matplotlib.axes._subplots.AxesSubplot at 0x1a1f933400>"
      ]
     },
     "execution_count": 78,
     "metadata": {},
     "output_type": "execute_result"
    },
    {
     "data": {
      "image/png": "[encoded data removed]",
      "text/plain": [
       "<Figure size 432x288 with 1 Axes>"
      ]
     },
     "metadata": {
      "needs_background": "light"
     },
     "output_type": "display_data"
    }
   ],
   "source": [
    "results.plot.line(x='param_pca__n_components', y=['mean_test_score', 'split0_test_score'])\n",
    "#plt.tight_layout()\n",
    "#plt.show()"
   ]
  },
  {
   "cell_type": "code",
   "execution_count": 79,
   "metadata": {},
   "outputs": [
    {
     "data": {
      "text/plain": [
       "array([4, 10, 20, 30, 40, 50, 64, 4, 10, 20, 30, 40, 50, 64, 4, 10, 20,\n",
       "       30, 40, 50, 64, 4, 10, 20, 30, 40, 50, 64, 4, 10, 20, 30, 40, 50,\n",
       "       64, 4, 10, 20, 30, 40, 50, 64, 4, 10, 20, 30, 40, 50, 64, 4, 10,\n",
       "       20, 30, 40, 50, 64, 4, 10, 20, 30, 40, 50, 64, 4, 10, 20, 30, 40,\n",
       "       50, 64, 4, 10, 20, 30, 40, 50, 64, 4, 10, 20, 30, 40, 50, 64, 4,\n",
       "       10, 20, 30, 40, 50, 64, 4, 10, 20, 30, 40, 50, 64, 4, 10, 20, 30,\n",
       "       40, 50, 64, 4, 10, 20, 30, 40, 50, 64, 4, 10, 20, 30, 40, 50, 64,\n",
       "       4, 10, 20, 30, 40, 50, 64, 4, 10, 20, 30, 40, 50, 64, 4, 10, 20,\n",
       "       30, 40, 50, 64, 4, 10, 20, 30, 40, 50, 64, 4, 10, 20, 30, 40, 50,\n",
       "       64, 4, 10, 20, 30, 40, 50, 64, 4, 10, 20, 30, 40, 50, 64, 4, 10,\n",
       "       20, 30, 40, 50, 64, 4, 10, 20, 30, 40, 50, 64], dtype=object)"
      ]
     },
     "execution_count": 79,
     "metadata": {},
     "output_type": "execute_result"
    }
   ],
   "source": [
    "results['param_pca__n_components'].values"
   ]
  },
  {
   "cell_type": "code",
   "execution_count": 80,
   "metadata": {},
   "outputs": [
    {
     "data": {
      "text/plain": [
       "array([1.e-04, 1.e-02, 1.e+00, 1.e+02, 1.e+04])"
      ]
     },
     "execution_count": 80,
     "metadata": {},
     "output_type": "execute_result"
    }
   ],
   "source": [
    "np.logspace(-4, 4, 5)"
   ]
  },
  {
   "cell_type": "code",
   "execution_count": 81,
   "metadata": {},
   "outputs": [
    {
     "data": {
      "image/png": "[encoded data removed]",
      "text/plain": [
       "<Figure size 432x288 with 1 Axes>"
      ]
     },
     "metadata": {
      "needs_background": "light"
     },
     "output_type": "display_data"
    }
   ],
   "source": [
    "from mpl_toolkits.mplot3d import Axes3D\n",
    "from matplotlib import cm\n",
    "\n",
    "Y=results['param_pca__n_components']\n",
    "X=results['param_logistic__alpha']\n",
    "Z=results['mean_test_score']\n",
    "fig = plt.figure()\n",
    "ax = Axes3D(fig)\n",
    "ax.set_ylabel('pca__n_components')\n",
    "ax.set_xlabel('logistic__alpha')\n",
    "surf = ax.scatter(X, Y, Z, linewidth=0, antialiased=False)"
   ]
  },
  {
   "cell_type": "code",
   "execution_count": null,
   "metadata": {},
   "outputs": [],
   "source": []
  }
 ],
 "metadata": {
  "kernelspec": {
   "display_name": "Python 3",
   "language": "python",
   "name": "python3"
  },
  "language_info": {
   "codemirror_mode": {
    "name": "ipython",
    "version": 3
   },
   "file_extension": ".py",
   "mimetype": "text/x-python",
   "name": "python",
   "nbconvert_exporter": "python",
   "pygments_lexer": "ipython3",
   "version": "3.7.1"
  }
 },
 "nbformat": 4,
 "nbformat_minor": 1
}
